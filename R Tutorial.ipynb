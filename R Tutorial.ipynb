{
 "cells": [
  {
   "cell_type": "markdown",
   "metadata": {},
   "source": [
    "Contents of this tutorial are partly taken from the course created by Barton Poulson titled as \"R Programming Tutorial - Learn the Basics of Statistical Computing\". The link to the youtube video is https://www.youtube.com/watch?v=_V8eKsto3Ug. New contents are added to further improve the coverage of materials."
   ]
  },
  {
   "cell_type": "code",
   "execution_count": 3,
   "metadata": {},
   "outputs": [],
   "source": [
    "library(ggplot2)"
   ]
  },
  {
   "cell_type": "code",
   "execution_count": 22,
   "metadata": {},
   "outputs": [
    {
     "data": {
      "text/html": [
       "<table>\n",
       "<thead><tr><th scope=col>Sepal.Length</th><th scope=col>Sepal.Width</th><th scope=col>Petal.Length</th><th scope=col>Petal.Width</th><th scope=col>Species</th></tr></thead>\n",
       "<tbody>\n",
       "\t<tr><td>5.1   </td><td>3.5   </td><td>1.4   </td><td>0.2   </td><td>setosa</td></tr>\n",
       "\t<tr><td>4.9   </td><td>3.0   </td><td>1.4   </td><td>0.2   </td><td>setosa</td></tr>\n",
       "\t<tr><td>4.7   </td><td>3.2   </td><td>1.3   </td><td>0.2   </td><td>setosa</td></tr>\n",
       "\t<tr><td>4.6   </td><td>3.1   </td><td>1.5   </td><td>0.2   </td><td>setosa</td></tr>\n",
       "\t<tr><td>5.0   </td><td>3.6   </td><td>1.4   </td><td>0.2   </td><td>setosa</td></tr>\n",
       "\t<tr><td>5.4   </td><td>3.9   </td><td>1.7   </td><td>0.4   </td><td>setosa</td></tr>\n",
       "\t<tr><td>4.6   </td><td>3.4   </td><td>1.4   </td><td>0.3   </td><td>setosa</td></tr>\n",
       "\t<tr><td>5.0   </td><td>3.4   </td><td>1.5   </td><td>0.2   </td><td>setosa</td></tr>\n",
       "\t<tr><td>4.4   </td><td>2.9   </td><td>1.4   </td><td>0.2   </td><td>setosa</td></tr>\n",
       "\t<tr><td>4.9   </td><td>3.1   </td><td>1.5   </td><td>0.1   </td><td>setosa</td></tr>\n",
       "</tbody>\n",
       "</table>\n"
      ],
      "text/latex": [
       "\\begin{tabular}{r|lllll}\n",
       " Sepal.Length & Sepal.Width & Petal.Length & Petal.Width & Species\\\\\n",
       "\\hline\n",
       "\t 5.1    & 3.5    & 1.4    & 0.2    & setosa\\\\\n",
       "\t 4.9    & 3.0    & 1.4    & 0.2    & setosa\\\\\n",
       "\t 4.7    & 3.2    & 1.3    & 0.2    & setosa\\\\\n",
       "\t 4.6    & 3.1    & 1.5    & 0.2    & setosa\\\\\n",
       "\t 5.0    & 3.6    & 1.4    & 0.2    & setosa\\\\\n",
       "\t 5.4    & 3.9    & 1.7    & 0.4    & setosa\\\\\n",
       "\t 4.6    & 3.4    & 1.4    & 0.3    & setosa\\\\\n",
       "\t 5.0    & 3.4    & 1.5    & 0.2    & setosa\\\\\n",
       "\t 4.4    & 2.9    & 1.4    & 0.2    & setosa\\\\\n",
       "\t 4.9    & 3.1    & 1.5    & 0.1    & setosa\\\\\n",
       "\\end{tabular}\n"
      ],
      "text/markdown": [
       "\n",
       "| Sepal.Length | Sepal.Width | Petal.Length | Petal.Width | Species |\n",
       "|---|---|---|---|---|\n",
       "| 5.1    | 3.5    | 1.4    | 0.2    | setosa |\n",
       "| 4.9    | 3.0    | 1.4    | 0.2    | setosa |\n",
       "| 4.7    | 3.2    | 1.3    | 0.2    | setosa |\n",
       "| 4.6    | 3.1    | 1.5    | 0.2    | setosa |\n",
       "| 5.0    | 3.6    | 1.4    | 0.2    | setosa |\n",
       "| 5.4    | 3.9    | 1.7    | 0.4    | setosa |\n",
       "| 4.6    | 3.4    | 1.4    | 0.3    | setosa |\n",
       "| 5.0    | 3.4    | 1.5    | 0.2    | setosa |\n",
       "| 4.4    | 2.9    | 1.4    | 0.2    | setosa |\n",
       "| 4.9    | 3.1    | 1.5    | 0.1    | setosa |\n",
       "\n"
      ],
      "text/plain": [
       "   Sepal.Length Sepal.Width Petal.Length Petal.Width Species\n",
       "1  5.1          3.5         1.4          0.2         setosa \n",
       "2  4.9          3.0         1.4          0.2         setosa \n",
       "3  4.7          3.2         1.3          0.2         setosa \n",
       "4  4.6          3.1         1.5          0.2         setosa \n",
       "5  5.0          3.6         1.4          0.2         setosa \n",
       "6  5.4          3.9         1.7          0.4         setosa \n",
       "7  4.6          3.4         1.4          0.3         setosa \n",
       "8  5.0          3.4         1.5          0.2         setosa \n",
       "9  4.4          2.9         1.4          0.2         setosa \n",
       "10 4.9          3.1         1.5          0.1         setosa "
      ]
     },
     "metadata": {},
     "output_type": "display_data"
    }
   ],
   "source": [
    "head(iris, n = 10L)"
   ]
  },
  {
   "cell_type": "code",
   "execution_count": 23,
   "metadata": {},
   "outputs": [
    {
     "data": {
      "image/png": "[encoded data removed]",
      "text/plain": [
       "plot without title"
      ]
     },
     "metadata": {},
     "output_type": "display_data"
    }
   ],
   "source": [
    "ggplot(data=iris, aes(x=Sepal.Length, y=Sepal.Width, color=Species))+\n",
    "geom_point(size=3)"
   ]
  },
  {
   "cell_type": "code",
   "execution_count": 26,
   "metadata": {},
   "outputs": [
    {
     "data": {
      "text/plain": [
       "  Sepal.Length    Sepal.Width     Petal.Length    Petal.Width   \n",
       " Min.   :4.300   Min.   :2.000   Min.   :1.000   Min.   :0.100  \n",
       " 1st Qu.:5.100   1st Qu.:2.800   1st Qu.:1.600   1st Qu.:0.300  \n",
       " Median :5.800   Median :3.000   Median :4.350   Median :1.300  \n",
       " Mean   :5.843   Mean   :3.057   Mean   :3.758   Mean   :1.199  \n",
       " 3rd Qu.:6.400   3rd Qu.:3.300   3rd Qu.:5.100   3rd Qu.:1.800  \n",
       " Max.   :7.900   Max.   :4.400   Max.   :6.900   Max.   :2.500  \n",
       "       Species  \n",
       " setosa    :50  \n",
       " versicolor:50  \n",
       " virginica :50  \n",
       "                \n",
       "                \n",
       "                "
      ]
     },
     "metadata": {},
     "output_type": "display_data"
    },
    {
     "data": {
      "image/png": "[encoded data removed]",
      "text/plain": [
       "plot without title"
      ]
     },
     "metadata": {},
     "output_type": "display_data"
    }
   ],
   "source": [
    "summary(iris)\n",
    "plot(iris)"
   ]
  },
  {
   "cell_type": "markdown",
   "metadata": {},
   "source": [
    "## Packages\n",
    "dyplyr - manipulating data frames\n",
    "tydyr - cleaning up information\n",
    "stringr - working with string\n",
    "lubridate - manipulating date information\n",
    "httr - working with website data\n",
    "ggvis - grammar for graphics/ interactive visualization\n",
    "ggplot2 - plotting data\n",
    "shiny - interactive web applications\n",
    "rio - R input output\n",
    "rmarkdown - interactive or rich notebooks\n",
    "\n",
    "One package to load all the files: pacman"
   ]
  },
  {
   "cell_type": "code",
   "execution_count": 30,
   "metadata": {},
   "outputs": [
    {
     "data": {
      "image/png": "[encoded data removed]",
      "text/plain": [
       "plot without title"
      ]
     },
     "metadata": {},
     "output_type": "display_data"
    }
   ],
   "source": [
    "library(dplyr)\n",
    "plot(iris$Species)"
   ]
  },
  {
   "cell_type": "code",
   "execution_count": 31,
   "metadata": {},
   "outputs": [
    {
     "data": {
      "image/png": "[encoded data removed]",
      "text/plain": [
       "plot without title"
      ]
     },
     "metadata": {},
     "output_type": "display_data"
    }
   ],
   "source": [
    "plot(iris$Sepal.Length)"
   ]
  },
  {
   "cell_type": "code",
   "execution_count": 35,
   "metadata": {},
   "outputs": [
    {
     "data": {
      "image/png": "[encoded data removed]",
      "text/plain": [
       "plot without title"
      ]
     },
     "metadata": {},
     "output_type": "display_data"
    }
   ],
   "source": [
    "plot(iris$Sepal.Length, iris$Sepal.Width, col=iris$Species)"
   ]
  },
  {
   "cell_type": "code",
   "execution_count": 37,
   "metadata": {},
   "outputs": [
    {
     "data": {
      "image/png": "[encoded data removed]",
      "text/plain": [
       "plot without title"
      ]
     },
     "metadata": {},
     "output_type": "display_data"
    }
   ],
   "source": [
    "plot(iris$Species, iris$Sepal.Length)"
   ]
  },
  {
   "cell_type": "code",
   "execution_count": 44,
   "metadata": {},
   "outputs": [
    {
     "data": {
      "image/png": "[encoded data removed]",
      "text/plain": [
       "Plot with title \"Correlation Scatterplot\""
      ]
     },
     "metadata": {},
     "output_type": "display_data"
    }
   ],
   "source": [
    "plot(iris$Petal.Length, iris$Petal.Width, col=\"#CC0000\", pch=19, main=\"Correlation Scatterplot\", xlab=\"Feature 1\", ylab=\"Feature 2\")"
   ]
  },
  {
   "cell_type": "code",
   "execution_count": 46,
   "metadata": {},
   "outputs": [
    {
     "data": {
      "image/png": "[encoded data removed]",
      "text/plain": [
       "plot without title"
      ]
     },
     "metadata": {},
     "output_type": "display_data"
    },
    {
     "data": {
      "image/png": "[encoded data removed]",
      "text/plain": [
       "plot without title"
      ]
     },
     "metadata": {},
     "output_type": "display_data"
    },
    {
     "data": {
      "image/png": "[encoded data removed]",
      "text/plain": [
       "Plot with title \"Normal Distribution\""
      ]
     },
     "metadata": {},
     "output_type": "display_data"
    }
   ],
   "source": [
    "plot(cos, 0, 2*pi)\n",
    "plot(exp, 0, 9)\n",
    "plot(dnorm, 0, 3, col='blue', lwd=5, main='Normal Distribution', xlab='z-scores', ylab='density')"
   ]
  },
  {
   "cell_type": "code",
   "execution_count": 47,
   "metadata": {},
   "outputs": [
    {
     "data": {
      "text/html": [
       "<table>\n",
       "<thead><tr><th></th><th scope=col>mpg</th><th scope=col>cyl</th><th scope=col>disp</th><th scope=col>hp</th><th scope=col>drat</th><th scope=col>wt</th><th scope=col>qsec</th><th scope=col>vs</th><th scope=col>am</th><th scope=col>gear</th><th scope=col>carb</th></tr></thead>\n",
       "<tbody>\n",
       "\t<tr><th scope=row>Mazda RX4</th><td>21.0 </td><td>6    </td><td>160  </td><td>110  </td><td>3.90 </td><td>2.620</td><td>16.46</td><td>0    </td><td>1    </td><td>4    </td><td>4    </td></tr>\n",
       "\t<tr><th scope=row>Mazda RX4 Wag</th><td>21.0 </td><td>6    </td><td>160  </td><td>110  </td><td>3.90 </td><td>2.875</td><td>17.02</td><td>0    </td><td>1    </td><td>4    </td><td>4    </td></tr>\n",
       "\t<tr><th scope=row>Datsun 710</th><td>22.8 </td><td>4    </td><td>108  </td><td> 93  </td><td>3.85 </td><td>2.320</td><td>18.61</td><td>1    </td><td>1    </td><td>4    </td><td>1    </td></tr>\n",
       "\t<tr><th scope=row>Hornet 4 Drive</th><td>21.4 </td><td>6    </td><td>258  </td><td>110  </td><td>3.08 </td><td>3.215</td><td>19.44</td><td>1    </td><td>0    </td><td>3    </td><td>1    </td></tr>\n",
       "\t<tr><th scope=row>Hornet Sportabout</th><td>18.7 </td><td>8    </td><td>360  </td><td>175  </td><td>3.15 </td><td>3.440</td><td>17.02</td><td>0    </td><td>0    </td><td>3    </td><td>2    </td></tr>\n",
       "\t<tr><th scope=row>Valiant</th><td>18.1 </td><td>6    </td><td>225  </td><td>105  </td><td>2.76 </td><td>3.460</td><td>20.22</td><td>1    </td><td>0    </td><td>3    </td><td>1    </td></tr>\n",
       "</tbody>\n",
       "</table>\n"
      ],
      "text/latex": [
       "\\begin{tabular}{r|lllllllllll}\n",
       "  & mpg & cyl & disp & hp & drat & wt & qsec & vs & am & gear & carb\\\\\n",
       "\\hline\n",
       "\tMazda RX4 & 21.0  & 6     & 160   & 110   & 3.90  & 2.620 & 16.46 & 0     & 1     & 4     & 4    \\\\\n",
       "\tMazda RX4 Wag & 21.0  & 6     & 160   & 110   & 3.90  & 2.875 & 17.02 & 0     & 1     & 4     & 4    \\\\\n",
       "\tDatsun 710 & 22.8  & 4     & 108   &  93   & 3.85  & 2.320 & 18.61 & 1     & 1     & 4     & 1    \\\\\n",
       "\tHornet 4 Drive & 21.4  & 6     & 258   & 110   & 3.08  & 3.215 & 19.44 & 1     & 0     & 3     & 1    \\\\\n",
       "\tHornet Sportabout & 18.7  & 8     & 360   & 175   & 3.15  & 3.440 & 17.02 & 0     & 0     & 3     & 2    \\\\\n",
       "\tValiant & 18.1  & 6     & 225   & 105   & 2.76  & 3.460 & 20.22 & 1     & 0     & 3     & 1    \\\\\n",
       "\\end{tabular}\n"
      ],
      "text/markdown": [
       "\n",
       "| <!--/--> | mpg | cyl | disp | hp | drat | wt | qsec | vs | am | gear | carb |\n",
       "|---|---|---|---|---|---|---|---|---|---|---|---|\n",
       "| Mazda RX4 | 21.0  | 6     | 160   | 110   | 3.90  | 2.620 | 16.46 | 0     | 1     | 4     | 4     |\n",
       "| Mazda RX4 Wag | 21.0  | 6     | 160   | 110   | 3.90  | 2.875 | 17.02 | 0     | 1     | 4     | 4     |\n",
       "| Datsun 710 | 22.8  | 4     | 108   |  93   | 3.85  | 2.320 | 18.61 | 1     | 1     | 4     | 1     |\n",
       "| Hornet 4 Drive | 21.4  | 6     | 258   | 110   | 3.08  | 3.215 | 19.44 | 1     | 0     | 3     | 1     |\n",
       "| Hornet Sportabout | 18.7  | 8     | 360   | 175   | 3.15  | 3.440 | 17.02 | 0     | 0     | 3     | 2     |\n",
       "| Valiant | 18.1  | 6     | 225   | 105   | 2.76  | 3.460 | 20.22 | 1     | 0     | 3     | 1     |\n",
       "\n"
      ],
      "text/plain": [
       "                  mpg  cyl disp hp  drat wt    qsec  vs am gear carb\n",
       "Mazda RX4         21.0 6   160  110 3.90 2.620 16.46 0  1  4    4   \n",
       "Mazda RX4 Wag     21.0 6   160  110 3.90 2.875 17.02 0  1  4    4   \n",
       "Datsun 710        22.8 4   108   93 3.85 2.320 18.61 1  1  4    1   \n",
       "Hornet 4 Drive    21.4 6   258  110 3.08 3.215 19.44 1  0  3    1   \n",
       "Hornet Sportabout 18.7 8   360  175 3.15 3.440 17.02 0  0  3    2   \n",
       "Valiant           18.1 6   225  105 2.76 3.460 20.22 1  0  3    1   "
      ]
     },
     "metadata": {},
     "output_type": "display_data"
    }
   ],
   "source": [
    "head(mtcars)"
   ]
  },
  {
   "cell_type": "code",
   "execution_count": 52,
   "metadata": {},
   "outputs": [
    {
     "data": {
      "image/png": "[encoded data removed]",
      "text/plain": [
       "plot without title"
      ]
     },
     "metadata": {},
     "output_type": "display_data"
    }
   ],
   "source": [
    "plot(mtcars, pch=19, col='red')"
   ]
  },
  {
   "cell_type": "code",
   "execution_count": 60,
   "metadata": {},
   "outputs": [
    {
     "data": {
      "image/png": "[encoded data removed]",
      "text/plain": [
       "plot without title"
      ]
     },
     "metadata": {},
     "output_type": "display_data"
    }
   ],
   "source": [
    "hp <- table(mtcars$hp)\n",
    "barplot(hp, col='red')"
   ]
  },
  {
   "cell_type": "code",
   "execution_count": 70,
   "metadata": {},
   "outputs": [
    {
     "data": {
      "image/png": "[encoded data removed]",
      "text/plain": [
       "Plot with title \"Histogram of mtcars$mpg\""
      ]
     },
     "metadata": {},
     "output_type": "display_data"
    },
    {
     "data": {
      "image/png": "[encoded data removed]",
      "text/plain": [
       "Plot with title \"Histogram of mtcars$cyl\""
      ]
     },
     "metadata": {},
     "output_type": "display_data"
    },
    {
     "data": {
      "image/png": "[encoded data removed]",
      "text/plain": [
       "Plot with title \"Histogram of mtcars$disp\""
      ]
     },
     "metadata": {},
     "output_type": "display_data"
    },
    {
     "data": {
      "image/png": "[encoded data removed]",
      "text/plain": [
       "Plot with title \"Histogram of mtcars$hp\""
      ]
     },
     "metadata": {},
     "output_type": "display_data"
    }
   ],
   "source": [
    "hist(mtcars$mpg, col='red')\n",
    "hist(mtcars$cyl, col='green')\n",
    "hist(mtcars$disp, col='blue')\n",
    "hist(mtcars$hp, col='black')"
   ]
  },
  {
   "cell_type": "code",
   "execution_count": 76,
   "metadata": {},
   "outputs": [
    {
     "data": {
      "image/png": "[encoded data removed]",
      "text/plain": [
       "Plot with title \"Histogram of mtcars$hp[mtcars$vs == 1]\""
      ]
     },
     "metadata": {},
     "output_type": "display_data"
    }
   ],
   "source": [
    "par(mfrow=c(2, 1))\n",
    "hist(mtcars$hp [mtcars$vs==0], xlim=c(50, 350), col='red')\n",
    "hist(mtcars$hp [mtcars$vs==1], xlim=c(50, 350), col='green')\n",
    "# vs - Engine Shape (0 = V-Shaped, 1 = Straight)"
   ]
  },
  {
   "cell_type": "code",
   "execution_count": 93,
   "metadata": {},
   "outputs": [
    {
     "data": {
      "image/png": "[encoded data removed]",
      "text/plain": [
       "Plot with title \"Histogram of mtcars$disp\""
      ]
     },
     "metadata": {},
     "output_type": "display_data"
    }
   ],
   "source": [
    "hist(mtcars$disp, freq=FALSE)\n",
    "curve(dnorm(x, mean(mtcars$disp), sd(mtcars$disp)), add=TRUE, col='blue', lwd=5)\n",
    "lines(density(mtcars$disp), lwd=5, col='red')\n",
    "lines(density(mtcars$disp, adjust=2), lwd=5, col='green')"
   ]
  },
  {
   "cell_type": "code",
   "execution_count": 97,
   "metadata": {},
   "outputs": [
    {
     "data": {
      "text/plain": [
       "   Min. 1st Qu.  Median    Mean 3rd Qu.    Max. \n",
       "  2.000   2.800   3.000   3.057   3.300   4.400 "
      ]
     },
     "metadata": {},
     "output_type": "display_data"
    },
    {
     "data": {
      "text/plain": [
       "  Sepal.Length    Sepal.Width     Petal.Length    Petal.Width   \n",
       " Min.   :4.300   Min.   :2.000   Min.   :1.000   Min.   :0.100  \n",
       " 1st Qu.:5.100   1st Qu.:2.800   1st Qu.:1.600   1st Qu.:0.300  \n",
       " Median :5.800   Median :3.000   Median :4.350   Median :1.300  \n",
       " Mean   :5.843   Mean   :3.057   Mean   :3.758   Mean   :1.199  \n",
       " 3rd Qu.:6.400   3rd Qu.:3.300   3rd Qu.:5.100   3rd Qu.:1.800  \n",
       " Max.   :7.900   Max.   :4.400   Max.   :6.900   Max.   :2.500  \n",
       "       Species  \n",
       " setosa    :50  \n",
       " versicolor:50  \n",
       " virginica :50  \n",
       "                \n",
       "                \n",
       "                "
      ]
     },
     "metadata": {},
     "output_type": "display_data"
    },
    {
     "data": {
      "image/png": "[encoded data removed]",
      "text/plain": [
       "plot without title"
      ]
     },
     "metadata": {},
     "output_type": "display_data"
    }
   ],
   "source": [
    "summary(iris$Sepal.Width)\n",
    "summary(iris)\n",
    "barplot(summary(iris$Species))"
   ]
  },
  {
   "cell_type": "code",
   "execution_count": 100,
   "metadata": {},
   "outputs": [
    {
     "data": {
      "text/html": [
       "<table>\n",
       "<thead><tr><th></th><th scope=col>vars</th><th scope=col>n</th><th scope=col>mean</th><th scope=col>sd</th><th scope=col>median</th><th scope=col>trimmed</th><th scope=col>mad</th><th scope=col>min</th><th scope=col>max</th><th scope=col>range</th><th scope=col>skew</th><th scope=col>kurtosis</th><th scope=col>se</th></tr></thead>\n",
       "<tbody>\n",
       "\t<tr><th scope=row>X1</th><td>1         </td><td>150       </td><td>3.057333  </td><td>0.4358663 </td><td>3         </td><td>3.043333  </td><td>0.44478   </td><td>2         </td><td>4.4       </td><td>2.4       </td><td>0.3126147 </td><td>0.1387047 </td><td>0.03558833</td></tr>\n",
       "</tbody>\n",
       "</table>\n"
      ],
      "text/latex": [
       "\\begin{tabular}{r|lllllllllllll}\n",
       "  & vars & n & mean & sd & median & trimmed & mad & min & max & range & skew & kurtosis & se\\\\\n",
       "\\hline\n",
       "\tX1 & 1          & 150        & 3.057333   & 0.4358663  & 3          & 3.043333   & 0.44478    & 2          & 4.4        & 2.4        & 0.3126147  & 0.1387047  & 0.03558833\\\\\n",
       "\\end{tabular}\n"
      ],
      "text/markdown": [
       "\n",
       "| <!--/--> | vars | n | mean | sd | median | trimmed | mad | min | max | range | skew | kurtosis | se |\n",
       "|---|---|---|---|---|---|---|---|---|---|---|---|---|---|\n",
       "| X1 | 1          | 150        | 3.057333   | 0.4358663  | 3          | 3.043333   | 0.44478    | 2          | 4.4        | 2.4        | 0.3126147  | 0.1387047  | 0.03558833 |\n",
       "\n"
      ],
      "text/plain": [
       "   vars n   mean     sd        median trimmed  mad     min max range skew     \n",
       "X1 1    150 3.057333 0.4358663 3      3.043333 0.44478 2   4.4 2.4   0.3126147\n",
       "   kurtosis  se        \n",
       "X1 0.1387047 0.03558833"
      ]
     },
     "metadata": {},
     "output_type": "display_data"
    },
    {
     "data": {
      "text/html": [
       "<table>\n",
       "<thead><tr><th></th><th scope=col>vars</th><th scope=col>n</th><th scope=col>mean</th><th scope=col>sd</th><th scope=col>median</th><th scope=col>trimmed</th><th scope=col>mad</th><th scope=col>min</th><th scope=col>max</th><th scope=col>range</th><th scope=col>skew</th><th scope=col>kurtosis</th><th scope=col>se</th></tr></thead>\n",
       "<tbody>\n",
       "\t<tr><th scope=row>Sepal.Length</th><td>1         </td><td>150       </td><td>5.843333  </td><td>0.8280661 </td><td>5.80      </td><td>5.808333  </td><td>1.03782   </td><td>4.3       </td><td>7.9       </td><td>3.6       </td><td> 0.3086407</td><td>-0.6058125</td><td>0.06761132</td></tr>\n",
       "\t<tr><th scope=row>Sepal.Width</th><td>2         </td><td>150       </td><td>3.057333  </td><td>0.4358663 </td><td>3.00      </td><td>3.043333  </td><td>0.44478   </td><td>2.0       </td><td>4.4       </td><td>2.4       </td><td> 0.3126147</td><td> 0.1387047</td><td>0.03558833</td></tr>\n",
       "\t<tr><th scope=row>Petal.Length</th><td>3         </td><td>150       </td><td>3.758000  </td><td>1.7652982 </td><td>4.35      </td><td>3.760000  </td><td>1.85325   </td><td>1.0       </td><td>6.9       </td><td>5.9       </td><td>-0.2694109</td><td>-1.4168574</td><td>0.14413600</td></tr>\n",
       "\t<tr><th scope=row>Petal.Width</th><td>4         </td><td>150       </td><td>1.199333  </td><td>0.7622377 </td><td>1.30      </td><td>1.184167  </td><td>1.03782   </td><td>0.1       </td><td>2.5       </td><td>2.4       </td><td>-0.1009166</td><td>-1.3581792</td><td>0.06223645</td></tr>\n",
       "\t<tr><th scope=row>Species*</th><td>5         </td><td>150       </td><td>2.000000  </td><td>0.8192319 </td><td>2.00      </td><td>2.000000  </td><td>1.48260   </td><td>1.0       </td><td>3.0       </td><td>2.0       </td><td> 0.0000000</td><td>-1.5199333</td><td>0.06689001</td></tr>\n",
       "</tbody>\n",
       "</table>\n"
      ],
      "text/latex": [
       "\\begin{tabular}{r|lllllllllllll}\n",
       "  & vars & n & mean & sd & median & trimmed & mad & min & max & range & skew & kurtosis & se\\\\\n",
       "\\hline\n",
       "\tSepal.Length & 1          & 150        & 5.843333   & 0.8280661  & 5.80       & 5.808333   & 1.03782    & 4.3        & 7.9        & 3.6        &  0.3086407 & -0.6058125 & 0.06761132\\\\\n",
       "\tSepal.Width & 2          & 150        & 3.057333   & 0.4358663  & 3.00       & 3.043333   & 0.44478    & 2.0        & 4.4        & 2.4        &  0.3126147 &  0.1387047 & 0.03558833\\\\\n",
       "\tPetal.Length & 3          & 150        & 3.758000   & 1.7652982  & 4.35       & 3.760000   & 1.85325    & 1.0        & 6.9        & 5.9        & -0.2694109 & -1.4168574 & 0.14413600\\\\\n",
       "\tPetal.Width & 4          & 150        & 1.199333   & 0.7622377  & 1.30       & 1.184167   & 1.03782    & 0.1        & 2.5        & 2.4        & -0.1009166 & -1.3581792 & 0.06223645\\\\\n",
       "\tSpecies* & 5          & 150        & 2.000000   & 0.8192319  & 2.00       & 2.000000   & 1.48260    & 1.0        & 3.0        & 2.0        &  0.0000000 & -1.5199333 & 0.06689001\\\\\n",
       "\\end{tabular}\n"
      ],
      "text/markdown": [
       "\n",
       "| <!--/--> | vars | n | mean | sd | median | trimmed | mad | min | max | range | skew | kurtosis | se |\n",
       "|---|---|---|---|---|---|---|---|---|---|---|---|---|---|\n",
       "| Sepal.Length | 1          | 150        | 5.843333   | 0.8280661  | 5.80       | 5.808333   | 1.03782    | 4.3        | 7.9        | 3.6        |  0.3086407 | -0.6058125 | 0.06761132 |\n",
       "| Sepal.Width | 2          | 150        | 3.057333   | 0.4358663  | 3.00       | 3.043333   | 0.44478    | 2.0        | 4.4        | 2.4        |  0.3126147 |  0.1387047 | 0.03558833 |\n",
       "| Petal.Length | 3          | 150        | 3.758000   | 1.7652982  | 4.35       | 3.760000   | 1.85325    | 1.0        | 6.9        | 5.9        | -0.2694109 | -1.4168574 | 0.14413600 |\n",
       "| Petal.Width | 4          | 150        | 1.199333   | 0.7622377  | 1.30       | 1.184167   | 1.03782    | 0.1        | 2.5        | 2.4        | -0.1009166 | -1.3581792 | 0.06223645 |\n",
       "| Species* | 5          | 150        | 2.000000   | 0.8192319  | 2.00       | 2.000000   | 1.48260    | 1.0        | 3.0        | 2.0        |  0.0000000 | -1.5199333 | 0.06689001 |\n",
       "\n"
      ],
      "text/plain": [
       "             vars n   mean     sd        median trimmed  mad     min max range\n",
       "Sepal.Length 1    150 5.843333 0.8280661 5.80   5.808333 1.03782 4.3 7.9 3.6  \n",
       "Sepal.Width  2    150 3.057333 0.4358663 3.00   3.043333 0.44478 2.0 4.4 2.4  \n",
       "Petal.Length 3    150 3.758000 1.7652982 4.35   3.760000 1.85325 1.0 6.9 5.9  \n",
       "Petal.Width  4    150 1.199333 0.7622377 1.30   1.184167 1.03782 0.1 2.5 2.4  \n",
       "Species*     5    150 2.000000 0.8192319 2.00   2.000000 1.48260 1.0 3.0 2.0  \n",
       "             skew       kurtosis   se        \n",
       "Sepal.Length  0.3086407 -0.6058125 0.06761132\n",
       "Sepal.Width   0.3126147  0.1387047 0.03558833\n",
       "Petal.Length -0.2694109 -1.4168574 0.14413600\n",
       "Petal.Width  -0.1009166 -1.3581792 0.06223645\n",
       "Species*      0.0000000 -1.5199333 0.06689001"
      ]
     },
     "metadata": {},
     "output_type": "display_data"
    }
   ],
   "source": [
    "library(psych)\n",
    "describe(iris$Sepal.Width)\n",
    "describe(iris)"
   ]
  },
  {
   "cell_type": "code",
   "execution_count": 102,
   "metadata": {},
   "outputs": [
    {
     "data": {
      "text/html": [
       "6.588"
      ],
      "text/latex": [
       "6.588"
      ],
      "text/markdown": [
       "6.588"
      ],
      "text/plain": [
       "[1] 6.588"
      ]
     },
     "metadata": {},
     "output_type": "display_data"
    },
    {
     "data": {
      "image/png": "[encoded data removed]",
      "text/plain": [
       "Plot with title \"Histogram of iris$Sepal.Length[iris$Species == \"virginica\"]\""
      ]
     },
     "metadata": {},
     "output_type": "display_data"
    }
   ],
   "source": [
    "mean(iris$Sepal.Length [iris$Species == 'virginica'])\n",
    "hist(iris$Sepal.Length [iris$Species == 'virginica'])"
   ]
  },
  {
   "cell_type": "code",
   "execution_count": 115,
   "metadata": {},
   "outputs": [
    {
     "data": {
      "text/html": [
       "<table>\n",
       "<thead><tr><th scope=col>Sepal.Length</th><th scope=col>Sepal.Width</th></tr></thead>\n",
       "<tbody>\n",
       "\t<tr><td>5.1</td><td>3.5</td></tr>\n",
       "\t<tr><td>4.9</td><td>3.0</td></tr>\n",
       "\t<tr><td>4.7</td><td>3.2</td></tr>\n",
       "\t<tr><td>4.6</td><td>3.1</td></tr>\n",
       "\t<tr><td>5.0</td><td>3.6</td></tr>\n",
       "\t<tr><td>5.4</td><td>3.9</td></tr>\n",
       "</tbody>\n",
       "</table>\n"
      ],
      "text/latex": [
       "\\begin{tabular}{r|ll}\n",
       " Sepal.Length & Sepal.Width\\\\\n",
       "\\hline\n",
       "\t 5.1 & 3.5\\\\\n",
       "\t 4.9 & 3.0\\\\\n",
       "\t 4.7 & 3.2\\\\\n",
       "\t 4.6 & 3.1\\\\\n",
       "\t 5.0 & 3.6\\\\\n",
       "\t 5.4 & 3.9\\\\\n",
       "\\end{tabular}\n"
      ],
      "text/markdown": [
       "\n",
       "| Sepal.Length | Sepal.Width |\n",
       "|---|---|\n",
       "| 5.1 | 3.5 |\n",
       "| 4.9 | 3.0 |\n",
       "| 4.7 | 3.2 |\n",
       "| 4.6 | 3.1 |\n",
       "| 5.0 | 3.6 |\n",
       "| 5.4 | 3.9 |\n",
       "\n"
      ],
      "text/plain": [
       "  Sepal.Length Sepal.Width\n",
       "1 5.1          3.5        \n",
       "2 4.9          3.0        \n",
       "3 4.7          3.2        \n",
       "4 4.6          3.1        \n",
       "5 5.0          3.6        \n",
       "6 5.4          3.9        "
      ]
     },
     "metadata": {},
     "output_type": "display_data"
    },
    {
     "data": {
      "text/html": [
       "<table>\n",
       "<thead><tr><th scope=col>Petal.Length</th><th scope=col>Petal.Width</th></tr></thead>\n",
       "<tbody>\n",
       "\t<tr><td>1.4</td><td>0.2</td></tr>\n",
       "\t<tr><td>1.4</td><td>0.2</td></tr>\n",
       "\t<tr><td>1.3</td><td>0.2</td></tr>\n",
       "\t<tr><td>1.5</td><td>0.2</td></tr>\n",
       "\t<tr><td>1.4</td><td>0.2</td></tr>\n",
       "\t<tr><td>1.7</td><td>0.4</td></tr>\n",
       "</tbody>\n",
       "</table>\n"
      ],
      "text/latex": [
       "\\begin{tabular}{r|ll}\n",
       " Petal.Length & Petal.Width\\\\\n",
       "\\hline\n",
       "\t 1.4 & 0.2\\\\\n",
       "\t 1.4 & 0.2\\\\\n",
       "\t 1.3 & 0.2\\\\\n",
       "\t 1.5 & 0.2\\\\\n",
       "\t 1.4 & 0.2\\\\\n",
       "\t 1.7 & 0.4\\\\\n",
       "\\end{tabular}\n"
      ],
      "text/markdown": [
       "\n",
       "| Petal.Length | Petal.Width |\n",
       "|---|---|\n",
       "| 1.4 | 0.2 |\n",
       "| 1.4 | 0.2 |\n",
       "| 1.3 | 0.2 |\n",
       "| 1.5 | 0.2 |\n",
       "| 1.4 | 0.2 |\n",
       "| 1.7 | 0.4 |\n",
       "\n"
      ],
      "text/plain": [
       "  Petal.Length Petal.Width\n",
       "1 1.4          0.2        \n",
       "2 1.4          0.2        \n",
       "3 1.3          0.2        \n",
       "4 1.5          0.2        \n",
       "5 1.4          0.2        \n",
       "6 1.7          0.4        "
      ]
     },
     "metadata": {},
     "output_type": "display_data"
    },
    {
     "data": {
      "text/html": [
       "<table>\n",
       "<thead><tr><th scope=col>Sepal.Length</th><th scope=col>Sepal.Width</th><th scope=col>Petal.Length</th><th scope=col>Petal.Width</th></tr></thead>\n",
       "<tbody>\n",
       "\t<tr><td>5.1</td><td>3.5</td><td>1.4</td><td>0.2</td></tr>\n",
       "\t<tr><td>4.9</td><td>3.0</td><td>1.4</td><td>0.2</td></tr>\n",
       "\t<tr><td>4.7</td><td>3.2</td><td>1.3</td><td>0.2</td></tr>\n",
       "\t<tr><td>4.6</td><td>3.1</td><td>1.5</td><td>0.2</td></tr>\n",
       "\t<tr><td>5.0</td><td>3.6</td><td>1.4</td><td>0.2</td></tr>\n",
       "\t<tr><td>5.4</td><td>3.9</td><td>1.7</td><td>0.4</td></tr>\n",
       "</tbody>\n",
       "</table>\n"
      ],
      "text/latex": [
       "\\begin{tabular}{r|llll}\n",
       " Sepal.Length & Sepal.Width & Petal.Length & Petal.Width\\\\\n",
       "\\hline\n",
       "\t 5.1 & 3.5 & 1.4 & 0.2\\\\\n",
       "\t 4.9 & 3.0 & 1.4 & 0.2\\\\\n",
       "\t 4.7 & 3.2 & 1.3 & 0.2\\\\\n",
       "\t 4.6 & 3.1 & 1.5 & 0.2\\\\\n",
       "\t 5.0 & 3.6 & 1.4 & 0.2\\\\\n",
       "\t 5.4 & 3.9 & 1.7 & 0.4\\\\\n",
       "\\end{tabular}\n"
      ],
      "text/markdown": [
       "\n",
       "| Sepal.Length | Sepal.Width | Petal.Length | Petal.Width |\n",
       "|---|---|---|---|\n",
       "| 5.1 | 3.5 | 1.4 | 0.2 |\n",
       "| 4.9 | 3.0 | 1.4 | 0.2 |\n",
       "| 4.7 | 3.2 | 1.3 | 0.2 |\n",
       "| 4.6 | 3.1 | 1.5 | 0.2 |\n",
       "| 5.0 | 3.6 | 1.4 | 0.2 |\n",
       "| 5.4 | 3.9 | 1.7 | 0.4 |\n",
       "\n"
      ],
      "text/plain": [
       "  Sepal.Length Sepal.Width Petal.Length Petal.Width\n",
       "1 5.1          3.5         1.4          0.2        \n",
       "2 4.9          3.0         1.4          0.2        \n",
       "3 4.7          3.2         1.3          0.2        \n",
       "4 4.6          3.1         1.5          0.2        \n",
       "5 5.0          3.6         1.4          0.2        \n",
       "6 5.4          3.9         1.7          0.4        "
      ]
     },
     "metadata": {},
     "output_type": "display_data"
    }
   ],
   "source": [
    "tb1 <- iris[iris$Species == 'setosa', which(names(iris) == \"Sepal.Length\" | names(iris) == \"Sepal.Width\")]\n",
    "tb2 <- iris[iris$Species == 'setosa', which(names(iris) == \"Petal.Length\" | names(iris) == \"Petal.Width\")]\n",
    "tb3 <- iris[iris$Species == 'setosa', -which(names(iris) == \"Species\")]\n",
    "head(tb1)\n",
    "head(tb2)\n",
    "head(tb3)"
   ]
  },
  {
   "cell_type": "markdown",
   "metadata": {},
   "source": [
    "Variable types: numeric, character, logical, complex, & raw\n",
    "Common Structures: Vector, Data Frame, Matrix/Array, List\n",
    "Vector - one or more numbers in a 1D array, must have same data type, R's basic data object (all other data structure are variations of vector object)\n",
    "Matrix - rows and columns, two dimensional, all must have same length and same class, columns are not named and referred to using index numbers\n",
    "Array - identical to a matrix with 3 or more dimensions, \n",
    "Data Frame - can have vectors of different types, all must have the same lengths, analogous to spreadsheet\n",
    "List - most flexible data form, ordered collection of elements, lists can include lists"
   ]
  },
  {
   "cell_type": "markdown",
   "metadata": {},
   "source": [
    "# Data Types\n",
    "## Numeric"
   ]
  },
  {
   "cell_type": "code",
   "execution_count": 1,
   "metadata": {},
   "outputs": [
    {
     "data": {
      "text/html": [
       "15"
      ],
      "text/latex": [
       "15"
      ],
      "text/markdown": [
       "15"
      ],
      "text/plain": [
       "[1] 15"
      ]
     },
     "metadata": {},
     "output_type": "display_data"
    },
    {
     "data": {
      "text/html": [
       "'double'"
      ],
      "text/latex": [
       "'double'"
      ],
      "text/markdown": [
       "'double'"
      ],
      "text/plain": [
       "[1] \"double\""
      ]
     },
     "metadata": {},
     "output_type": "display_data"
    },
    {
     "data": {
      "text/html": [
       "2.5"
      ],
      "text/latex": [
       "2.5"
      ],
      "text/markdown": [
       "2.5"
      ],
      "text/plain": [
       "[1] 2.5"
      ]
     },
     "metadata": {},
     "output_type": "display_data"
    },
    {
     "data": {
      "text/html": [
       "'double'"
      ],
      "text/latex": [
       "'double'"
      ],
      "text/markdown": [
       "'double'"
      ],
      "text/plain": [
       "[1] \"double\""
      ]
     },
     "metadata": {},
     "output_type": "display_data"
    }
   ],
   "source": [
    "n1 <- 15\n",
    "n1\n",
    "typeof(n1)\n",
    "n2 <- 2.5\n",
    "n2\n",
    "typeof(n2)"
   ]
  },
  {
   "cell_type": "markdown",
   "metadata": {},
   "source": [
    "## Character"
   ]
  },
  {
   "cell_type": "code",
   "execution_count": 2,
   "metadata": {},
   "outputs": [
    {
     "data": {
      "text/html": [
       "'F'"
      ],
      "text/latex": [
       "'F'"
      ],
      "text/markdown": [
       "'F'"
      ],
      "text/plain": [
       "[1] \"F\""
      ]
     },
     "metadata": {},
     "output_type": "display_data"
    },
    {
     "data": {
      "text/html": [
       "'character'"
      ],
      "text/latex": [
       "'character'"
      ],
      "text/markdown": [
       "'character'"
      ],
      "text/plain": [
       "[1] \"character\""
      ]
     },
     "metadata": {},
     "output_type": "display_data"
    },
    {
     "data": {
      "text/html": [
       "'This is an introductory notebook'"
      ],
      "text/latex": [
       "'This is an introductory notebook'"
      ],
      "text/markdown": [
       "'This is an introductory notebook'"
      ],
      "text/plain": [
       "[1] \"This is an introductory notebook\""
      ]
     },
     "metadata": {},
     "output_type": "display_data"
    },
    {
     "data": {
      "text/html": [
       "'character'"
      ],
      "text/latex": [
       "'character'"
      ],
      "text/markdown": [
       "'character'"
      ],
      "text/plain": [
       "[1] \"character\""
      ]
     },
     "metadata": {},
     "output_type": "display_data"
    }
   ],
   "source": [
    "c1 <- \"F\"\n",
    "c1\n",
    "typeof(c1)\n",
    "c2 <- \"This is an introductory notebook\"\n",
    "c2\n",
    "typeof(c2)"
   ]
  },
  {
   "cell_type": "markdown",
   "metadata": {},
   "source": [
    "## Logical"
   ]
  },
  {
   "cell_type": "code",
   "execution_count": 3,
   "metadata": {},
   "outputs": [
    {
     "data": {
      "text/html": [
       "TRUE"
      ],
      "text/latex": [
       "TRUE"
      ],
      "text/markdown": [
       "TRUE"
      ],
      "text/plain": [
       "[1] TRUE"
      ]
     },
     "metadata": {},
     "output_type": "display_data"
    },
    {
     "data": {
      "text/html": [
       "'logical'"
      ],
      "text/latex": [
       "'logical'"
      ],
      "text/markdown": [
       "'logical'"
      ],
      "text/plain": [
       "[1] \"logical\""
      ]
     },
     "metadata": {},
     "output_type": "display_data"
    },
    {
     "data": {
      "text/html": [
       "TRUE"
      ],
      "text/latex": [
       "TRUE"
      ],
      "text/markdown": [
       "TRUE"
      ],
      "text/plain": [
       "[1] TRUE"
      ]
     },
     "metadata": {},
     "output_type": "display_data"
    },
    {
     "data": {
      "text/html": [
       "'logical'"
      ],
      "text/latex": [
       "'logical'"
      ],
      "text/markdown": [
       "'logical'"
      ],
      "text/plain": [
       "[1] \"logical\""
      ]
     },
     "metadata": {},
     "output_type": "display_data"
    }
   ],
   "source": [
    "l1 <- TRUE\n",
    "l1\n",
    "typeof(l1)\n",
    "l2 <- T\n",
    "l2\n",
    "typeof(l2)"
   ]
  },
  {
   "cell_type": "markdown",
   "metadata": {},
   "source": [
    "# Data Structures\n",
    "## Vector"
   ]
  },
  {
   "cell_type": "code",
   "execution_count": 8,
   "metadata": {},
   "outputs": [
    {
     "data": {
      "text/html": [
       "<ol class=list-inline>\n",
       "\t<li>1</li>\n",
       "\t<li>2</li>\n",
       "\t<li>3</li>\n",
       "\t<li>5</li>\n",
       "</ol>\n"
      ],
      "text/latex": [
       "\\begin{enumerate*}\n",
       "\\item 1\n",
       "\\item 2\n",
       "\\item 3\n",
       "\\item 5\n",
       "\\end{enumerate*}\n"
      ],
      "text/markdown": [
       "1. 1\n",
       "2. 2\n",
       "3. 3\n",
       "4. 5\n",
       "\n",
       "\n"
      ],
      "text/plain": [
       "[1] 1 2 3 5"
      ]
     },
     "metadata": {},
     "output_type": "display_data"
    },
    {
     "data": {
      "text/html": [
       "TRUE"
      ],
      "text/latex": [
       "TRUE"
      ],
      "text/markdown": [
       "TRUE"
      ],
      "text/plain": [
       "[1] TRUE"
      ]
     },
     "metadata": {},
     "output_type": "display_data"
    },
    {
     "data": {
      "text/html": [
       "<ol class=list-inline>\n",
       "\t<li>'one'</li>\n",
       "\t<li>'two'</li>\n",
       "\t<li>'three'</li>\n",
       "\t<li>'five'</li>\n",
       "</ol>\n"
      ],
      "text/latex": [
       "\\begin{enumerate*}\n",
       "\\item 'one'\n",
       "\\item 'two'\n",
       "\\item 'three'\n",
       "\\item 'five'\n",
       "\\end{enumerate*}\n"
      ],
      "text/markdown": [
       "1. 'one'\n",
       "2. 'two'\n",
       "3. 'three'\n",
       "4. 'five'\n",
       "\n",
       "\n"
      ],
      "text/plain": [
       "[1] \"one\"   \"two\"   \"three\" \"five\" "
      ]
     },
     "metadata": {},
     "output_type": "display_data"
    },
    {
     "data": {
      "text/html": [
       "TRUE"
      ],
      "text/latex": [
       "TRUE"
      ],
      "text/markdown": [
       "TRUE"
      ],
      "text/plain": [
       "[1] TRUE"
      ]
     },
     "metadata": {},
     "output_type": "display_data"
    },
    {
     "data": {
      "text/html": [
       "<ol class=list-inline>\n",
       "\t<li>TRUE</li>\n",
       "\t<li>FALSE</li>\n",
       "\t<li>TRUE</li>\n",
       "\t<li>FALSE</li>\n",
       "\t<li>FALSE</li>\n",
       "</ol>\n"
      ],
      "text/latex": [
       "\\begin{enumerate*}\n",
       "\\item TRUE\n",
       "\\item FALSE\n",
       "\\item TRUE\n",
       "\\item FALSE\n",
       "\\item FALSE\n",
       "\\end{enumerate*}\n"
      ],
      "text/markdown": [
       "1. TRUE\n",
       "2. FALSE\n",
       "3. TRUE\n",
       "4. FALSE\n",
       "5. FALSE\n",
       "\n",
       "\n"
      ],
      "text/plain": [
       "[1]  TRUE FALSE  TRUE FALSE FALSE"
      ]
     },
     "metadata": {},
     "output_type": "display_data"
    },
    {
     "data": {
      "text/html": [
       "TRUE"
      ],
      "text/latex": [
       "TRUE"
      ],
      "text/markdown": [
       "TRUE"
      ],
      "text/plain": [
       "[1] TRUE"
      ]
     },
     "metadata": {},
     "output_type": "display_data"
    },
    {
     "data": {
      "text/html": [
       "<ol class=list-inline>\n",
       "\t<li>'1'</li>\n",
       "\t<li>'one'</li>\n",
       "\t<li>'FALSE'</li>\n",
       "</ol>\n"
      ],
      "text/latex": [
       "\\begin{enumerate*}\n",
       "\\item '1'\n",
       "\\item 'one'\n",
       "\\item 'FALSE'\n",
       "\\end{enumerate*}\n"
      ],
      "text/markdown": [
       "1. '1'\n",
       "2. 'one'\n",
       "3. 'FALSE'\n",
       "\n",
       "\n"
      ],
      "text/plain": [
       "[1] \"1\"     \"one\"   \"FALSE\""
      ]
     },
     "metadata": {},
     "output_type": "display_data"
    },
    {
     "data": {
      "text/html": [
       "TRUE"
      ],
      "text/latex": [
       "TRUE"
      ],
      "text/markdown": [
       "TRUE"
      ],
      "text/plain": [
       "[1] TRUE"
      ]
     },
     "metadata": {},
     "output_type": "display_data"
    },
    {
     "name": "stdout",
     "output_type": "stream",
     "text": [
      "character(0)\n",
      "[1] \"1\"\n",
      "[1] \"one\"\n",
      "[1] \"FALSE\"\n",
      "[1] \"1\"\n",
      "[1] \"one\"\n",
      "[1] \"FALSE\"\n"
     ]
    }
   ],
   "source": [
    "v1 <- c(1, 2, 3, 5)\n",
    "v1\n",
    "is.vector(v1)\n",
    "\n",
    "v2 <- c(\"one\", \"two\", \"three\", \"five\")\n",
    "v2\n",
    "is.vector(v2)\n",
    "\n",
    "v3 <- c(T, F, T, F, F)\n",
    "v3\n",
    "is.vector(v3)\n",
    "\n",
    "v4 <- c(1, \"one\", F)\n",
    "v4\n",
    "is.vector(v4)\n",
    "\n",
    "# one ways of printing a vector\n",
    "for (var in 0:3){\n",
    "    print(v4[var])\n",
    "}\n",
    "\n",
    "# second ways to print\n",
    "for (var in v4){\n",
    "    print(var)\n",
    "}"
   ]
  },
  {
   "cell_type": "markdown",
   "metadata": {},
   "source": [
    "## Matrix"
   ]
  },
  {
   "cell_type": "code",
   "execution_count": 15,
   "metadata": {},
   "outputs": [
    {
     "data": {
      "text/html": [
       "<table>\n",
       "<tbody>\n",
       "\t<tr><td>1</td><td>2</td><td>3</td></tr>\n",
       "\t<tr><td>4</td><td>5</td><td>6</td></tr>\n",
       "\t<tr><td>7</td><td>8</td><td>9</td></tr>\n",
       "</tbody>\n",
       "</table>\n"
      ],
      "text/latex": [
       "\\begin{tabular}{lll}\n",
       "\t 1 & 2 & 3\\\\\n",
       "\t 4 & 5 & 6\\\\\n",
       "\t 7 & 8 & 9\\\\\n",
       "\\end{tabular}\n"
      ],
      "text/markdown": [
       "\n",
       "| 1 | 2 | 3 |\n",
       "| 4 | 5 | 6 |\n",
       "| 7 | 8 | 9 |\n",
       "\n"
      ],
      "text/plain": [
       "     [,1] [,2] [,3]\n",
       "[1,] 1    2    3   \n",
       "[2,] 4    5    6   \n",
       "[3,] 7    8    9   "
      ]
     },
     "metadata": {},
     "output_type": "display_data"
    },
    {
     "data": {
      "text/html": [
       "TRUE"
      ],
      "text/latex": [
       "TRUE"
      ],
      "text/markdown": [
       "TRUE"
      ],
      "text/plain": [
       "[1] TRUE"
      ]
     },
     "metadata": {},
     "output_type": "display_data"
    },
    {
     "data": {
      "text/html": [
       "FALSE"
      ],
      "text/latex": [
       "FALSE"
      ],
      "text/markdown": [
       "FALSE"
      ],
      "text/plain": [
       "[1] FALSE"
      ]
     },
     "metadata": {},
     "output_type": "display_data"
    },
    {
     "data": {
      "text/html": [
       "<table>\n",
       "<tbody>\n",
       "\t<tr><td>1</td><td>4</td><td>7</td></tr>\n",
       "\t<tr><td>2</td><td>5</td><td>8</td></tr>\n",
       "\t<tr><td>3</td><td>6</td><td>9</td></tr>\n",
       "</tbody>\n",
       "</table>\n"
      ],
      "text/latex": [
       "\\begin{tabular}{lll}\n",
       "\t 1 & 4 & 7\\\\\n",
       "\t 2 & 5 & 8\\\\\n",
       "\t 3 & 6 & 9\\\\\n",
       "\\end{tabular}\n"
      ],
      "text/markdown": [
       "\n",
       "| 1 | 4 | 7 |\n",
       "| 2 | 5 | 8 |\n",
       "| 3 | 6 | 9 |\n",
       "\n"
      ],
      "text/plain": [
       "     [,1] [,2] [,3]\n",
       "[1,] 1    4    7   \n",
       "[2,] 2    5    8   \n",
       "[3,] 3    6    9   "
      ]
     },
     "metadata": {},
     "output_type": "display_data"
    }
   ],
   "source": [
    "n1 <- matrix(c(1, 2, 3, 4, 5, 6, 7, 8, 9), nrow=3, byrow=T)\n",
    "n1\n",
    "is.matrix(n1)\n",
    "is.vector(n1)\n",
    "\n",
    "\n",
    "n1 <- matrix(c(1, 2, 3, 4, 5, 6, 7, 8, 9), nrow=3, byrow=F)\n",
    "n1"
   ]
  },
  {
   "cell_type": "markdown",
   "metadata": {},
   "source": [
    "## Array\n",
    "You need to specify first rows, then columns followed by the number of tables."
   ]
  },
  {
   "cell_type": "code",
   "execution_count": 56,
   "metadata": {},
   "outputs": [
    {
     "data": {
      "text/html": [
       "<table>\n",
       "<tbody>\n",
       "\t<tr><td>1 </td><td>4 </td><td>7 </td><td>10</td></tr>\n",
       "\t<tr><td>2 </td><td>5 </td><td>8 </td><td>11</td></tr>\n",
       "\t<tr><td>3 </td><td>6 </td><td>9 </td><td>12</td></tr>\n",
       "</tbody>\n",
       "</table>\n"
      ],
      "text/latex": [
       "\\begin{tabular}{llll}\n",
       "\t 1  & 4  & 7  & 10\\\\\n",
       "\t 2  & 5  & 8  & 11\\\\\n",
       "\t 3  & 6  & 9  & 12\\\\\n",
       "\\end{tabular}\n"
      ],
      "text/markdown": [
       "\n",
       "| 1  | 4  | 7  | 10 |\n",
       "| 2  | 5  | 8  | 11 |\n",
       "| 3  | 6  | 9  | 12 |\n",
       "\n"
      ],
      "text/plain": [
       "     [,1] [,2] [,3] [,4]\n",
       "[1,] 1    4    7    10  \n",
       "[2,] 2    5    8    11  \n",
       "[3,] 3    6    9    12  "
      ]
     },
     "metadata": {},
     "output_type": "display_data"
    },
    {
     "data": {
      "text/html": [
       "<table>\n",
       "<tbody>\n",
       "\t<tr><td>13</td><td>16</td><td>19</td><td>22</td></tr>\n",
       "\t<tr><td>14</td><td>17</td><td>20</td><td>23</td></tr>\n",
       "\t<tr><td>15</td><td>18</td><td>21</td><td>24</td></tr>\n",
       "</tbody>\n",
       "</table>\n"
      ],
      "text/latex": [
       "\\begin{tabular}{llll}\n",
       "\t 13 & 16 & 19 & 22\\\\\n",
       "\t 14 & 17 & 20 & 23\\\\\n",
       "\t 15 & 18 & 21 & 24\\\\\n",
       "\\end{tabular}\n"
      ],
      "text/markdown": [
       "\n",
       "| 13 | 16 | 19 | 22 |\n",
       "| 14 | 17 | 20 | 23 |\n",
       "| 15 | 18 | 21 | 24 |\n",
       "\n"
      ],
      "text/plain": [
       "     [,1] [,2] [,3] [,4]\n",
       "[1,] 13   16   19   22  \n",
       "[2,] 14   17   20   23  \n",
       "[3,] 15   18   21   24  "
      ]
     },
     "metadata": {},
     "output_type": "display_data"
    },
    {
     "data": {
      "text/html": [
       "<table>\n",
       "<tbody>\n",
       "\t<tr><td>1 </td><td> 2</td><td> 3</td><td> 4</td></tr>\n",
       "\t<tr><td>5 </td><td> 6</td><td> 7</td><td> 8</td></tr>\n",
       "\t<tr><td>9 </td><td>10</td><td>11</td><td>12</td></tr>\n",
       "</tbody>\n",
       "</table>\n"
      ],
      "text/latex": [
       "\\begin{tabular}{llll}\n",
       "\t 1  &  2 &  3 &  4\\\\\n",
       "\t 5  &  6 &  7 &  8\\\\\n",
       "\t 9  & 10 & 11 & 12\\\\\n",
       "\\end{tabular}\n"
      ],
      "text/markdown": [
       "\n",
       "| 1  |  2 |  3 |  4 |\n",
       "| 5  |  6 |  7 |  8 |\n",
       "| 9  | 10 | 11 | 12 |\n",
       "\n"
      ],
      "text/plain": [
       "     [,1] [,2] [,3] [,4]\n",
       "[1,] 1     2    3    4  \n",
       "[2,] 5     6    7    8  \n",
       "[3,] 9    10   11   12  "
      ]
     },
     "metadata": {},
     "output_type": "display_data"
    }
   ],
   "source": [
    "a1 <- array(c(1:24), dim = c(3, 4, 2))\n",
    "column.names <- c(\"COL1\",\"COL2\",\"COL3\")\n",
    "row.names <- c(\"ROW1\",\"ROW2\",\"ROW3\")\n",
    "matrix.names <- c(\"Matrix1\",\"Matrix2\")\n",
    "a1.dimnames <- c(row.names, matrix.names, matrix.names)\n",
    "a1[,,1]\n",
    "a1[,,2]\n",
    "\n",
    "matrix(a1[,,1], nrow=3, byrow=T)"
   ]
  },
  {
   "cell_type": "markdown",
   "metadata": {},
   "source": [
    "## Dataframe"
   ]
  },
  {
   "cell_type": "code",
   "execution_count": 85,
   "metadata": {},
   "outputs": [
    {
     "data": {
      "text/html": [
       "<ol class=list-inline>\n",
       "\t<li>'TRUE'</li>\n",
       "\t<li>'FALSE'</li>\n",
       "\t<li>'FALSE'</li>\n",
       "</ol>\n"
      ],
      "text/latex": [
       "\\begin{enumerate*}\n",
       "\\item 'TRUE'\n",
       "\\item 'FALSE'\n",
       "\\item 'FALSE'\n",
       "\\end{enumerate*}\n"
      ],
      "text/markdown": [
       "1. 'TRUE'\n",
       "2. 'FALSE'\n",
       "3. 'FALSE'\n",
       "\n",
       "\n"
      ],
      "text/plain": [
       "[1] \"TRUE\"  \"FALSE\" \"FALSE\""
      ]
     },
     "metadata": {},
     "output_type": "display_data"
    },
    {
     "data": {
      "text/html": [
       "<ol class=list-inline>\n",
       "\t<li>TRUE</li>\n",
       "\t<li>FALSE</li>\n",
       "\t<li>FALSE</li>\n",
       "</ol>\n",
       "\n",
       "<details>\n",
       "\t<summary style=display:list-item;cursor:pointer>\n",
       "\t\t<strong>Levels</strong>:\n",
       "\t</summary>\n",
       "\t<ol class=list-inline>\n",
       "\t\t<li>'FALSE'</li>\n",
       "\t\t<li>'TRUE'</li>\n",
       "\t</ol>\n",
       "</details>"
      ],
      "text/latex": [
       "\\begin{enumerate*}\n",
       "\\item TRUE\n",
       "\\item FALSE\n",
       "\\item FALSE\n",
       "\\end{enumerate*}\n",
       "\n",
       "\\emph{Levels}: \\begin{enumerate*}\n",
       "\\item 'FALSE'\n",
       "\\item 'TRUE'\n",
       "\\end{enumerate*}\n"
      ],
      "text/markdown": [
       "1. TRUE\n",
       "2. FALSE\n",
       "3. FALSE\n",
       "\n",
       "\n",
       "\n",
       "**Levels**: 1. 'FALSE'\n",
       "2. 'TRUE'\n",
       "\n",
       "\n"
      ],
      "text/plain": [
       "[1] TRUE  FALSE FALSE\n",
       "Levels: FALSE TRUE"
      ]
     },
     "metadata": {},
     "output_type": "display_data"
    }
   ],
   "source": [
    "cNumeric <- c(1, 2, 3)\n",
    "cChar <- c(\"one\", \"two\", \"three\")\n",
    "cLogic <- c(T, F, F)\n",
    "\n",
    "dfa <- cbind(cNumeric, cChar, cLogic)\n",
    "dfa[,3]\n",
    "dfa <- as.data.frame(cbind(cNumeric, cChar, cLogic))\n",
    "dfa[,3]"
   ]
  },
  {
   "cell_type": "markdown",
   "metadata": {},
   "source": [
    "## List"
   ]
  },
  {
   "cell_type": "code",
   "execution_count": 89,
   "metadata": {},
   "outputs": [
    {
     "data": {
      "text/html": [
       "<ol>\n",
       "\t<li><ol class=list-inline>\n",
       "\t<li>1</li>\n",
       "\t<li>2</li>\n",
       "\t<li>3</li>\n",
       "\t<li>4</li>\n",
       "</ol>\n",
       "</li>\n",
       "\t<li><ol class=list-inline>\n",
       "\t<li>'one'</li>\n",
       "\t<li>'two'</li>\n",
       "\t<li>'three'</li>\n",
       "\t<li>'four'</li>\n",
       "\t<li>'five'</li>\n",
       "</ol>\n",
       "</li>\n",
       "\t<li><ol class=list-inline>\n",
       "\t<li>TRUE</li>\n",
       "\t<li>FALSE</li>\n",
       "\t<li>FALSE</li>\n",
       "\t<li>FALSE</li>\n",
       "\t<li>TRUE</li>\n",
       "\t<li>TRUE</li>\n",
       "</ol>\n",
       "</li>\n",
       "</ol>\n"
      ],
      "text/latex": [
       "\\begin{enumerate}\n",
       "\\item \\begin{enumerate*}\n",
       "\\item 1\n",
       "\\item 2\n",
       "\\item 3\n",
       "\\item 4\n",
       "\\end{enumerate*}\n",
       "\n",
       "\\item \\begin{enumerate*}\n",
       "\\item 'one'\n",
       "\\item 'two'\n",
       "\\item 'three'\n",
       "\\item 'four'\n",
       "\\item 'five'\n",
       "\\end{enumerate*}\n",
       "\n",
       "\\item \\begin{enumerate*}\n",
       "\\item TRUE\n",
       "\\item FALSE\n",
       "\\item FALSE\n",
       "\\item FALSE\n",
       "\\item TRUE\n",
       "\\item TRUE\n",
       "\\end{enumerate*}\n",
       "\n",
       "\\end{enumerate}\n"
      ],
      "text/markdown": [
       "1. 1. 1\n",
       "2. 2\n",
       "3. 3\n",
       "4. 4\n",
       "\n",
       "\n",
       "\n",
       "2. 1. 'one'\n",
       "2. 'two'\n",
       "3. 'three'\n",
       "4. 'four'\n",
       "5. 'five'\n",
       "\n",
       "\n",
       "\n",
       "3. 1. TRUE\n",
       "2. FALSE\n",
       "3. FALSE\n",
       "4. FALSE\n",
       "5. TRUE\n",
       "6. TRUE\n",
       "\n",
       "\n",
       "\n",
       "\n",
       "\n"
      ],
      "text/plain": [
       "[[1]]\n",
       "[1] 1 2 3 4\n",
       "\n",
       "[[2]]\n",
       "[1] \"one\"   \"two\"   \"three\" \"four\"  \"five\" \n",
       "\n",
       "[[3]]\n",
       "[1]  TRUE FALSE FALSE FALSE  TRUE  TRUE\n"
      ]
     },
     "metadata": {},
     "output_type": "display_data"
    },
    {
     "name": "stdout",
     "output_type": "stream",
     "text": [
      "[1] 1\n",
      "[1] 2\n",
      "[1] 3\n",
      "[1] 4\n",
      "[1] \"one\"\n",
      "[1] \"two\"\n",
      "[1] \"three\"\n",
      "[1] \"four\"\n",
      "[1] \"five\"\n",
      "[1] TRUE\n",
      "[1] FALSE\n",
      "[1] FALSE\n",
      "[1] FALSE\n",
      "[1] TRUE\n",
      "[1] TRUE\n"
     ]
    }
   ],
   "source": [
    "cNumeric <- c(1, 2, 3, 4)\n",
    "cChar <- c(\"one\", \"two\", \"three\", \"four\", \"five\")\n",
    "cLogic <- c(T, F, F, F, T, T)\n",
    "l1 <- list(cNumeric, cChar, cLogic)\n",
    "l1\n",
    "for(x in l1){\n",
    "    for(y in x){\n",
    "        print(y)\n",
    "    }\n",
    "}"
   ]
  },
  {
   "cell_type": "code",
   "execution_count": 104,
   "metadata": {},
   "outputs": [
    {
     "data": {
      "text/html": [
       "<ol class=list-inline>\n",
       "\t<li>'1'</li>\n",
       "\t<li>'two'</li>\n",
       "\t<li>'FALSE'</li>\n",
       "</ol>\n"
      ],
      "text/latex": [
       "\\begin{enumerate*}\n",
       "\\item '1'\n",
       "\\item 'two'\n",
       "\\item 'FALSE'\n",
       "\\end{enumerate*}\n"
      ],
      "text/markdown": [
       "1. '1'\n",
       "2. 'two'\n",
       "3. 'FALSE'\n",
       "\n",
       "\n"
      ],
      "text/plain": [
       "[1] \"1\"     \"two\"   \"FALSE\""
      ]
     },
     "metadata": {},
     "output_type": "display_data"
    },
    {
     "data": {
      "text/html": [
       "'character'"
      ],
      "text/latex": [
       "'character'"
      ],
      "text/markdown": [
       "'character'"
      ],
      "text/plain": [
       "[1] \"character\""
      ]
     },
     "metadata": {},
     "output_type": "display_data"
    },
    {
     "data": {
      "text/html": [
       "'character'"
      ],
      "text/latex": [
       "'character'"
      ],
      "text/markdown": [
       "'character'"
      ],
      "text/plain": [
       "[1] \"character\""
      ]
     },
     "metadata": {},
     "output_type": "display_data"
    },
    {
     "data": {
      "text/html": [
       "'character'"
      ],
      "text/latex": [
       "'character'"
      ],
      "text/markdown": [
       "'character'"
      ],
      "text/plain": [
       "[1] \"character\""
      ]
     },
     "metadata": {},
     "output_type": "display_data"
    },
    {
     "data": {
      "text/html": [
       "'logical'"
      ],
      "text/latex": [
       "'logical'"
      ],
      "text/markdown": [
       "'logical'"
      ],
      "text/plain": [
       "[1] \"logical\""
      ]
     },
     "metadata": {},
     "output_type": "display_data"
    },
    {
     "data": {
      "text/html": [
       "'logical'"
      ],
      "text/latex": [
       "'logical'"
      ],
      "text/markdown": [
       "'logical'"
      ],
      "text/plain": [
       "[1] \"logical\""
      ]
     },
     "metadata": {},
     "output_type": "display_data"
    },
    {
     "data": {
      "text/html": [
       "'logical'"
      ],
      "text/latex": [
       "'logical'"
      ],
      "text/markdown": [
       "'logical'"
      ],
      "text/plain": [
       "[1] \"logical\""
      ]
     },
     "metadata": {},
     "output_type": "display_data"
    },
    {
     "data": {
      "text/html": [
       "<table>\n",
       "<tbody>\n",
       "\t<tr><td>1 </td><td>4 </td><td>7 </td><td>10</td><td>13</td><td>16</td></tr>\n",
       "\t<tr><td>2 </td><td>5 </td><td>8 </td><td>11</td><td>14</td><td>17</td></tr>\n",
       "\t<tr><td>3 </td><td>6 </td><td>9 </td><td>12</td><td>15</td><td>18</td></tr>\n",
       "</tbody>\n",
       "</table>\n"
      ],
      "text/latex": [
       "\\begin{tabular}{llllll}\n",
       "\t 1  & 4  & 7  & 10 & 13 & 16\\\\\n",
       "\t 2  & 5  & 8  & 11 & 14 & 17\\\\\n",
       "\t 3  & 6  & 9  & 12 & 15 & 18\\\\\n",
       "\\end{tabular}\n"
      ],
      "text/markdown": [
       "\n",
       "| 1  | 4  | 7  | 10 | 13 | 16 |\n",
       "| 2  | 5  | 8  | 11 | 14 | 17 |\n",
       "| 3  | 6  | 9  | 12 | 15 | 18 |\n",
       "\n"
      ],
      "text/plain": [
       "     [,1] [,2] [,3] [,4] [,5] [,6]\n",
       "[1,] 1    4    7    10   13   16  \n",
       "[2,] 2    5    8    11   14   17  \n",
       "[3,] 3    6    9    12   15   18  "
      ]
     },
     "metadata": {},
     "output_type": "display_data"
    },
    {
     "data": {
      "text/html": [
       "TRUE"
      ],
      "text/latex": [
       "TRUE"
      ],
      "text/markdown": [
       "TRUE"
      ],
      "text/plain": [
       "[1] TRUE"
      ]
     },
     "metadata": {},
     "output_type": "display_data"
    },
    {
     "data": {
      "text/html": [
       "<table>\n",
       "<thead><tr><th scope=col>V1</th><th scope=col>V2</th><th scope=col>V3</th><th scope=col>V4</th><th scope=col>V5</th><th scope=col>V6</th></tr></thead>\n",
       "<tbody>\n",
       "\t<tr><td>1 </td><td>4 </td><td>7 </td><td>10</td><td>13</td><td>16</td></tr>\n",
       "\t<tr><td>2 </td><td>5 </td><td>8 </td><td>11</td><td>14</td><td>17</td></tr>\n",
       "\t<tr><td>3 </td><td>6 </td><td>9 </td><td>12</td><td>15</td><td>18</td></tr>\n",
       "</tbody>\n",
       "</table>\n"
      ],
      "text/latex": [
       "\\begin{tabular}{r|llllll}\n",
       " V1 & V2 & V3 & V4 & V5 & V6\\\\\n",
       "\\hline\n",
       "\t 1  & 4  & 7  & 10 & 13 & 16\\\\\n",
       "\t 2  & 5  & 8  & 11 & 14 & 17\\\\\n",
       "\t 3  & 6  & 9  & 12 & 15 & 18\\\\\n",
       "\\end{tabular}\n"
      ],
      "text/markdown": [
       "\n",
       "| V1 | V2 | V3 | V4 | V5 | V6 |\n",
       "|---|---|---|---|---|---|\n",
       "| 1  | 4  | 7  | 10 | 13 | 16 |\n",
       "| 2  | 5  | 8  | 11 | 14 | 17 |\n",
       "| 3  | 6  | 9  | 12 | 15 | 18 |\n",
       "\n"
      ],
      "text/plain": [
       "  V1 V2 V3 V4 V5 V6\n",
       "1 1  4  7  10 13 16\n",
       "2 2  5  8  11 14 17\n",
       "3 3  6  9  12 15 18"
      ]
     },
     "metadata": {},
     "output_type": "display_data"
    },
    {
     "data": {
      "text/html": [
       "FALSE"
      ],
      "text/latex": [
       "FALSE"
      ],
      "text/markdown": [
       "FALSE"
      ],
      "text/plain": [
       "[1] FALSE"
      ]
     },
     "metadata": {},
     "output_type": "display_data"
    },
    {
     "data": {
      "text/html": [
       "TRUE"
      ],
      "text/latex": [
       "TRUE"
      ],
      "text/markdown": [
       "TRUE"
      ],
      "text/plain": [
       "[1] TRUE"
      ]
     },
     "metadata": {},
     "output_type": "display_data"
    }
   ],
   "source": [
    "c1 <- c(1, \"two\", F)\n",
    "c1\n",
    "typeof(c1[1])\n",
    "typeof(c1[2])\n",
    "typeof(c1[3])\n",
    "\n",
    "c2 <- as.logical(c1)\n",
    "typeof(c2[1])\n",
    "typeof(c2[2])\n",
    "typeof(c2[3])\n",
    "\n",
    "mt <- matrix(1:18, nrow=3)\n",
    "mt\n",
    "is.matrix(mt)\n",
    "df <- as.data.frame(mt)\n",
    "df\n",
    "is.data.frame(mt)\n",
    "is.data.frame(df)"
   ]
  },
  {
   "cell_type": "markdown",
   "metadata": {},
   "source": [
    "## Use of factor"
   ]
  },
  {
   "cell_type": "code",
   "execution_count": 125,
   "metadata": {},
   "outputs": [
    {
     "data": {
      "text/html": [
       "<table>\n",
       "<thead><tr><th scope=col>x1</th><th scope=col>y</th></tr></thead>\n",
       "<tbody>\n",
       "\t<tr><td>1</td><td>1</td></tr>\n",
       "\t<tr><td>2</td><td>2</td></tr>\n",
       "\t<tr><td>3</td><td>3</td></tr>\n",
       "\t<tr><td>1</td><td>4</td></tr>\n",
       "\t<tr><td>2</td><td>5</td></tr>\n",
       "</tbody>\n",
       "</table>\n"
      ],
      "text/latex": [
       "\\begin{tabular}{r|ll}\n",
       " x1 & y\\\\\n",
       "\\hline\n",
       "\t 1 & 1\\\\\n",
       "\t 2 & 2\\\\\n",
       "\t 3 & 3\\\\\n",
       "\t 1 & 4\\\\\n",
       "\t 2 & 5\\\\\n",
       "\\end{tabular}\n"
      ],
      "text/markdown": [
       "\n",
       "| x1 | y |\n",
       "|---|---|\n",
       "| 1 | 1 |\n",
       "| 2 | 2 |\n",
       "| 3 | 3 |\n",
       "| 1 | 4 |\n",
       "| 2 | 5 |\n",
       "\n"
      ],
      "text/plain": [
       "  x1 y\n",
       "1 1  1\n",
       "2 2  2\n",
       "3 3  3\n",
       "4 1  4\n",
       "5 2  5"
      ]
     },
     "metadata": {},
     "output_type": "display_data"
    },
    {
     "data": {
      "text/html": [
       "'integer'"
      ],
      "text/latex": [
       "'integer'"
      ],
      "text/markdown": [
       "'integer'"
      ],
      "text/plain": [
       "[1] \"integer\""
      ]
     },
     "metadata": {},
     "output_type": "display_data"
    },
    {
     "name": "stdout",
     "output_type": "stream",
     "text": [
      "'data.frame':\t9 obs. of  2 variables:\n",
      " $ x1: int  1 2 3 1 2 3 1 2 3\n",
      " $ y : int  1 2 3 4 5 6 7 8 9\n"
     ]
    },
    {
     "data": {
      "text/html": [
       "'integer'"
      ],
      "text/latex": [
       "'integer'"
      ],
      "text/markdown": [
       "'integer'"
      ],
      "text/plain": [
       "[1] \"integer\""
      ]
     },
     "metadata": {},
     "output_type": "display_data"
    },
    {
     "data": {
      "text/html": [
       "<table>\n",
       "<thead><tr><th scope=col>x1</th><th scope=col>y</th></tr></thead>\n",
       "<tbody>\n",
       "\t<tr><td>1</td><td>1</td></tr>\n",
       "\t<tr><td>2</td><td>2</td></tr>\n",
       "\t<tr><td>3</td><td>3</td></tr>\n",
       "\t<tr><td>1</td><td>4</td></tr>\n",
       "\t<tr><td>2</td><td>5</td></tr>\n",
       "\t<tr><td>3</td><td>6</td></tr>\n",
       "</tbody>\n",
       "</table>\n"
      ],
      "text/latex": [
       "\\begin{tabular}{r|ll}\n",
       " x1 & y\\\\\n",
       "\\hline\n",
       "\t 1 & 1\\\\\n",
       "\t 2 & 2\\\\\n",
       "\t 3 & 3\\\\\n",
       "\t 1 & 4\\\\\n",
       "\t 2 & 5\\\\\n",
       "\t 3 & 6\\\\\n",
       "\\end{tabular}\n"
      ],
      "text/markdown": [
       "\n",
       "| x1 | y |\n",
       "|---|---|\n",
       "| 1 | 1 |\n",
       "| 2 | 2 |\n",
       "| 3 | 3 |\n",
       "| 1 | 4 |\n",
       "| 2 | 5 |\n",
       "| 3 | 6 |\n",
       "\n"
      ],
      "text/plain": [
       "  x1 y\n",
       "1 1  1\n",
       "2 2  2\n",
       "3 3  3\n",
       "4 1  4\n",
       "5 2  5\n",
       "6 3  6"
      ]
     },
     "metadata": {},
     "output_type": "display_data"
    },
    {
     "name": "stdout",
     "output_type": "stream",
     "text": [
      "'data.frame':\t9 obs. of  2 variables:\n",
      " $ x1: Factor w/ 3 levels \"1\",\"2\",\"3\": 1 2 3 1 2 3 1 2 3\n",
      " $ y : int  1 2 3 4 5 6 7 8 9\n"
     ]
    },
    {
     "data": {
      "text/html": [
       "'integer'"
      ],
      "text/latex": [
       "'integer'"
      ],
      "text/markdown": [
       "'integer'"
      ],
      "text/plain": [
       "[1] \"integer\""
      ]
     },
     "metadata": {},
     "output_type": "display_data"
    },
    {
     "data": {
      "text/html": [
       "<table>\n",
       "<thead><tr><th scope=col>x2</th><th scope=col>y</th></tr></thead>\n",
       "<tbody>\n",
       "\t<tr><td>1</td><td>1</td></tr>\n",
       "\t<tr><td>2</td><td>2</td></tr>\n",
       "\t<tr><td>3</td><td>3</td></tr>\n",
       "\t<tr><td>1</td><td>4</td></tr>\n",
       "\t<tr><td>2</td><td>5</td></tr>\n",
       "\t<tr><td>3</td><td>6</td></tr>\n",
       "</tbody>\n",
       "</table>\n"
      ],
      "text/latex": [
       "\\begin{tabular}{r|ll}\n",
       " x2 & y\\\\\n",
       "\\hline\n",
       "\t 1 & 1\\\\\n",
       "\t 2 & 2\\\\\n",
       "\t 3 & 3\\\\\n",
       "\t 1 & 4\\\\\n",
       "\t 2 & 5\\\\\n",
       "\t 3 & 6\\\\\n",
       "\\end{tabular}\n"
      ],
      "text/markdown": [
       "\n",
       "| x2 | y |\n",
       "|---|---|\n",
       "| 1 | 1 |\n",
       "| 2 | 2 |\n",
       "| 3 | 3 |\n",
       "| 1 | 4 |\n",
       "| 2 | 5 |\n",
       "| 3 | 6 |\n",
       "\n"
      ],
      "text/plain": [
       "  x2 y\n",
       "1 1  1\n",
       "2 2  2\n",
       "3 3  3\n",
       "4 1  4\n",
       "5 2  5\n",
       "6 3  6"
      ]
     },
     "metadata": {},
     "output_type": "display_data"
    },
    {
     "name": "stdout",
     "output_type": "stream",
     "text": [
      "'data.frame':\t9 obs. of  2 variables:\n",
      " $ x2: Factor w/ 3 levels \"1\",\"2\",\"3\": 1 2 3 1 2 3 1 2 3\n",
      " $ y : int  1 2 3 4 5 6 7 8 9\n"
     ]
    },
    {
     "data": {
      "text/html": [
       "'integer'"
      ],
      "text/latex": [
       "'integer'"
      ],
      "text/markdown": [
       "'integer'"
      ],
      "text/plain": [
       "[1] \"integer\""
      ]
     },
     "metadata": {},
     "output_type": "display_data"
    },
    {
     "data": {
      "text/html": [
       "<table>\n",
       "<thead><tr><th scope=col>x3</th><th scope=col>y</th></tr></thead>\n",
       "<tbody>\n",
       "\t<tr><td>one  </td><td>1    </td></tr>\n",
       "\t<tr><td>two  </td><td>2    </td></tr>\n",
       "\t<tr><td>three</td><td>3    </td></tr>\n",
       "\t<tr><td>one  </td><td>4    </td></tr>\n",
       "\t<tr><td>two  </td><td>5    </td></tr>\n",
       "\t<tr><td>three</td><td>6    </td></tr>\n",
       "</tbody>\n",
       "</table>\n"
      ],
      "text/latex": [
       "\\begin{tabular}{r|ll}\n",
       " x3 & y\\\\\n",
       "\\hline\n",
       "\t one   & 1    \\\\\n",
       "\t two   & 2    \\\\\n",
       "\t three & 3    \\\\\n",
       "\t one   & 4    \\\\\n",
       "\t two   & 5    \\\\\n",
       "\t three & 6    \\\\\n",
       "\\end{tabular}\n"
      ],
      "text/markdown": [
       "\n",
       "| x3 | y |\n",
       "|---|---|\n",
       "| one   | 1     |\n",
       "| two   | 2     |\n",
       "| three | 3     |\n",
       "| one   | 4     |\n",
       "| two   | 5     |\n",
       "| three | 6     |\n",
       "\n"
      ],
      "text/plain": [
       "  x3    y\n",
       "1 one   1\n",
       "2 two   2\n",
       "3 three 3\n",
       "4 one   4\n",
       "5 two   5\n",
       "6 three 6"
      ]
     },
     "metadata": {},
     "output_type": "display_data"
    },
    {
     "name": "stdout",
     "output_type": "stream",
     "text": [
      "'data.frame':\t9 obs. of  2 variables:\n",
      " $ x3: Factor w/ 3 levels \"one\",\"two\",\"three\": 1 2 3 1 2 3 1 2 3\n",
      " $ y : int  1 2 3 4 5 6 7 8 9\n"
     ]
    },
    {
     "data": {
      "text/html": [
       "'integer'"
      ],
      "text/latex": [
       "'integer'"
      ],
      "text/markdown": [
       "'integer'"
      ],
      "text/plain": [
       "[1] \"integer\""
      ]
     },
     "metadata": {},
     "output_type": "display_data"
    },
    {
     "data": {
      "text/html": [
       "<table>\n",
       "<thead><tr><th scope=col>x4</th><th scope=col>y</th></tr></thead>\n",
       "<tbody>\n",
       "\t<tr><td>one  </td><td>1    </td></tr>\n",
       "\t<tr><td>two  </td><td>2    </td></tr>\n",
       "\t<tr><td>three</td><td>3    </td></tr>\n",
       "\t<tr><td>one  </td><td>4    </td></tr>\n",
       "\t<tr><td>two  </td><td>5    </td></tr>\n",
       "\t<tr><td>three</td><td>6    </td></tr>\n",
       "</tbody>\n",
       "</table>\n"
      ],
      "text/latex": [
       "\\begin{tabular}{r|ll}\n",
       " x4 & y\\\\\n",
       "\\hline\n",
       "\t one   & 1    \\\\\n",
       "\t two   & 2    \\\\\n",
       "\t three & 3    \\\\\n",
       "\t one   & 4    \\\\\n",
       "\t two   & 5    \\\\\n",
       "\t three & 6    \\\\\n",
       "\\end{tabular}\n"
      ],
      "text/markdown": [
       "\n",
       "| x4 | y |\n",
       "|---|---|\n",
       "| one   | 1     |\n",
       "| two   | 2     |\n",
       "| three | 3     |\n",
       "| one   | 4     |\n",
       "| two   | 5     |\n",
       "| three | 6     |\n",
       "\n"
      ],
      "text/plain": [
       "  x4    y\n",
       "1 one   1\n",
       "2 two   2\n",
       "3 three 3\n",
       "4 one   4\n",
       "5 two   5\n",
       "6 three 6"
      ]
     },
     "metadata": {},
     "output_type": "display_data"
    },
    {
     "name": "stdout",
     "output_type": "stream",
     "text": [
      "'data.frame':\t9 obs. of  2 variables:\n",
      " $ x4: Ord.factor w/ 3 levels \"three\"<\"one\"<..: 2 3 1 2 3 1 2 3 1\n",
      " $ y : int  1 2 3 4 5 6 7 8 9\n"
     ]
    }
   ],
   "source": [
    "x1 <- 1:3\n",
    "y <- 1:9\n",
    "\n",
    "df <- cbind.data.frame(x1, y)\n",
    "head(df, n=5L)\n",
    "typeof(df$x1)\n",
    "str(df)\n",
    "\n",
    "x1 <- as.factor(c(1:3))\n",
    "df <- cbind.data.frame(x1, y)\n",
    "# df$x1 <- factor(df$x1, levels=c(\"one\", \"two\", \"three\"))\n",
    "typeof(df$x1)\n",
    "head(df)\n",
    "str(df)\n",
    "\n",
    "\n",
    "x2 <- c(1:3)\n",
    "df <- cbind.data.frame(x2, y)\n",
    "df$x2 <- factor(df$x2, levels=c(1, 2, 3))\n",
    "typeof(df$x2)\n",
    "head(df)\n",
    "str(df)\n",
    "\n",
    "x3 <- c(1:3)\n",
    "df <- cbind.data.frame(x3, y)\n",
    "df$x3 <- factor(df$x3, levels=c(1, 2, 3), labels=c(\"one\", \"two\", \"three\"))\n",
    "typeof(df$x3)\n",
    "head(df)\n",
    "str(df)\n",
    "\n",
    "x4 <- c(1:3)\n",
    "df <- cbind.data.frame(x4, y)\n",
    "df$x4 <- ordered(df$x4, levels=c(3, 1, 2), labels=c(\"three\", \"one\", \"two\"))\n",
    "typeof(df$x4)\n",
    "head(df)\n",
    "str(df)"
   ]
  },
  {
   "cell_type": "markdown",
   "metadata": {},
   "source": [
    "# Creation of ad hoc data\n",
    "colon (:) - generate sequence of data\n",
    "seq - sequence generation\n",
    "rep - replicate data\n",
    "c - concatenation of arbitrary data\n",
    "scan - read user data"
   ]
  },
  {
   "cell_type": "code",
   "execution_count": 131,
   "metadata": {},
   "outputs": [
    {
     "data": {
      "text/html": [
       "<ol class=list-inline>\n",
       "\t<li>0</li>\n",
       "\t<li>1</li>\n",
       "\t<li>2</li>\n",
       "\t<li>3</li>\n",
       "\t<li>4</li>\n",
       "\t<li>5</li>\n",
       "\t<li>6</li>\n",
       "\t<li>7</li>\n",
       "\t<li>8</li>\n",
       "\t<li>9</li>\n",
       "\t<li>10</li>\n",
       "</ol>\n"
      ],
      "text/latex": [
       "\\begin{enumerate*}\n",
       "\\item 0\n",
       "\\item 1\n",
       "\\item 2\n",
       "\\item 3\n",
       "\\item 4\n",
       "\\item 5\n",
       "\\item 6\n",
       "\\item 7\n",
       "\\item 8\n",
       "\\item 9\n",
       "\\item 10\n",
       "\\end{enumerate*}\n"
      ],
      "text/markdown": [
       "1. 0\n",
       "2. 1\n",
       "3. 2\n",
       "4. 3\n",
       "5. 4\n",
       "6. 5\n",
       "7. 6\n",
       "8. 7\n",
       "9. 8\n",
       "10. 9\n",
       "11. 10\n",
       "\n",
       "\n"
      ],
      "text/plain": [
       " [1]  0  1  2  3  4  5  6  7  8  9 10"
      ]
     },
     "metadata": {},
     "output_type": "display_data"
    },
    {
     "data": {
      "text/html": [
       "<ol class=list-inline>\n",
       "\t<li>10</li>\n",
       "\t<li>9</li>\n",
       "\t<li>8</li>\n",
       "\t<li>7</li>\n",
       "\t<li>6</li>\n",
       "\t<li>5</li>\n",
       "\t<li>4</li>\n",
       "\t<li>3</li>\n",
       "\t<li>2</li>\n",
       "\t<li>1</li>\n",
       "\t<li>0</li>\n",
       "</ol>\n"
      ],
      "text/latex": [
       "\\begin{enumerate*}\n",
       "\\item 10\n",
       "\\item 9\n",
       "\\item 8\n",
       "\\item 7\n",
       "\\item 6\n",
       "\\item 5\n",
       "\\item 4\n",
       "\\item 3\n",
       "\\item 2\n",
       "\\item 1\n",
       "\\item 0\n",
       "\\end{enumerate*}\n"
      ],
      "text/markdown": [
       "1. 10\n",
       "2. 9\n",
       "3. 8\n",
       "4. 7\n",
       "5. 6\n",
       "6. 5\n",
       "7. 4\n",
       "8. 3\n",
       "9. 2\n",
       "10. 1\n",
       "11. 0\n",
       "\n",
       "\n"
      ],
      "text/plain": [
       " [1] 10  9  8  7  6  5  4  3  2  1  0"
      ]
     },
     "metadata": {},
     "output_type": "display_data"
    },
    {
     "data": {
      "text/html": [
       "<ol class=list-inline>\n",
       "\t<li>1</li>\n",
       "\t<li>2</li>\n",
       "\t<li>3</li>\n",
       "\t<li>4</li>\n",
       "\t<li>5</li>\n",
       "\t<li>6</li>\n",
       "\t<li>7</li>\n",
       "\t<li>8</li>\n",
       "\t<li>9</li>\n",
       "\t<li>10</li>\n",
       "</ol>\n"
      ],
      "text/latex": [
       "\\begin{enumerate*}\n",
       "\\item 1\n",
       "\\item 2\n",
       "\\item 3\n",
       "\\item 4\n",
       "\\item 5\n",
       "\\item 6\n",
       "\\item 7\n",
       "\\item 8\n",
       "\\item 9\n",
       "\\item 10\n",
       "\\end{enumerate*}\n"
      ],
      "text/markdown": [
       "1. 1\n",
       "2. 2\n",
       "3. 3\n",
       "4. 4\n",
       "5. 5\n",
       "6. 6\n",
       "7. 7\n",
       "8. 8\n",
       "9. 9\n",
       "10. 10\n",
       "\n",
       "\n"
      ],
      "text/plain": [
       " [1]  1  2  3  4  5  6  7  8  9 10"
      ]
     },
     "metadata": {},
     "output_type": "display_data"
    },
    {
     "data": {
      "text/html": [
       "<ol class=list-inline>\n",
       "\t<li>30</li>\n",
       "\t<li>27</li>\n",
       "\t<li>24</li>\n",
       "\t<li>21</li>\n",
       "\t<li>18</li>\n",
       "\t<li>15</li>\n",
       "\t<li>12</li>\n",
       "\t<li>9</li>\n",
       "\t<li>6</li>\n",
       "\t<li>3</li>\n",
       "\t<li>0</li>\n",
       "</ol>\n"
      ],
      "text/latex": [
       "\\begin{enumerate*}\n",
       "\\item 30\n",
       "\\item 27\n",
       "\\item 24\n",
       "\\item 21\n",
       "\\item 18\n",
       "\\item 15\n",
       "\\item 12\n",
       "\\item 9\n",
       "\\item 6\n",
       "\\item 3\n",
       "\\item 0\n",
       "\\end{enumerate*}\n"
      ],
      "text/markdown": [
       "1. 30\n",
       "2. 27\n",
       "3. 24\n",
       "4. 21\n",
       "5. 18\n",
       "6. 15\n",
       "7. 12\n",
       "8. 9\n",
       "9. 6\n",
       "10. 3\n",
       "11. 0\n",
       "\n",
       "\n"
      ],
      "text/plain": [
       " [1] 30 27 24 21 18 15 12  9  6  3  0"
      ]
     },
     "metadata": {},
     "output_type": "display_data"
    },
    {
     "data": {
      "text/html": [
       "<ol class=list-inline>\n",
       "\t<li>1</li>\n",
       "\t<li>8</li>\n",
       "\t<li>3</li>\n",
       "\t<li>-3</li>\n",
       "\t<li>0</li>\n",
       "</ol>\n"
      ],
      "text/latex": [
       "\\begin{enumerate*}\n",
       "\\item 1\n",
       "\\item 8\n",
       "\\item 3\n",
       "\\item -3\n",
       "\\item 0\n",
       "\\end{enumerate*}\n"
      ],
      "text/markdown": [
       "1. 1\n",
       "2. 8\n",
       "3. 3\n",
       "4. -3\n",
       "5. 0\n",
       "\n",
       "\n"
      ],
      "text/plain": [
       "[1]  1  8  3 -3  0"
      ]
     },
     "metadata": {},
     "output_type": "display_data"
    },
    {
     "data": {
      "text/html": [],
      "text/latex": [],
      "text/markdown": [],
      "text/plain": [
       "numeric(0)"
      ]
     },
     "metadata": {},
     "output_type": "display_data"
    },
    {
     "data": {
      "text/html": [
       "<ol>\n",
       "\t<li>TRUE</li>\n",
       "\t<li>'one'</li>\n",
       "\t<li>TRUE</li>\n",
       "\t<li>'one'</li>\n",
       "\t<li>TRUE</li>\n",
       "\t<li>'one'</li>\n",
       "\t<li>TRUE</li>\n",
       "\t<li>'one'</li>\n",
       "\t<li>TRUE</li>\n",
       "\t<li>'one'</li>\n",
       "</ol>\n"
      ],
      "text/latex": [
       "\\begin{enumerate}\n",
       "\\item TRUE\n",
       "\\item 'one'\n",
       "\\item TRUE\n",
       "\\item 'one'\n",
       "\\item TRUE\n",
       "\\item 'one'\n",
       "\\item TRUE\n",
       "\\item 'one'\n",
       "\\item TRUE\n",
       "\\item 'one'\n",
       "\\end{enumerate}\n"
      ],
      "text/markdown": [
       "1. TRUE\n",
       "2. 'one'\n",
       "3. TRUE\n",
       "4. 'one'\n",
       "5. TRUE\n",
       "6. 'one'\n",
       "7. TRUE\n",
       "8. 'one'\n",
       "9. TRUE\n",
       "10. 'one'\n",
       "\n",
       "\n"
      ],
      "text/plain": [
       "[[1]]\n",
       "[1] TRUE\n",
       "\n",
       "[[2]]\n",
       "[1] \"one\"\n",
       "\n",
       "[[3]]\n",
       "[1] TRUE\n",
       "\n",
       "[[4]]\n",
       "[1] \"one\"\n",
       "\n",
       "[[5]]\n",
       "[1] TRUE\n",
       "\n",
       "[[6]]\n",
       "[1] \"one\"\n",
       "\n",
       "[[7]]\n",
       "[1] TRUE\n",
       "\n",
       "[[8]]\n",
       "[1] \"one\"\n",
       "\n",
       "[[9]]\n",
       "[1] TRUE\n",
       "\n",
       "[[10]]\n",
       "[1] \"one\"\n"
      ]
     },
     "metadata": {},
     "output_type": "display_data"
    },
    {
     "data": {
      "text/html": [
       "<ol>\n",
       "\t<li>TRUE</li>\n",
       "\t<li>TRUE</li>\n",
       "\t<li>TRUE</li>\n",
       "\t<li>TRUE</li>\n",
       "\t<li>TRUE</li>\n",
       "\t<li>'one'</li>\n",
       "\t<li>'one'</li>\n",
       "\t<li>'one'</li>\n",
       "\t<li>'one'</li>\n",
       "\t<li>'one'</li>\n",
       "</ol>\n"
      ],
      "text/latex": [
       "\\begin{enumerate}\n",
       "\\item TRUE\n",
       "\\item TRUE\n",
       "\\item TRUE\n",
       "\\item TRUE\n",
       "\\item TRUE\n",
       "\\item 'one'\n",
       "\\item 'one'\n",
       "\\item 'one'\n",
       "\\item 'one'\n",
       "\\item 'one'\n",
       "\\end{enumerate}\n"
      ],
      "text/markdown": [
       "1. TRUE\n",
       "2. TRUE\n",
       "3. TRUE\n",
       "4. TRUE\n",
       "5. TRUE\n",
       "6. 'one'\n",
       "7. 'one'\n",
       "8. 'one'\n",
       "9. 'one'\n",
       "10. 'one'\n",
       "\n",
       "\n"
      ],
      "text/plain": [
       "[[1]]\n",
       "[1] TRUE\n",
       "\n",
       "[[2]]\n",
       "[1] TRUE\n",
       "\n",
       "[[3]]\n",
       "[1] TRUE\n",
       "\n",
       "[[4]]\n",
       "[1] TRUE\n",
       "\n",
       "[[5]]\n",
       "[1] TRUE\n",
       "\n",
       "[[6]]\n",
       "[1] \"one\"\n",
       "\n",
       "[[7]]\n",
       "[1] \"one\"\n",
       "\n",
       "[[8]]\n",
       "[1] \"one\"\n",
       "\n",
       "[[9]]\n",
       "[1] \"one\"\n",
       "\n",
       "[[10]]\n",
       "[1] \"one\"\n"
      ]
     },
     "metadata": {},
     "output_type": "display_data"
    }
   ],
   "source": [
    "x1 <- 0:10\n",
    "x1\n",
    "x2 <- 10:0\n",
    "x2\n",
    "x3 <- seq(10)\n",
    "x3\n",
    "x4 <- seq(30, 0, by=-3)\n",
    "x4\n",
    "x5 <- c(1, 8, 3, -3, 0)\n",
    "x5\n",
    "x6 <- scan()\n",
    "x6\n",
    "x7 <- rep(list(T, \"one\"), 5)\n",
    "x7\n",
    "x8 <- rep(list(T, \"one\"), each=5)\n",
    "x8"
   ]
  },
  {
   "cell_type": "code",
   "execution_count": 132,
   "metadata": {},
   "outputs": [
    {
     "name": "stderr",
     "output_type": "stream",
     "text": [
      "Warning message:\n",
      "\"package 'rio' was built under R version 3.6.1\""
     ]
    }
   ],
   "source": [
    "library(rio)"
   ]
  },
  {
   "cell_type": "code",
   "execution_count": 134,
   "metadata": {},
   "outputs": [
    {
     "data": {
      "text/html": [
       "<table>\n",
       "<thead><tr><th scope=col>Month</th><th scope=col>Mozart</th><th scope=col>Beethoven</th><th scope=col>Bach</th></tr></thead>\n",
       "<tbody>\n",
       "\t<tr><td>2004-01</td><td>12     </td><td>8      </td><td>15     </td></tr>\n",
       "\t<tr><td>2004-02</td><td>12     </td><td>9      </td><td>15     </td></tr>\n",
       "\t<tr><td>2004-03</td><td>12     </td><td>9      </td><td>14     </td></tr>\n",
       "\t<tr><td>2004-04</td><td>12     </td><td>8      </td><td>14     </td></tr>\n",
       "\t<tr><td>2004-05</td><td>11     </td><td>9      </td><td>13     </td></tr>\n",
       "\t<tr><td>2004-06</td><td> 9     </td><td>7      </td><td>12     </td></tr>\n",
       "</tbody>\n",
       "</table>\n"
      ],
      "text/latex": [
       "\\begin{tabular}{r|llll}\n",
       " Month & Mozart & Beethoven & Bach\\\\\n",
       "\\hline\n",
       "\t 2004-01 & 12      & 8       & 15     \\\\\n",
       "\t 2004-02 & 12      & 9       & 15     \\\\\n",
       "\t 2004-03 & 12      & 9       & 14     \\\\\n",
       "\t 2004-04 & 12      & 8       & 14     \\\\\n",
       "\t 2004-05 & 11      & 9       & 13     \\\\\n",
       "\t 2004-06 &  9      & 7       & 12     \\\\\n",
       "\\end{tabular}\n"
      ],
      "text/markdown": [
       "\n",
       "| Month | Mozart | Beethoven | Bach |\n",
       "|---|---|---|---|\n",
       "| 2004-01 | 12      | 8       | 15      |\n",
       "| 2004-02 | 12      | 9       | 15      |\n",
       "| 2004-03 | 12      | 9       | 14      |\n",
       "| 2004-04 | 12      | 8       | 14      |\n",
       "| 2004-05 | 11      | 9       | 13      |\n",
       "| 2004-06 |  9      | 7       | 12      |\n",
       "\n"
      ],
      "text/plain": [
       "  Month   Mozart Beethoven Bach\n",
       "1 2004-01 12     8         15  \n",
       "2 2004-02 12     9         15  \n",
       "3 2004-03 12     9         14  \n",
       "4 2004-04 12     8         14  \n",
       "5 2004-05 11     9         13  \n",
       "6 2004-06  9     7         12  "
      ]
     },
     "metadata": {},
     "output_type": "display_data"
    },
    {
     "data": {
      "text/html": [
       "<table>\n",
       "<thead><tr><th scope=col>Month</th><th scope=col>Mozart</th><th scope=col>Beethoven</th><th scope=col>Bach</th></tr></thead>\n",
       "<tbody>\n",
       "\t<tr><td>2004-01</td><td>12     </td><td>8      </td><td>15     </td></tr>\n",
       "\t<tr><td>2004-02</td><td>12     </td><td>9      </td><td>15     </td></tr>\n",
       "\t<tr><td>2004-03</td><td>12     </td><td>9      </td><td>14     </td></tr>\n",
       "\t<tr><td>2004-04</td><td>12     </td><td>8      </td><td>14     </td></tr>\n",
       "\t<tr><td>2004-05</td><td>11     </td><td>9      </td><td>13     </td></tr>\n",
       "\t<tr><td>2004-06</td><td> 9     </td><td>7      </td><td>12     </td></tr>\n",
       "</tbody>\n",
       "</table>\n"
      ],
      "text/latex": [
       "\\begin{tabular}{r|llll}\n",
       " Month & Mozart & Beethoven & Bach\\\\\n",
       "\\hline\n",
       "\t 2004-01 & 12      & 8       & 15     \\\\\n",
       "\t 2004-02 & 12      & 9       & 15     \\\\\n",
       "\t 2004-03 & 12      & 9       & 14     \\\\\n",
       "\t 2004-04 & 12      & 8       & 14     \\\\\n",
       "\t 2004-05 & 11      & 9       & 13     \\\\\n",
       "\t 2004-06 &  9      & 7       & 12     \\\\\n",
       "\\end{tabular}\n"
      ],
      "text/markdown": [
       "\n",
       "| Month | Mozart | Beethoven | Bach |\n",
       "|---|---|---|---|\n",
       "| 2004-01 | 12      | 8       | 15      |\n",
       "| 2004-02 | 12      | 9       | 15      |\n",
       "| 2004-03 | 12      | 9       | 14      |\n",
       "| 2004-04 | 12      | 8       | 14      |\n",
       "| 2004-05 | 11      | 9       | 13      |\n",
       "| 2004-06 |  9      | 7       | 12      |\n",
       "\n"
      ],
      "text/plain": [
       "  Month   Mozart Beethoven Bach\n",
       "1 2004-01 12     8         15  \n",
       "2 2004-02 12     9         15  \n",
       "3 2004-03 12     9         14  \n",
       "4 2004-04 12     8         14  \n",
       "5 2004-05 11     9         13  \n",
       "6 2004-06  9     7         12  "
      ]
     },
     "metadata": {},
     "output_type": "display_data"
    },
    {
     "data": {
      "text/html": [
       "<table>\n",
       "<thead><tr><th scope=col>Month</th><th scope=col>Mozart</th><th scope=col>Beethoven</th><th scope=col>Bach</th></tr></thead>\n",
       "<tbody>\n",
       "\t<tr><td>2004-01</td><td>12     </td><td>8      </td><td>15     </td></tr>\n",
       "\t<tr><td>2004-02</td><td>12     </td><td>9      </td><td>15     </td></tr>\n",
       "\t<tr><td>2004-03</td><td>12     </td><td>9      </td><td>14     </td></tr>\n",
       "\t<tr><td>2004-04</td><td>12     </td><td>8      </td><td>14     </td></tr>\n",
       "\t<tr><td>2004-05</td><td>11     </td><td>9      </td><td>13     </td></tr>\n",
       "\t<tr><td>2004-06</td><td> 9     </td><td>7      </td><td>12     </td></tr>\n",
       "</tbody>\n",
       "</table>\n"
      ],
      "text/latex": [
       "\\begin{tabular}{r|llll}\n",
       " Month & Mozart & Beethoven & Bach\\\\\n",
       "\\hline\n",
       "\t 2004-01 & 12      & 8       & 15     \\\\\n",
       "\t 2004-02 & 12      & 9       & 15     \\\\\n",
       "\t 2004-03 & 12      & 9       & 14     \\\\\n",
       "\t 2004-04 & 12      & 8       & 14     \\\\\n",
       "\t 2004-05 & 11      & 9       & 13     \\\\\n",
       "\t 2004-06 &  9      & 7       & 12     \\\\\n",
       "\\end{tabular}\n"
      ],
      "text/markdown": [
       "\n",
       "| Month | Mozart | Beethoven | Bach |\n",
       "|---|---|---|---|\n",
       "| 2004-01 | 12      | 8       | 15      |\n",
       "| 2004-02 | 12      | 9       | 15      |\n",
       "| 2004-03 | 12      | 9       | 14      |\n",
       "| 2004-04 | 12      | 8       | 14      |\n",
       "| 2004-05 | 11      | 9       | 13      |\n",
       "| 2004-06 |  9      | 7       | 12      |\n",
       "\n"
      ],
      "text/plain": [
       "  Month   Mozart Beethoven Bach\n",
       "1 2004-01 12     8         15  \n",
       "2 2004-02 12     9         15  \n",
       "3 2004-03 12     9         14  \n",
       "4 2004-04 12     8         14  \n",
       "5 2004-05 11     9         13  \n",
       "6 2004-06  9     7         12  "
      ]
     },
     "metadata": {},
     "output_type": "display_data"
    }
   ],
   "source": [
    "data <- import('mbb.csv')\n",
    "head(data)\n",
    "data <- import('mbb.txt')\n",
    "head(data)\n",
    "data <- import('mbb.xlsx')\n",
    "head(data)"
   ]
  },
  {
   "cell_type": "code",
   "execution_count": 139,
   "metadata": {},
   "outputs": [
    {
     "data": {
      "text/html": [
       "<table>\n",
       "<thead><tr><th scope=col>Month</th><th scope=col>Mozart</th><th scope=col>Beethoven</th><th scope=col>Bach</th></tr></thead>\n",
       "<tbody>\n",
       "\t<tr><td>2004-01</td><td>12     </td><td>8      </td><td>15     </td></tr>\n",
       "\t<tr><td>2004-02</td><td>12     </td><td>9      </td><td>15     </td></tr>\n",
       "\t<tr><td>2004-03</td><td>12     </td><td>9      </td><td>14     </td></tr>\n",
       "\t<tr><td>2004-04</td><td>12     </td><td>8      </td><td>14     </td></tr>\n",
       "\t<tr><td>2004-05</td><td>11     </td><td>9      </td><td>13     </td></tr>\n",
       "\t<tr><td>2004-06</td><td> 9     </td><td>7      </td><td>12     </td></tr>\n",
       "</tbody>\n",
       "</table>\n"
      ],
      "text/latex": [
       "\\begin{tabular}{r|llll}\n",
       " Month & Mozart & Beethoven & Bach\\\\\n",
       "\\hline\n",
       "\t 2004-01 & 12      & 8       & 15     \\\\\n",
       "\t 2004-02 & 12      & 9       & 15     \\\\\n",
       "\t 2004-03 & 12      & 9       & 14     \\\\\n",
       "\t 2004-04 & 12      & 8       & 14     \\\\\n",
       "\t 2004-05 & 11      & 9       & 13     \\\\\n",
       "\t 2004-06 &  9      & 7       & 12     \\\\\n",
       "\\end{tabular}\n"
      ],
      "text/markdown": [
       "\n",
       "| Month | Mozart | Beethoven | Bach |\n",
       "|---|---|---|---|\n",
       "| 2004-01 | 12      | 8       | 15      |\n",
       "| 2004-02 | 12      | 9       | 15      |\n",
       "| 2004-03 | 12      | 9       | 14      |\n",
       "| 2004-04 | 12      | 8       | 14      |\n",
       "| 2004-05 | 11      | 9       | 13      |\n",
       "| 2004-06 |  9      | 7       | 12      |\n",
       "\n"
      ],
      "text/plain": [
       "  Month   Mozart Beethoven Bach\n",
       "1 2004-01 12     8         15  \n",
       "2 2004-02 12     9         15  \n",
       "3 2004-03 12     9         14  \n",
       "4 2004-04 12     8         14  \n",
       "5 2004-05 11     9         13  \n",
       "6 2004-06  9     7         12  "
      ]
     },
     "metadata": {},
     "output_type": "display_data"
    },
    {
     "data": {
      "text/html": [
       "'list'"
      ],
      "text/latex": [
       "'list'"
      ],
      "text/markdown": [
       "'list'"
      ],
      "text/plain": [
       "[1] \"list\""
      ]
     },
     "metadata": {},
     "output_type": "display_data"
    }
   ],
   "source": [
    "head(data)\n",
    "df_data <- as.data.frame(data)\n",
    "typeof(df_data)"
   ]
  },
  {
   "cell_type": "markdown",
   "metadata": {},
   "source": [
    "# Elementary Data Analysis\n",
    "## Hierchical Modelling"
   ]
  },
  {
   "cell_type": "code",
   "execution_count": 141,
   "metadata": {},
   "outputs": [
    {
     "data": {
      "text/html": [
       "<table>\n",
       "<thead><tr><th></th><th scope=col>mpg</th><th scope=col>cyl</th><th scope=col>disp</th><th scope=col>hp</th><th scope=col>drat</th><th scope=col>wt</th><th scope=col>qsec</th><th scope=col>vs</th><th scope=col>am</th><th scope=col>gear</th><th scope=col>carb</th></tr></thead>\n",
       "<tbody>\n",
       "\t<tr><th scope=row>Mazda RX4</th><td>21.0 </td><td>6    </td><td>160  </td><td>110  </td><td>3.90 </td><td>2.620</td><td>16.46</td><td>0    </td><td>1    </td><td>4    </td><td>4    </td></tr>\n",
       "\t<tr><th scope=row>Mazda RX4 Wag</th><td>21.0 </td><td>6    </td><td>160  </td><td>110  </td><td>3.90 </td><td>2.875</td><td>17.02</td><td>0    </td><td>1    </td><td>4    </td><td>4    </td></tr>\n",
       "\t<tr><th scope=row>Datsun 710</th><td>22.8 </td><td>4    </td><td>108  </td><td> 93  </td><td>3.85 </td><td>2.320</td><td>18.61</td><td>1    </td><td>1    </td><td>4    </td><td>1    </td></tr>\n",
       "\t<tr><th scope=row>Hornet 4 Drive</th><td>21.4 </td><td>6    </td><td>258  </td><td>110  </td><td>3.08 </td><td>3.215</td><td>19.44</td><td>1    </td><td>0    </td><td>3    </td><td>1    </td></tr>\n",
       "\t<tr><th scope=row>Hornet Sportabout</th><td>18.7 </td><td>8    </td><td>360  </td><td>175  </td><td>3.15 </td><td>3.440</td><td>17.02</td><td>0    </td><td>0    </td><td>3    </td><td>2    </td></tr>\n",
       "</tbody>\n",
       "</table>\n"
      ],
      "text/latex": [
       "\\begin{tabular}{r|lllllllllll}\n",
       "  & mpg & cyl & disp & hp & drat & wt & qsec & vs & am & gear & carb\\\\\n",
       "\\hline\n",
       "\tMazda RX4 & 21.0  & 6     & 160   & 110   & 3.90  & 2.620 & 16.46 & 0     & 1     & 4     & 4    \\\\\n",
       "\tMazda RX4 Wag & 21.0  & 6     & 160   & 110   & 3.90  & 2.875 & 17.02 & 0     & 1     & 4     & 4    \\\\\n",
       "\tDatsun 710 & 22.8  & 4     & 108   &  93   & 3.85  & 2.320 & 18.61 & 1     & 1     & 4     & 1    \\\\\n",
       "\tHornet 4 Drive & 21.4  & 6     & 258   & 110   & 3.08  & 3.215 & 19.44 & 1     & 0     & 3     & 1    \\\\\n",
       "\tHornet Sportabout & 18.7  & 8     & 360   & 175   & 3.15  & 3.440 & 17.02 & 0     & 0     & 3     & 2    \\\\\n",
       "\\end{tabular}\n"
      ],
      "text/markdown": [
       "\n",
       "| <!--/--> | mpg | cyl | disp | hp | drat | wt | qsec | vs | am | gear | carb |\n",
       "|---|---|---|---|---|---|---|---|---|---|---|---|\n",
       "| Mazda RX4 | 21.0  | 6     | 160   | 110   | 3.90  | 2.620 | 16.46 | 0     | 1     | 4     | 4     |\n",
       "| Mazda RX4 Wag | 21.0  | 6     | 160   | 110   | 3.90  | 2.875 | 17.02 | 0     | 1     | 4     | 4     |\n",
       "| Datsun 710 | 22.8  | 4     | 108   |  93   | 3.85  | 2.320 | 18.61 | 1     | 1     | 4     | 1     |\n",
       "| Hornet 4 Drive | 21.4  | 6     | 258   | 110   | 3.08  | 3.215 | 19.44 | 1     | 0     | 3     | 1     |\n",
       "| Hornet Sportabout | 18.7  | 8     | 360   | 175   | 3.15  | 3.440 | 17.02 | 0     | 0     | 3     | 2     |\n",
       "\n"
      ],
      "text/plain": [
       "                  mpg  cyl disp hp  drat wt    qsec  vs am gear carb\n",
       "Mazda RX4         21.0 6   160  110 3.90 2.620 16.46 0  1  4    4   \n",
       "Mazda RX4 Wag     21.0 6   160  110 3.90 2.875 17.02 0  1  4    4   \n",
       "Datsun 710        22.8 4   108   93 3.85 2.320 18.61 1  1  4    1   \n",
       "Hornet 4 Drive    21.4 6   258  110 3.08 3.215 19.44 1  0  3    1   \n",
       "Hornet Sportabout 18.7 8   360  175 3.15 3.440 17.02 0  0  3    2   "
      ]
     },
     "metadata": {},
     "output_type": "display_data"
    },
    {
     "data": {
      "text/html": [
       "<table>\n",
       "<thead><tr><th></th><th scope=col>mpg</th><th scope=col>cyl</th><th scope=col>disp</th><th scope=col>hp</th><th scope=col>wt</th><th scope=col>qsec</th><th scope=col>am</th><th scope=col>gear</th><th scope=col>carb</th></tr></thead>\n",
       "<tbody>\n",
       "\t<tr><th scope=row>Mazda RX4</th><td>21.0 </td><td>6    </td><td>160  </td><td>110  </td><td>2.620</td><td>16.46</td><td>1    </td><td>4    </td><td>4    </td></tr>\n",
       "\t<tr><th scope=row>Mazda RX4 Wag</th><td>21.0 </td><td>6    </td><td>160  </td><td>110  </td><td>2.875</td><td>17.02</td><td>1    </td><td>4    </td><td>4    </td></tr>\n",
       "\t<tr><th scope=row>Datsun 710</th><td>22.8 </td><td>4    </td><td>108  </td><td> 93  </td><td>2.320</td><td>18.61</td><td>1    </td><td>4    </td><td>1    </td></tr>\n",
       "\t<tr><th scope=row>Hornet 4 Drive</th><td>21.4 </td><td>6    </td><td>258  </td><td>110  </td><td>3.215</td><td>19.44</td><td>0    </td><td>3    </td><td>1    </td></tr>\n",
       "\t<tr><th scope=row>Hornet Sportabout</th><td>18.7 </td><td>8    </td><td>360  </td><td>175  </td><td>3.440</td><td>17.02</td><td>0    </td><td>3    </td><td>2    </td></tr>\n",
       "\t<tr><th scope=row>Valiant</th><td>18.1 </td><td>6    </td><td>225  </td><td>105  </td><td>3.460</td><td>20.22</td><td>0    </td><td>3    </td><td>1    </td></tr>\n",
       "</tbody>\n",
       "</table>\n"
      ],
      "text/latex": [
       "\\begin{tabular}{r|lllllllll}\n",
       "  & mpg & cyl & disp & hp & wt & qsec & am & gear & carb\\\\\n",
       "\\hline\n",
       "\tMazda RX4 & 21.0  & 6     & 160   & 110   & 2.620 & 16.46 & 1     & 4     & 4    \\\\\n",
       "\tMazda RX4 Wag & 21.0  & 6     & 160   & 110   & 2.875 & 17.02 & 1     & 4     & 4    \\\\\n",
       "\tDatsun 710 & 22.8  & 4     & 108   &  93   & 2.320 & 18.61 & 1     & 4     & 1    \\\\\n",
       "\tHornet 4 Drive & 21.4  & 6     & 258   & 110   & 3.215 & 19.44 & 0     & 3     & 1    \\\\\n",
       "\tHornet Sportabout & 18.7  & 8     & 360   & 175   & 3.440 & 17.02 & 0     & 3     & 2    \\\\\n",
       "\tValiant & 18.1  & 6     & 225   & 105   & 3.460 & 20.22 & 0     & 3     & 1    \\\\\n",
       "\\end{tabular}\n"
      ],
      "text/markdown": [
       "\n",
       "| <!--/--> | mpg | cyl | disp | hp | wt | qsec | am | gear | carb |\n",
       "|---|---|---|---|---|---|---|---|---|---|\n",
       "| Mazda RX4 | 21.0  | 6     | 160   | 110   | 2.620 | 16.46 | 1     | 4     | 4     |\n",
       "| Mazda RX4 Wag | 21.0  | 6     | 160   | 110   | 2.875 | 17.02 | 1     | 4     | 4     |\n",
       "| Datsun 710 | 22.8  | 4     | 108   |  93   | 2.320 | 18.61 | 1     | 4     | 1     |\n",
       "| Hornet 4 Drive | 21.4  | 6     | 258   | 110   | 3.215 | 19.44 | 0     | 3     | 1     |\n",
       "| Hornet Sportabout | 18.7  | 8     | 360   | 175   | 3.440 | 17.02 | 0     | 3     | 2     |\n",
       "| Valiant | 18.1  | 6     | 225   | 105   | 3.460 | 20.22 | 0     | 3     | 1     |\n",
       "\n"
      ],
      "text/plain": [
       "                  mpg  cyl disp hp  wt    qsec  am gear carb\n",
       "Mazda RX4         21.0 6   160  110 2.620 16.46 1  4    4   \n",
       "Mazda RX4 Wag     21.0 6   160  110 2.875 17.02 1  4    4   \n",
       "Datsun 710        22.8 4   108   93 2.320 18.61 1  4    1   \n",
       "Hornet 4 Drive    21.4 6   258  110 3.215 19.44 0  3    1   \n",
       "Hornet Sportabout 18.7 8   360  175 3.440 17.02 0  3    2   \n",
       "Valiant           18.1 6   225  105 3.460 20.22 0  3    1   "
      ]
     },
     "metadata": {},
     "output_type": "display_data"
    }
   ],
   "source": [
    "library(datasets)\n",
    "head(mtcars, n=5L)\n",
    "cars <- mtcars[, c(1:4, 6:7, 9:11)]\n",
    "head(cars)"
   ]
  },
  {
   "cell_type": "code",
   "execution_count": 145,
   "metadata": {},
   "outputs": [
    {
     "data": {
      "image/png": "[encoded data removed]",
      "text/plain": [
       "Plot with title \"Cluster Dendrogram\""
      ]
     },
     "metadata": {},
     "output_type": "display_data"
    }
   ],
   "source": [
    "library(dplyr)\n",
    "hc <- cars %>% dist %>% hclust\n",
    "plot(hc)"
   ]
  },
  {
   "cell_type": "code",
   "execution_count": 148,
   "metadata": {},
   "outputs": [
    {
     "data": {
      "image/png": "[encoded data removed]",
      "text/plain": [
       "Plot with title \"Cluster Dendrogram\""
      ]
     },
     "metadata": {},
     "output_type": "display_data"
    }
   ],
   "source": [
    "plot(hc)\n",
    "rect.hclust(hc, k = 2, border='red')\n",
    "rect.hclust(hc, k = 3, border='green')\n",
    "rect.hclust(hc, k = 4, border='blue')\n",
    "rect.hclust(hc, k = 5, border='yellow')\n"
   ]
  },
  {
   "cell_type": "markdown",
   "metadata": {},
   "source": [
    "# Dimensionality Reduction"
   ]
  },
  {
   "cell_type": "code",
   "execution_count": 152,
   "metadata": {},
   "outputs": [
    {
     "data": {
      "text/html": [
       "<dl>\n",
       "\t<dt>$sdev</dt>\n",
       "\t\t<dd><ol class=list-inline>\n",
       "\t<li>2.33914097350423</li>\n",
       "\t<li>1.52993832678814</li>\n",
       "\t<li>0.718364551062696</li>\n",
       "\t<li>0.464905158685231</li>\n",
       "\t<li>0.389034831804177</li>\n",
       "\t<li>0.350991075344758</li>\n",
       "\t<li>0.317137343413083</li>\n",
       "\t<li>0.240698933482934</li>\n",
       "\t<li>0.149896234132938</li>\n",
       "</ol>\n",
       "</dd>\n",
       "\t<dt>$rotation</dt>\n",
       "\t\t<dd><table>\n",
       "<thead><tr><th></th><th scope=col>PC1</th><th scope=col>PC2</th><th scope=col>PC3</th><th scope=col>PC4</th><th scope=col>PC5</th><th scope=col>PC6</th><th scope=col>PC7</th><th scope=col>PC8</th><th scope=col>PC9</th></tr></thead>\n",
       "<tbody>\n",
       "\t<tr><th scope=row>mpg</th><td>-0.4023287  </td><td> 0.02205294 </td><td>-0.17272803 </td><td>-0.1366169  </td><td> 0.31654561 </td><td>-0.718609897</td><td> 0.3633216  </td><td>-0.1487806  </td><td> 0.13567069 </td></tr>\n",
       "\t<tr><th scope=row>cyl</th><td> 0.4068870  </td><td> 0.03589482 </td><td>-0.27747610 </td><td> 0.1410976  </td><td> 0.02066646 </td><td>-0.214224005</td><td> 0.2099893  </td><td> 0.7951724  </td><td> 0.11635839 </td></tr>\n",
       "\t<tr><th scope=row>disp</th><td> 0.4046964  </td><td>-0.06479590 </td><td>-0.17669890 </td><td>-0.5089434  </td><td> 0.21525777 </td><td> 0.010052074</td><td> 0.2007152  </td><td>-0.1346748  </td><td>-0.66099594 </td></tr>\n",
       "\t<tr><th scope=row>hp</th><td> 0.3699702  </td><td> 0.26518848 </td><td>-0.01046827 </td><td>-0.1273173  </td><td> 0.42166543 </td><td>-0.254229405</td><td>-0.6741641  </td><td>-0.1210386  </td><td> 0.25474680 </td></tr>\n",
       "\t<tr><th scope=row>wt</th><td> 0.3850686  </td><td>-0.15955242 </td><td> 0.33740464 </td><td>-0.4469327  </td><td>-0.21141143 </td><td> 0.002897706</td><td> 0.3392809  </td><td>-0.1598333  </td><td> 0.57211273 </td></tr>\n",
       "\t<tr><th scope=row>qsec</th><td>-0.2168575  </td><td>-0.48343885 </td><td> 0.54815205 </td><td>-0.2545226  </td><td> 0.05466817 </td><td>-0.226660704</td><td>-0.2986852  </td><td> 0.4144075  </td><td>-0.19671599 </td></tr>\n",
       "\t<tr><th scope=row>am</th><td>-0.2594512  </td><td> 0.46039449 </td><td>-0.19492256 </td><td>-0.5354196  </td><td>-0.55331460 </td><td>-0.087616182</td><td>-0.2135605  </td><td> 0.1897463  </td><td>-0.02465169 </td></tr>\n",
       "\t<tr><th scope=row>gear</th><td>-0.2195660  </td><td> 0.50608232 </td><td> 0.34579810 </td><td>-0.1799814  </td><td> 0.50533262 </td><td> 0.393990378</td><td> 0.2484622  </td><td> 0.2614819  </td><td> 0.05482771 </td></tr>\n",
       "\t<tr><th scope=row>carb</th><td> 0.2471604  </td><td> 0.44322600 </td><td> 0.53847588 </td><td> 0.3203064  </td><td>-0.25696817 </td><td>-0.398353829</td><td> 0.1321064  </td><td>-0.1054553  </td><td>-0.31083546 </td></tr>\n",
       "</tbody>\n",
       "</table>\n",
       "</dd>\n",
       "\t<dt>$center</dt>\n",
       "\t\t<dd><dl class=dl-horizontal>\n",
       "\t<dt>mpg</dt>\n",
       "\t\t<dd>20.090625</dd>\n",
       "\t<dt>cyl</dt>\n",
       "\t\t<dd>6.1875</dd>\n",
       "\t<dt>disp</dt>\n",
       "\t\t<dd>230.721875</dd>\n",
       "\t<dt>hp</dt>\n",
       "\t\t<dd>146.6875</dd>\n",
       "\t<dt>wt</dt>\n",
       "\t\t<dd>3.21725</dd>\n",
       "\t<dt>qsec</dt>\n",
       "\t\t<dd>17.84875</dd>\n",
       "\t<dt>am</dt>\n",
       "\t\t<dd>0.40625</dd>\n",
       "\t<dt>gear</dt>\n",
       "\t\t<dd>3.6875</dd>\n",
       "\t<dt>carb</dt>\n",
       "\t\t<dd>2.8125</dd>\n",
       "</dl>\n",
       "</dd>\n",
       "\t<dt>$scale</dt>\n",
       "\t\t<dd><dl class=dl-horizontal>\n",
       "\t<dt>mpg</dt>\n",
       "\t\t<dd>6.0269480520891</dd>\n",
       "\t<dt>cyl</dt>\n",
       "\t\t<dd>1.78592164694654</dd>\n",
       "\t<dt>disp</dt>\n",
       "\t\t<dd>123.938693831382</dd>\n",
       "\t<dt>hp</dt>\n",
       "\t\t<dd>68.5628684893206</dd>\n",
       "\t<dt>wt</dt>\n",
       "\t\t<dd>0.978457442989697</dd>\n",
       "\t<dt>qsec</dt>\n",
       "\t\t<dd>1.78694323609684</dd>\n",
       "\t<dt>am</dt>\n",
       "\t\t<dd>0.498990917235846</dd>\n",
       "\t<dt>gear</dt>\n",
       "\t\t<dd>0.737804065256947</dd>\n",
       "\t<dt>carb</dt>\n",
       "\t\t<dd>1.61519997763185</dd>\n",
       "</dl>\n",
       "</dd>\n",
       "\t<dt>$x</dt>\n",
       "\t\t<dd><table>\n",
       "<thead><tr><th></th><th scope=col>PC1</th><th scope=col>PC2</th><th scope=col>PC3</th><th scope=col>PC4</th><th scope=col>PC5</th><th scope=col>PC6</th><th scope=col>PC7</th><th scope=col>PC8</th><th scope=col>PC9</th></tr></thead>\n",
       "<tbody>\n",
       "\t<tr><th scope=row>Mazda RX4</th><td>-0.81883768  </td><td> 1.45577333  </td><td>-0.21204263  </td><td> 0.315888300 </td><td>-0.84958691  </td><td>-0.01150126  </td><td> 0.2522589117</td><td> 0.070182163 </td><td>-0.181855680 </td></tr>\n",
       "\t<tr><th scope=row>Mazda RX4 Wag</th><td>-0.78644303  </td><td> 1.26268953  </td><td> 0.04767210  </td><td> 0.119647855 </td><td>-0.88755160  </td><td>-0.08177799  </td><td> 0.2470770970</td><td> 0.158396118 </td><td>-0.094402631 </td></tr>\n",
       "\t<tr><th scope=row>Datsun 710</th><td>-2.49423117  </td><td> 0.02762658  </td><td>-0.32023017  </td><td>-0.401948370 </td><td>-0.36518038  </td><td> 0.53888511  </td><td>-0.5002113448</td><td>-0.034749407 </td><td> 0.107758386 </td></tr>\n",
       "\t<tr><th scope=row>Hornet 4 Drive</th><td>-0.29454234  </td><td>-1.92903945  </td><td>-0.32211475  </td><td>-0.069818183 </td><td> 0.20547103  </td><td>-0.04600804  </td><td>-0.0108490874</td><td> 0.008913676 </td><td>-0.123239037 </td></tr>\n",
       "\t<tr><th scope=row>Hornet Sportabout</th><td> 1.56041411  </td><td>-0.80821419  </td><td>-1.04219408  </td><td> 0.050065675 </td><td> 0.38197028  </td><td>-0.13573066  </td><td> 0.1519111982</td><td> 0.077208430 </td><td>-0.150672423 </td></tr>\n",
       "\t<tr><th scope=row>Valiant</th><td>-0.20722532  </td><td>-2.19417266  </td><td> 0.14402455  </td><td>-0.073226863 </td><td>-0.08498911  </td><td> 0.26511187  </td><td>-0.2594831624</td><td> 0.275929962 </td><td> 0.017282559 </td></tr>\n",
       "\t<tr><th scope=row>Duster 360</th><td> 2.73226603  </td><td> 0.29328994  </td><td>-0.57716172  </td><td> 0.525124977 </td><td> 0.19900274  </td><td>-0.21386156  </td><td>-0.3957363363</td><td>-0.363215758 </td><td>-0.168608127 </td></tr>\n",
       "\t<tr><th scope=row>Merc 240D</th><td>-1.79527743  </td><td>-1.27281225  </td><td> 1.03388048  </td><td> 0.136366170 </td><td> 0.39973745  </td><td> 0.22142233  </td><td> 0.5428418769</td><td>-0.326885871 </td><td> 0.034834992 </td></tr>\n",
       "\t<tr><th scope=row>Merc 230</th><td>-1.89734058  </td><td>-1.92598643  </td><td> 1.95890184  </td><td>-0.259206293 </td><td> 0.60577005  </td><td>-0.07860918  </td><td>-0.3862488169</td><td> 0.339834557 </td><td>-0.189739133 </td></tr>\n",
       "\t<tr><th scope=row>Merc 280</th><td> 0.01565012  </td><td>-0.05866208  </td><td> 1.06454809  </td><td> 0.737712361 </td><td> 0.13700873  </td><td> 0.10015509  </td><td> 0.4329982539</td><td>-0.004088557 </td><td> 0.111701775 </td></tr>\n",
       "\t<tr><th scope=row>Merc 280C</th><td> 0.03629307  </td><td>-0.22610850  </td><td> 1.28872352  </td><td> 0.683986341 </td><td> 0.08183421  </td><td> 0.19097540  </td><td> 0.2483130414</td><td> 0.169616855 </td><td> 0.014135709 </td></tr>\n",
       "\t<tr><th scope=row>Merc 450SE</th><td> 1.82083345  </td><td>-0.68439747  </td><td>-0.18980574  </td><td> 0.295092091 </td><td>-0.13790858  </td><td>-0.17982680  </td><td> 0.0644632164</td><td> 0.136576953 </td><td> 0.399280466 </td></tr>\n",
       "\t<tr><th scope=row>Merc 450SL</th><td> 1.60267678  </td><td>-0.67977004  </td><td>-0.27149159  </td><td> 0.401507010 </td><td>-0.01105796  </td><td>-0.31351178  </td><td>-0.0326072369</td><td> 0.216281162 </td><td> 0.198722029 </td></tr>\n",
       "\t<tr><th scope=row>Merc 450SLC</th><td> 1.71399687  </td><td>-0.80382315  </td><td>-0.07136381  </td><td> 0.369296647 </td><td>-0.11991960  </td><td>-0.11371190  </td><td>-0.2087231635</td><td> 0.352717370 </td><td> 0.136650969 </td></tr>\n",
       "\t<tr><th scope=row>Cadillac Fleetwood</th><td> 3.54393557  </td><td>-0.78715158  </td><td> 0.61681226  </td><td>-0.844299902 </td><td>-0.35483328  </td><td> 0.14208110  </td><td> 0.1686960199</td><td>-0.096175655 </td><td>-0.255615988 </td></tr>\n",
       "\t<tr><th scope=row>Lincoln Continental</th><td> 3.64660694  </td><td>-0.72728678  </td><td> 0.64331413  </td><td>-0.870281313 </td><td>-0.35666482  </td><td> 0.12483822  </td><td> 0.1380129217</td><td>-0.166318506 </td><td>-0.035108813 </td></tr>\n",
       "\t<tr><th scope=row>Chrysler Imperial</th><td> 3.39264826  </td><td>-0.52198151  </td><td> 0.39635946  </td><td>-0.820419326 </td><td>-0.06847485  </td><td>-0.39460143  </td><td> 0.2568141030</td><td>-0.357074479 </td><td> 0.221926989 </td></tr>\n",
       "\t<tr><th scope=row>Fiat 128</th><td>-3.52803830  </td><td>-0.23945546  </td><td>-0.32703554  </td><td>-0.516783758 </td><td>-0.02567396  </td><td>-0.61745094  </td><td> 0.1111807743</td><td> 0.026812599 </td><td> 0.214967700 </td></tr>\n",
       "\t<tr><th scope=row>Honda Civic</th><td>-3.44178368  </td><td> 0.32746057  </td><td>-0.42306580  </td><td> 0.167700576 </td><td>-0.28378711  </td><td>-0.45517710  </td><td> 0.1611472382</td><td>-0.085881908 </td><td>-0.295988897 </td></tr>\n",
       "\t<tr><th scope=row>Toyota Corolla</th><td>-3.85421097  </td><td>-0.29067456  </td><td>-0.35299640  </td><td>-0.412244409 </td><td> 0.12577796  </td><td>-0.84883188  </td><td> 0.0006918617</td><td> 0.159151765 </td><td> 0.024795528 </td></tr>\n",
       "\t<tr><th scope=row>Toyota Corona</th><td>-1.64164478  </td><td>-1.97896631  </td><td> 0.10056967  </td><td> 0.621710410 </td><td> 0.04761048  </td><td> 0.14446951  </td><td>-0.6908183162</td><td>-0.456547134 </td><td>-0.065421142 </td></tr>\n",
       "\t<tr><th scope=row>Dodge Challenger</th><td> 1.55167305  </td><td>-0.86712498  </td><td>-0.90521454  </td><td> 0.326318496 </td><td>-0.03467077  </td><td> 0.35437059  </td><td> 0.1896203162</td><td> 0.198121231 </td><td>-0.028308674 </td></tr>\n",
       "\t<tr><th scope=row>AMC Javelin</th><td> 1.44035057  </td><td>-0.96337487  </td><td>-0.77406360  </td><td> 0.368187375 </td><td>-0.04322194  </td><td> 0.33421087  </td><td> 0.0475150953</td><td> 0.334345388 </td><td>-0.057433273 </td></tr>\n",
       "\t<tr><th scope=row>Camaro Z28</th><td> 2.92480902  </td><td> 0.36716333  </td><td>-0.57304474  </td><td> 0.526775004 </td><td> 0.05762007  </td><td>-0.04009785  </td><td>-0.3067172410</td><td>-0.471489439 </td><td> 0.067421709 </td></tr>\n",
       "\t<tr><th scope=row>Pontiac Firebird</th><td> 1.81339410  </td><td>-0.90145453  </td><td>-0.96469148  </td><td>-0.314790674 </td><td> 0.39111452  </td><td>-0.19470872  </td><td> 0.3822511126</td><td>-0.037799957 </td><td>-0.119242525 </td></tr>\n",
       "\t<tr><th scope=row>Fiat X1-9</th><td>-3.22172493  </td><td>-0.06085364  </td><td>-0.44753150  </td><td>-0.200178011 </td><td>-0.25319420  </td><td> 0.06217622  </td><td>-0.1923901293</td><td> 0.063485192 </td><td> 0.006363979 </td></tr>\n",
       "\t<tr><th scope=row>Porsche 914-2</th><td>-2.66209565  </td><td> 1.53159161  </td><td>-0.27507492  </td><td>-0.212645194 </td><td> 0.31823141  </td><td> 0.69486607  </td><td> 0.4076663225</td><td>-0.248004690 </td><td> 0.093645749 </td></tr>\n",
       "\t<tr><th scope=row>Lotus Europa</th><td>-3.19041442  </td><td> 1.69409211  </td><td>-0.52346685  </td><td> 0.008155493 </td><td> 0.78245261  </td><td> 0.05939704  </td><td> 0.1649363550</td><td>-0.219274124 </td><td> 0.020202599 </td></tr>\n",
       "\t<tr><th scope=row>Ford Pantera L</th><td> 1.59533098  </td><td> 3.09923346  </td><td>-0.61246644  </td><td>-0.694517979 </td><td> 0.68539841  </td><td> 0.59731381  </td><td>-0.1758978468</td><td> 0.419647806 </td><td>-0.003396395 </td></tr>\n",
       "\t<tr><th scope=row>Ferrari Dino</th><td>-0.24630742  </td><td> 3.18027405  </td><td> 0.72936287  </td><td> 0.507145572 </td><td>-0.23921602  </td><td> 0.06422736  </td><td> 0.2232814502</td><td>-0.019483666 </td><td>-0.006799694 </td></tr>\n",
       "\t<tr><th scope=row>Maserati Bora</th><td> 2.62596044  </td><td> 4.40241877  </td><td> 0.97303537  </td><td>-0.006628448 </td><td> 0.27345257  </td><td>-0.57263382  </td><td>-0.5540820690</td><td> 0.065079511 </td><td>-0.037841219 </td></tr>\n",
       "\t<tr><th scope=row>Volvo 142E</th><td>-1.93672169  </td><td> 0.27969720  </td><td> 0.18785195  </td><td>-0.463691632 </td><td>-0.57652141  </td><td> 0.40354034  </td><td>-0.4779124155</td><td>-0.185311588 </td><td> 0.143982515 </td></tr>\n",
       "</tbody>\n",
       "</table>\n",
       "</dd>\n",
       "</dl>\n"
      ],
      "text/latex": [
       "\\begin{description}\n",
       "\\item[\\$sdev] \\begin{enumerate*}\n",
       "\\item 2.33914097350423\n",
       "\\item 1.52993832678814\n",
       "\\item 0.718364551062696\n",
       "\\item 0.464905158685231\n",
       "\\item 0.389034831804177\n",
       "\\item 0.350991075344758\n",
       "\\item 0.317137343413083\n",
       "\\item 0.240698933482934\n",
       "\\item 0.149896234132938\n",
       "\\end{enumerate*}\n",
       "\n",
       "\\item[\\$rotation] \\begin{tabular}{r|lllllllll}\n",
       "  & PC1 & PC2 & PC3 & PC4 & PC5 & PC6 & PC7 & PC8 & PC9\\\\\n",
       "\\hline\n",
       "\tmpg & -0.4023287   &  0.02205294  & -0.17272803  & -0.1366169   &  0.31654561  & -0.718609897 &  0.3633216   & -0.1487806   &  0.13567069 \\\\\n",
       "\tcyl &  0.4068870   &  0.03589482  & -0.27747610  &  0.1410976   &  0.02066646  & -0.214224005 &  0.2099893   &  0.7951724   &  0.11635839 \\\\\n",
       "\tdisp &  0.4046964   & -0.06479590  & -0.17669890  & -0.5089434   &  0.21525777  &  0.010052074 &  0.2007152   & -0.1346748   & -0.66099594 \\\\\n",
       "\thp &  0.3699702   &  0.26518848  & -0.01046827  & -0.1273173   &  0.42166543  & -0.254229405 & -0.6741641   & -0.1210386   &  0.25474680 \\\\\n",
       "\twt &  0.3850686   & -0.15955242  &  0.33740464  & -0.4469327   & -0.21141143  &  0.002897706 &  0.3392809   & -0.1598333   &  0.57211273 \\\\\n",
       "\tqsec & -0.2168575   & -0.48343885  &  0.54815205  & -0.2545226   &  0.05466817  & -0.226660704 & -0.2986852   &  0.4144075   & -0.19671599 \\\\\n",
       "\tam & -0.2594512   &  0.46039449  & -0.19492256  & -0.5354196   & -0.55331460  & -0.087616182 & -0.2135605   &  0.1897463   & -0.02465169 \\\\\n",
       "\tgear & -0.2195660   &  0.50608232  &  0.34579810  & -0.1799814   &  0.50533262  &  0.393990378 &  0.2484622   &  0.2614819   &  0.05482771 \\\\\n",
       "\tcarb &  0.2471604   &  0.44322600  &  0.53847588  &  0.3203064   & -0.25696817  & -0.398353829 &  0.1321064   & -0.1054553   & -0.31083546 \\\\\n",
       "\\end{tabular}\n",
       "\n",
       "\\item[\\$center] \\begin{description*}\n",
       "\\item[mpg] 20.090625\n",
       "\\item[cyl] 6.1875\n",
       "\\item[disp] 230.721875\n",
       "\\item[hp] 146.6875\n",
       "\\item[wt] 3.21725\n",
       "\\item[qsec] 17.84875\n",
       "\\item[am] 0.40625\n",
       "\\item[gear] 3.6875\n",
       "\\item[carb] 2.8125\n",
       "\\end{description*}\n",
       "\n",
       "\\item[\\$scale] \\begin{description*}\n",
       "\\item[mpg] 6.0269480520891\n",
       "\\item[cyl] 1.78592164694654\n",
       "\\item[disp] 123.938693831382\n",
       "\\item[hp] 68.5628684893206\n",
       "\\item[wt] 0.978457442989697\n",
       "\\item[qsec] 1.78694323609684\n",
       "\\item[am] 0.498990917235846\n",
       "\\item[gear] 0.737804065256947\n",
       "\\item[carb] 1.61519997763185\n",
       "\\end{description*}\n",
       "\n",
       "\\item[\\$x] \\begin{tabular}{r|lllllllll}\n",
       "  & PC1 & PC2 & PC3 & PC4 & PC5 & PC6 & PC7 & PC8 & PC9\\\\\n",
       "\\hline\n",
       "\tMazda RX4 & -0.81883768   &  1.45577333   & -0.21204263   &  0.315888300  & -0.84958691   & -0.01150126   &  0.2522589117 &  0.070182163  & -0.181855680 \\\\\n",
       "\tMazda RX4 Wag & -0.78644303   &  1.26268953   &  0.04767210   &  0.119647855  & -0.88755160   & -0.08177799   &  0.2470770970 &  0.158396118  & -0.094402631 \\\\\n",
       "\tDatsun 710 & -2.49423117   &  0.02762658   & -0.32023017   & -0.401948370  & -0.36518038   &  0.53888511   & -0.5002113448 & -0.034749407  &  0.107758386 \\\\\n",
       "\tHornet 4 Drive & -0.29454234   & -1.92903945   & -0.32211475   & -0.069818183  &  0.20547103   & -0.04600804   & -0.0108490874 &  0.008913676  & -0.123239037 \\\\\n",
       "\tHornet Sportabout &  1.56041411   & -0.80821419   & -1.04219408   &  0.050065675  &  0.38197028   & -0.13573066   &  0.1519111982 &  0.077208430  & -0.150672423 \\\\\n",
       "\tValiant & -0.20722532   & -2.19417266   &  0.14402455   & -0.073226863  & -0.08498911   &  0.26511187   & -0.2594831624 &  0.275929962  &  0.017282559 \\\\\n",
       "\tDuster 360 &  2.73226603   &  0.29328994   & -0.57716172   &  0.525124977  &  0.19900274   & -0.21386156   & -0.3957363363 & -0.363215758  & -0.168608127 \\\\\n",
       "\tMerc 240D & -1.79527743   & -1.27281225   &  1.03388048   &  0.136366170  &  0.39973745   &  0.22142233   &  0.5428418769 & -0.326885871  &  0.034834992 \\\\\n",
       "\tMerc 230 & -1.89734058   & -1.92598643   &  1.95890184   & -0.259206293  &  0.60577005   & -0.07860918   & -0.3862488169 &  0.339834557  & -0.189739133 \\\\\n",
       "\tMerc 280 &  0.01565012   & -0.05866208   &  1.06454809   &  0.737712361  &  0.13700873   &  0.10015509   &  0.4329982539 & -0.004088557  &  0.111701775 \\\\\n",
       "\tMerc 280C &  0.03629307   & -0.22610850   &  1.28872352   &  0.683986341  &  0.08183421   &  0.19097540   &  0.2483130414 &  0.169616855  &  0.014135709 \\\\\n",
       "\tMerc 450SE &  1.82083345   & -0.68439747   & -0.18980574   &  0.295092091  & -0.13790858   & -0.17982680   &  0.0644632164 &  0.136576953  &  0.399280466 \\\\\n",
       "\tMerc 450SL &  1.60267678   & -0.67977004   & -0.27149159   &  0.401507010  & -0.01105796   & -0.31351178   & -0.0326072369 &  0.216281162  &  0.198722029 \\\\\n",
       "\tMerc 450SLC &  1.71399687   & -0.80382315   & -0.07136381   &  0.369296647  & -0.11991960   & -0.11371190   & -0.2087231635 &  0.352717370  &  0.136650969 \\\\\n",
       "\tCadillac Fleetwood &  3.54393557   & -0.78715158   &  0.61681226   & -0.844299902  & -0.35483328   &  0.14208110   &  0.1686960199 & -0.096175655  & -0.255615988 \\\\\n",
       "\tLincoln Continental &  3.64660694   & -0.72728678   &  0.64331413   & -0.870281313  & -0.35666482   &  0.12483822   &  0.1380129217 & -0.166318506  & -0.035108813 \\\\\n",
       "\tChrysler Imperial &  3.39264826   & -0.52198151   &  0.39635946   & -0.820419326  & -0.06847485   & -0.39460143   &  0.2568141030 & -0.357074479  &  0.221926989 \\\\\n",
       "\tFiat 128 & -3.52803830   & -0.23945546   & -0.32703554   & -0.516783758  & -0.02567396   & -0.61745094   &  0.1111807743 &  0.026812599  &  0.214967700 \\\\\n",
       "\tHonda Civic & -3.44178368   &  0.32746057   & -0.42306580   &  0.167700576  & -0.28378711   & -0.45517710   &  0.1611472382 & -0.085881908  & -0.295988897 \\\\\n",
       "\tToyota Corolla & -3.85421097   & -0.29067456   & -0.35299640   & -0.412244409  &  0.12577796   & -0.84883188   &  0.0006918617 &  0.159151765  &  0.024795528 \\\\\n",
       "\tToyota Corona & -1.64164478   & -1.97896631   &  0.10056967   &  0.621710410  &  0.04761048   &  0.14446951   & -0.6908183162 & -0.456547134  & -0.065421142 \\\\\n",
       "\tDodge Challenger &  1.55167305   & -0.86712498   & -0.90521454   &  0.326318496  & -0.03467077   &  0.35437059   &  0.1896203162 &  0.198121231  & -0.028308674 \\\\\n",
       "\tAMC Javelin &  1.44035057   & -0.96337487   & -0.77406360   &  0.368187375  & -0.04322194   &  0.33421087   &  0.0475150953 &  0.334345388  & -0.057433273 \\\\\n",
       "\tCamaro Z28 &  2.92480902   &  0.36716333   & -0.57304474   &  0.526775004  &  0.05762007   & -0.04009785   & -0.3067172410 & -0.471489439  &  0.067421709 \\\\\n",
       "\tPontiac Firebird &  1.81339410   & -0.90145453   & -0.96469148   & -0.314790674  &  0.39111452   & -0.19470872   &  0.3822511126 & -0.037799957  & -0.119242525 \\\\\n",
       "\tFiat X1-9 & -3.22172493   & -0.06085364   & -0.44753150   & -0.200178011  & -0.25319420   &  0.06217622   & -0.1923901293 &  0.063485192  &  0.006363979 \\\\\n",
       "\tPorsche 914-2 & -2.66209565   &  1.53159161   & -0.27507492   & -0.212645194  &  0.31823141   &  0.69486607   &  0.4076663225 & -0.248004690  &  0.093645749 \\\\\n",
       "\tLotus Europa & -3.19041442   &  1.69409211   & -0.52346685   &  0.008155493  &  0.78245261   &  0.05939704   &  0.1649363550 & -0.219274124  &  0.020202599 \\\\\n",
       "\tFord Pantera L &  1.59533098   &  3.09923346   & -0.61246644   & -0.694517979  &  0.68539841   &  0.59731381   & -0.1758978468 &  0.419647806  & -0.003396395 \\\\\n",
       "\tFerrari Dino & -0.24630742   &  3.18027405   &  0.72936287   &  0.507145572  & -0.23921602   &  0.06422736   &  0.2232814502 & -0.019483666  & -0.006799694 \\\\\n",
       "\tMaserati Bora &  2.62596044   &  4.40241877   &  0.97303537   & -0.006628448  &  0.27345257   & -0.57263382   & -0.5540820690 &  0.065079511  & -0.037841219 \\\\\n",
       "\tVolvo 142E & -1.93672169   &  0.27969720   &  0.18785195   & -0.463691632  & -0.57652141   &  0.40354034   & -0.4779124155 & -0.185311588  &  0.143982515 \\\\\n",
       "\\end{tabular}\n",
       "\n",
       "\\end{description}\n"
      ],
      "text/markdown": [
       "$sdev\n",
       ":   1. 2.33914097350423\n",
       "2. 1.52993832678814\n",
       "3. 0.718364551062696\n",
       "4. 0.464905158685231\n",
       "5. 0.389034831804177\n",
       "6. 0.350991075344758\n",
       "7. 0.317137343413083\n",
       "8. 0.240698933482934\n",
       "9. 0.149896234132938\n",
       "\n",
       "\n",
       "\n",
       "$rotation\n",
       ":   \n",
       "| <!--/--> | PC1 | PC2 | PC3 | PC4 | PC5 | PC6 | PC7 | PC8 | PC9 |\n",
       "|---|---|---|---|---|---|---|---|---|---|\n",
       "| mpg | -0.4023287   |  0.02205294  | -0.17272803  | -0.1366169   |  0.31654561  | -0.718609897 |  0.3633216   | -0.1487806   |  0.13567069  |\n",
       "| cyl |  0.4068870   |  0.03589482  | -0.27747610  |  0.1410976   |  0.02066646  | -0.214224005 |  0.2099893   |  0.7951724   |  0.11635839  |\n",
       "| disp |  0.4046964   | -0.06479590  | -0.17669890  | -0.5089434   |  0.21525777  |  0.010052074 |  0.2007152   | -0.1346748   | -0.66099594  |\n",
       "| hp |  0.3699702   |  0.26518848  | -0.01046827  | -0.1273173   |  0.42166543  | -0.254229405 | -0.6741641   | -0.1210386   |  0.25474680  |\n",
       "| wt |  0.3850686   | -0.15955242  |  0.33740464  | -0.4469327   | -0.21141143  |  0.002897706 |  0.3392809   | -0.1598333   |  0.57211273  |\n",
       "| qsec | -0.2168575   | -0.48343885  |  0.54815205  | -0.2545226   |  0.05466817  | -0.226660704 | -0.2986852   |  0.4144075   | -0.19671599  |\n",
       "| am | -0.2594512   |  0.46039449  | -0.19492256  | -0.5354196   | -0.55331460  | -0.087616182 | -0.2135605   |  0.1897463   | -0.02465169  |\n",
       "| gear | -0.2195660   |  0.50608232  |  0.34579810  | -0.1799814   |  0.50533262  |  0.393990378 |  0.2484622   |  0.2614819   |  0.05482771  |\n",
       "| carb |  0.2471604   |  0.44322600  |  0.53847588  |  0.3203064   | -0.25696817  | -0.398353829 |  0.1321064   | -0.1054553   | -0.31083546  |\n",
       "\n",
       "\n",
       "$center\n",
       ":   mpg\n",
       ":   20.090625cyl\n",
       ":   6.1875disp\n",
       ":   230.721875hp\n",
       ":   146.6875wt\n",
       ":   3.21725qsec\n",
       ":   17.84875am\n",
       ":   0.40625gear\n",
       ":   3.6875carb\n",
       ":   2.8125\n",
       "\n",
       "\n",
       "$scale\n",
       ":   mpg\n",
       ":   6.0269480520891cyl\n",
       ":   1.78592164694654disp\n",
       ":   123.938693831382hp\n",
       ":   68.5628684893206wt\n",
       ":   0.978457442989697qsec\n",
       ":   1.78694323609684am\n",
       ":   0.498990917235846gear\n",
       ":   0.737804065256947carb\n",
       ":   1.61519997763185\n",
       "\n",
       "\n",
       "$x\n",
       ":   \n",
       "| <!--/--> | PC1 | PC2 | PC3 | PC4 | PC5 | PC6 | PC7 | PC8 | PC9 |\n",
       "|---|---|---|---|---|---|---|---|---|---|\n",
       "| Mazda RX4 | -0.81883768   |  1.45577333   | -0.21204263   |  0.315888300  | -0.84958691   | -0.01150126   |  0.2522589117 |  0.070182163  | -0.181855680  |\n",
       "| Mazda RX4 Wag | -0.78644303   |  1.26268953   |  0.04767210   |  0.119647855  | -0.88755160   | -0.08177799   |  0.2470770970 |  0.158396118  | -0.094402631  |\n",
       "| Datsun 710 | -2.49423117   |  0.02762658   | -0.32023017   | -0.401948370  | -0.36518038   |  0.53888511   | -0.5002113448 | -0.034749407  |  0.107758386  |\n",
       "| Hornet 4 Drive | -0.29454234   | -1.92903945   | -0.32211475   | -0.069818183  |  0.20547103   | -0.04600804   | -0.0108490874 |  0.008913676  | -0.123239037  |\n",
       "| Hornet Sportabout |  1.56041411   | -0.80821419   | -1.04219408   |  0.050065675  |  0.38197028   | -0.13573066   |  0.1519111982 |  0.077208430  | -0.150672423  |\n",
       "| Valiant | -0.20722532   | -2.19417266   |  0.14402455   | -0.073226863  | -0.08498911   |  0.26511187   | -0.2594831624 |  0.275929962  |  0.017282559  |\n",
       "| Duster 360 |  2.73226603   |  0.29328994   | -0.57716172   |  0.525124977  |  0.19900274   | -0.21386156   | -0.3957363363 | -0.363215758  | -0.168608127  |\n",
       "| Merc 240D | -1.79527743   | -1.27281225   |  1.03388048   |  0.136366170  |  0.39973745   |  0.22142233   |  0.5428418769 | -0.326885871  |  0.034834992  |\n",
       "| Merc 230 | -1.89734058   | -1.92598643   |  1.95890184   | -0.259206293  |  0.60577005   | -0.07860918   | -0.3862488169 |  0.339834557  | -0.189739133  |\n",
       "| Merc 280 |  0.01565012   | -0.05866208   |  1.06454809   |  0.737712361  |  0.13700873   |  0.10015509   |  0.4329982539 | -0.004088557  |  0.111701775  |\n",
       "| Merc 280C |  0.03629307   | -0.22610850   |  1.28872352   |  0.683986341  |  0.08183421   |  0.19097540   |  0.2483130414 |  0.169616855  |  0.014135709  |\n",
       "| Merc 450SE |  1.82083345   | -0.68439747   | -0.18980574   |  0.295092091  | -0.13790858   | -0.17982680   |  0.0644632164 |  0.136576953  |  0.399280466  |\n",
       "| Merc 450SL |  1.60267678   | -0.67977004   | -0.27149159   |  0.401507010  | -0.01105796   | -0.31351178   | -0.0326072369 |  0.216281162  |  0.198722029  |\n",
       "| Merc 450SLC |  1.71399687   | -0.80382315   | -0.07136381   |  0.369296647  | -0.11991960   | -0.11371190   | -0.2087231635 |  0.352717370  |  0.136650969  |\n",
       "| Cadillac Fleetwood |  3.54393557   | -0.78715158   |  0.61681226   | -0.844299902  | -0.35483328   |  0.14208110   |  0.1686960199 | -0.096175655  | -0.255615988  |\n",
       "| Lincoln Continental |  3.64660694   | -0.72728678   |  0.64331413   | -0.870281313  | -0.35666482   |  0.12483822   |  0.1380129217 | -0.166318506  | -0.035108813  |\n",
       "| Chrysler Imperial |  3.39264826   | -0.52198151   |  0.39635946   | -0.820419326  | -0.06847485   | -0.39460143   |  0.2568141030 | -0.357074479  |  0.221926989  |\n",
       "| Fiat 128 | -3.52803830   | -0.23945546   | -0.32703554   | -0.516783758  | -0.02567396   | -0.61745094   |  0.1111807743 |  0.026812599  |  0.214967700  |\n",
       "| Honda Civic | -3.44178368   |  0.32746057   | -0.42306580   |  0.167700576  | -0.28378711   | -0.45517710   |  0.1611472382 | -0.085881908  | -0.295988897  |\n",
       "| Toyota Corolla | -3.85421097   | -0.29067456   | -0.35299640   | -0.412244409  |  0.12577796   | -0.84883188   |  0.0006918617 |  0.159151765  |  0.024795528  |\n",
       "| Toyota Corona | -1.64164478   | -1.97896631   |  0.10056967   |  0.621710410  |  0.04761048   |  0.14446951   | -0.6908183162 | -0.456547134  | -0.065421142  |\n",
       "| Dodge Challenger |  1.55167305   | -0.86712498   | -0.90521454   |  0.326318496  | -0.03467077   |  0.35437059   |  0.1896203162 |  0.198121231  | -0.028308674  |\n",
       "| AMC Javelin |  1.44035057   | -0.96337487   | -0.77406360   |  0.368187375  | -0.04322194   |  0.33421087   |  0.0475150953 |  0.334345388  | -0.057433273  |\n",
       "| Camaro Z28 |  2.92480902   |  0.36716333   | -0.57304474   |  0.526775004  |  0.05762007   | -0.04009785   | -0.3067172410 | -0.471489439  |  0.067421709  |\n",
       "| Pontiac Firebird |  1.81339410   | -0.90145453   | -0.96469148   | -0.314790674  |  0.39111452   | -0.19470872   |  0.3822511126 | -0.037799957  | -0.119242525  |\n",
       "| Fiat X1-9 | -3.22172493   | -0.06085364   | -0.44753150   | -0.200178011  | -0.25319420   |  0.06217622   | -0.1923901293 |  0.063485192  |  0.006363979  |\n",
       "| Porsche 914-2 | -2.66209565   |  1.53159161   | -0.27507492   | -0.212645194  |  0.31823141   |  0.69486607   |  0.4076663225 | -0.248004690  |  0.093645749  |\n",
       "| Lotus Europa | -3.19041442   |  1.69409211   | -0.52346685   |  0.008155493  |  0.78245261   |  0.05939704   |  0.1649363550 | -0.219274124  |  0.020202599  |\n",
       "| Ford Pantera L |  1.59533098   |  3.09923346   | -0.61246644   | -0.694517979  |  0.68539841   |  0.59731381   | -0.1758978468 |  0.419647806  | -0.003396395  |\n",
       "| Ferrari Dino | -0.24630742   |  3.18027405   |  0.72936287   |  0.507145572  | -0.23921602   |  0.06422736   |  0.2232814502 | -0.019483666  | -0.006799694  |\n",
       "| Maserati Bora |  2.62596044   |  4.40241877   |  0.97303537   | -0.006628448  |  0.27345257   | -0.57263382   | -0.5540820690 |  0.065079511  | -0.037841219  |\n",
       "| Volvo 142E | -1.93672169   |  0.27969720   |  0.18785195   | -0.463691632  | -0.57652141   |  0.40354034   | -0.4779124155 | -0.185311588  |  0.143982515  |\n",
       "\n",
       "\n",
       "\n",
       "\n"
      ],
      "text/plain": [
       "$sdev\n",
       "[1] 2.3391410 1.5299383 0.7183646 0.4649052 0.3890348 0.3509911 0.3171373\n",
       "[8] 0.2406989 0.1498962\n",
       "\n",
       "$rotation\n",
       "            PC1         PC2         PC3        PC4         PC5          PC6\n",
       "mpg  -0.4023287  0.02205294 -0.17272803 -0.1366169  0.31654561 -0.718609897\n",
       "cyl   0.4068870  0.03589482 -0.27747610  0.1410976  0.02066646 -0.214224005\n",
       "disp  0.4046964 -0.06479590 -0.17669890 -0.5089434  0.21525777  0.010052074\n",
       "hp    0.3699702  0.26518848 -0.01046827 -0.1273173  0.42166543 -0.254229405\n",
       "wt    0.3850686 -0.15955242  0.33740464 -0.4469327 -0.21141143  0.002897706\n",
       "qsec -0.2168575 -0.48343885  0.54815205 -0.2545226  0.05466817 -0.226660704\n",
       "am   -0.2594512  0.46039449 -0.19492256 -0.5354196 -0.55331460 -0.087616182\n",
       "gear -0.2195660  0.50608232  0.34579810 -0.1799814  0.50533262  0.393990378\n",
       "carb  0.2471604  0.44322600  0.53847588  0.3203064 -0.25696817 -0.398353829\n",
       "            PC7        PC8         PC9\n",
       "mpg   0.3633216 -0.1487806  0.13567069\n",
       "cyl   0.2099893  0.7951724  0.11635839\n",
       "disp  0.2007152 -0.1346748 -0.66099594\n",
       "hp   -0.6741641 -0.1210386  0.25474680\n",
       "wt    0.3392809 -0.1598333  0.57211273\n",
       "qsec -0.2986852  0.4144075 -0.19671599\n",
       "am   -0.2135605  0.1897463 -0.02465169\n",
       "gear  0.2484622  0.2614819  0.05482771\n",
       "carb  0.1321064 -0.1054553 -0.31083546\n",
       "\n",
       "$center\n",
       "      mpg       cyl      disp        hp        wt      qsec        am      gear \n",
       " 20.09062   6.18750 230.72188 146.68750   3.21725  17.84875   0.40625   3.68750 \n",
       "     carb \n",
       "  2.81250 \n",
       "\n",
       "$scale\n",
       "        mpg         cyl        disp          hp          wt        qsec \n",
       "  6.0269481   1.7859216 123.9386938  68.5628685   0.9784574   1.7869432 \n",
       "         am        gear        carb \n",
       "  0.4989909   0.7378041   1.6152000 \n",
       "\n",
       "$x\n",
       "                            PC1         PC2         PC3          PC4\n",
       "Mazda RX4           -0.81883768  1.45577333 -0.21204263  0.315888300\n",
       "Mazda RX4 Wag       -0.78644303  1.26268953  0.04767210  0.119647855\n",
       "Datsun 710          -2.49423117  0.02762658 -0.32023017 -0.401948370\n",
       "Hornet 4 Drive      -0.29454234 -1.92903945 -0.32211475 -0.069818183\n",
       "Hornet Sportabout    1.56041411 -0.80821419 -1.04219408  0.050065675\n",
       "Valiant             -0.20722532 -2.19417266  0.14402455 -0.073226863\n",
       "Duster 360           2.73226603  0.29328994 -0.57716172  0.525124977\n",
       "Merc 240D           -1.79527743 -1.27281225  1.03388048  0.136366170\n",
       "Merc 230            -1.89734058 -1.92598643  1.95890184 -0.259206293\n",
       "Merc 280             0.01565012 -0.05866208  1.06454809  0.737712361\n",
       "Merc 280C            0.03629307 -0.22610850  1.28872352  0.683986341\n",
       "Merc 450SE           1.82083345 -0.68439747 -0.18980574  0.295092091\n",
       "Merc 450SL           1.60267678 -0.67977004 -0.27149159  0.401507010\n",
       "Merc 450SLC          1.71399687 -0.80382315 -0.07136381  0.369296647\n",
       "Cadillac Fleetwood   3.54393557 -0.78715158  0.61681226 -0.844299902\n",
       "Lincoln Continental  3.64660694 -0.72728678  0.64331413 -0.870281313\n",
       "Chrysler Imperial    3.39264826 -0.52198151  0.39635946 -0.820419326\n",
       "Fiat 128            -3.52803830 -0.23945546 -0.32703554 -0.516783758\n",
       "Honda Civic         -3.44178368  0.32746057 -0.42306580  0.167700576\n",
       "Toyota Corolla      -3.85421097 -0.29067456 -0.35299640 -0.412244409\n",
       "Toyota Corona       -1.64164478 -1.97896631  0.10056967  0.621710410\n",
       "Dodge Challenger     1.55167305 -0.86712498 -0.90521454  0.326318496\n",
       "AMC Javelin          1.44035057 -0.96337487 -0.77406360  0.368187375\n",
       "Camaro Z28           2.92480902  0.36716333 -0.57304474  0.526775004\n",
       "Pontiac Firebird     1.81339410 -0.90145453 -0.96469148 -0.314790674\n",
       "Fiat X1-9           -3.22172493 -0.06085364 -0.44753150 -0.200178011\n",
       "Porsche 914-2       -2.66209565  1.53159161 -0.27507492 -0.212645194\n",
       "Lotus Europa        -3.19041442  1.69409211 -0.52346685  0.008155493\n",
       "Ford Pantera L       1.59533098  3.09923346 -0.61246644 -0.694517979\n",
       "Ferrari Dino        -0.24630742  3.18027405  0.72936287  0.507145572\n",
       "Maserati Bora        2.62596044  4.40241877  0.97303537 -0.006628448\n",
       "Volvo 142E          -1.93672169  0.27969720  0.18785195 -0.463691632\n",
       "                            PC5         PC6           PC7          PC8\n",
       "Mazda RX4           -0.84958691 -0.01150126  0.2522589117  0.070182163\n",
       "Mazda RX4 Wag       -0.88755160 -0.08177799  0.2470770970  0.158396118\n",
       "Datsun 710          -0.36518038  0.53888511 -0.5002113448 -0.034749407\n",
       "Hornet 4 Drive       0.20547103 -0.04600804 -0.0108490874  0.008913676\n",
       "Hornet Sportabout    0.38197028 -0.13573066  0.1519111982  0.077208430\n",
       "Valiant             -0.08498911  0.26511187 -0.2594831624  0.275929962\n",
       "Duster 360           0.19900274 -0.21386156 -0.3957363363 -0.363215758\n",
       "Merc 240D            0.39973745  0.22142233  0.5428418769 -0.326885871\n",
       "Merc 230             0.60577005 -0.07860918 -0.3862488169  0.339834557\n",
       "Merc 280             0.13700873  0.10015509  0.4329982539 -0.004088557\n",
       "Merc 280C            0.08183421  0.19097540  0.2483130414  0.169616855\n",
       "Merc 450SE          -0.13790858 -0.17982680  0.0644632164  0.136576953\n",
       "Merc 450SL          -0.01105796 -0.31351178 -0.0326072369  0.216281162\n",
       "Merc 450SLC         -0.11991960 -0.11371190 -0.2087231635  0.352717370\n",
       "Cadillac Fleetwood  -0.35483328  0.14208110  0.1686960199 -0.096175655\n",
       "Lincoln Continental -0.35666482  0.12483822  0.1380129217 -0.166318506\n",
       "Chrysler Imperial   -0.06847485 -0.39460143  0.2568141030 -0.357074479\n",
       "Fiat 128            -0.02567396 -0.61745094  0.1111807743  0.026812599\n",
       "Honda Civic         -0.28378711 -0.45517710  0.1611472382 -0.085881908\n",
       "Toyota Corolla       0.12577796 -0.84883188  0.0006918617  0.159151765\n",
       "Toyota Corona        0.04761048  0.14446951 -0.6908183162 -0.456547134\n",
       "Dodge Challenger    -0.03467077  0.35437059  0.1896203162  0.198121231\n",
       "AMC Javelin         -0.04322194  0.33421087  0.0475150953  0.334345388\n",
       "Camaro Z28           0.05762007 -0.04009785 -0.3067172410 -0.471489439\n",
       "Pontiac Firebird     0.39111452 -0.19470872  0.3822511126 -0.037799957\n",
       "Fiat X1-9           -0.25319420  0.06217622 -0.1923901293  0.063485192\n",
       "Porsche 914-2        0.31823141  0.69486607  0.4076663225 -0.248004690\n",
       "Lotus Europa         0.78245261  0.05939704  0.1649363550 -0.219274124\n",
       "Ford Pantera L       0.68539841  0.59731381 -0.1758978468  0.419647806\n",
       "Ferrari Dino        -0.23921602  0.06422736  0.2232814502 -0.019483666\n",
       "Maserati Bora        0.27345257 -0.57263382 -0.5540820690  0.065079511\n",
       "Volvo 142E          -0.57652141  0.40354034 -0.4779124155 -0.185311588\n",
       "                             PC9\n",
       "Mazda RX4           -0.181855680\n",
       "Mazda RX4 Wag       -0.094402631\n",
       "Datsun 710           0.107758386\n",
       "Hornet 4 Drive      -0.123239037\n",
       "Hornet Sportabout   -0.150672423\n",
       "Valiant              0.017282559\n",
       "Duster 360          -0.168608127\n",
       "Merc 240D            0.034834992\n",
       "Merc 230            -0.189739133\n",
       "Merc 280             0.111701775\n",
       "Merc 280C            0.014135709\n",
       "Merc 450SE           0.399280466\n",
       "Merc 450SL           0.198722029\n",
       "Merc 450SLC          0.136650969\n",
       "Cadillac Fleetwood  -0.255615988\n",
       "Lincoln Continental -0.035108813\n",
       "Chrysler Imperial    0.221926989\n",
       "Fiat 128             0.214967700\n",
       "Honda Civic         -0.295988897\n",
       "Toyota Corolla       0.024795528\n",
       "Toyota Corona       -0.065421142\n",
       "Dodge Challenger    -0.028308674\n",
       "AMC Javelin         -0.057433273\n",
       "Camaro Z28           0.067421709\n",
       "Pontiac Firebird    -0.119242525\n",
       "Fiat X1-9            0.006363979\n",
       "Porsche 914-2        0.093645749\n",
       "Lotus Europa         0.020202599\n",
       "Ford Pantera L      -0.003396395\n",
       "Ferrari Dino        -0.006799694\n",
       "Maserati Bora       -0.037841219\n",
       "Volvo 142E           0.143982515\n"
      ]
     },
     "metadata": {},
     "output_type": "display_data"
    }
   ],
   "source": [
    "pc <- prcomp(cars, center=T, scale=T)\n",
    "head(pc)"
   ]
  },
  {
   "cell_type": "code",
   "execution_count": 153,
   "metadata": {},
   "outputs": [
    {
     "data": {
      "text/plain": [
       "$sdev\n",
       "[1] 1.8714034 0.4893434 0.4065238 0.3051731\n",
       "\n",
       "$rotation\n",
       "            PC1         PC2        PC3          PC4\n",
       "mpg  -0.4963126 -0.41505710  0.7624369 -0.009557844\n",
       "disp  0.5060829  0.31928855  0.5109886  0.617110666\n",
       "hp    0.4844917 -0.84776090 -0.1441097  0.160628854\n",
       "cyl   0.5126614  0.08416586  0.3698824 -0.770247652\n",
       "\n",
       "$center\n",
       "      mpg      disp        hp       cyl \n",
       " 20.09062 230.72188 146.68750   6.18750 \n",
       "\n",
       "$scale\n",
       "       mpg       disp         hp        cyl \n",
       "  6.026948 123.938694  68.562868   1.785922 \n",
       "\n",
       "$x\n",
       "                           PC1          PC2          PC3         PC4\n",
       "Mazda RX4           -0.6767382  0.199976205 -0.138261099 -0.35866245\n",
       "Mazda RX4 Wag       -0.6767382  0.199976205 -0.138261099 -0.35866245\n",
       "Datsun 710          -1.7315422  0.057999871 -0.503432795  0.20231633\n",
       "Hornet 4 Drive      -0.3095112  0.424895223  0.316386321  0.12866096\n",
       "Hornet Sportabout    1.3627600  0.164154097  0.672960127 -0.06947829\n",
       "Valiant             -0.2078417  0.628965554 -0.226625858 -0.04213202\n",
       "Duster 360           2.2197422 -0.398362269 -0.030790698  0.10149522\n",
       "Merc 240D           -1.9243334  0.430817504 -0.076310853  0.31984579\n",
       "Merc 230            -1.5834761  0.117769171 -0.372404944  0.37031839\n",
       "Merc 280            -0.4056138  0.182774161 -0.361959531 -0.28750994\n",
       "Merc 280C           -0.2903254  0.279187791 -0.539066036 -0.28528975\n",
       "Merc 450SE           1.2436778  0.043809833  0.024340777 -0.47336217\n",
       "Merc 450SL           1.1695638 -0.018170357  0.138194959 -0.47478944\n",
       "Merc 450SLC          1.3424965  0.126450087 -0.127464799 -0.47145915\n",
       "Cadillac Fleetwood   2.7155808  0.653339795  0.021682040  0.57163417\n",
       "Lincoln Continental  2.7372446  0.498778386 -0.048811553  0.53531221\n",
       "Chrysler Imperial    2.4074735 -0.034343665  0.381172211  0.46405178\n",
       "Fiat 128            -2.8325258 -0.344756743  0.646960724 -0.02205276\n",
       "Honda Civic         -2.7790074 -0.041645405  0.411008765 -0.06661769\n",
       "Toyota Corolla      -2.9941488 -0.455271315  0.807485411 -0.06461595\n",
       "Toyota Corona       -1.5468147  0.129239713 -0.626409027  0.27399697\n",
       "Dodge Challenger     1.2781168  0.585446574  0.147529439 -0.33209823\n",
       "AMC Javelin          1.2456549  0.570040098  0.051857250 -0.40133072\n",
       "Camaro Z28           2.2612578 -0.355257204 -0.198524483  0.05328946\n",
       "Pontiac Firebird     1.4849188  0.232767911  0.901129006  0.12889521\n",
       "Fiat X1-9           -2.4113213  0.007237189  0.003023901 -0.01247117\n",
       "Porsche 914-2       -1.9589665 -0.105957663 -0.043702360  0.25379969\n",
       "Lotus Europa        -2.2687411 -0.745915608  0.362779678  0.17288862\n",
       "Ford Pantera L       2.1937302 -0.759777960  0.081924658  0.09881713\n",
       "Ferrari Dino        -0.1716195 -0.552846586 -0.501181915 -0.27900647\n",
       "Maserati Bora        2.5571561 -1.711388877 -0.374656997  0.01746634\n",
       "Volvo 142E          -1.4501082 -0.009931715 -0.660571220  0.30675036\n",
       "\n",
       "$call\n",
       "prcomp(formula = ~mpg + disp + hp + cyl, data = cars, center = T, \n",
       "    scale = T)\n"
      ]
     },
     "metadata": {},
     "output_type": "display_data"
    },
    {
     "data": {
      "text/plain": [
       "Importance of components:\n",
       "                          PC1     PC2     PC3     PC4\n",
       "Standard deviation     1.8714 0.48934 0.40652 0.30517\n",
       "Proportion of Variance 0.8755 0.05986 0.04132 0.02328\n",
       "Cumulative Proportion  0.8755 0.93540 0.97672 1.00000"
      ]
     },
     "metadata": {},
     "output_type": "display_data"
    }
   ],
   "source": [
    "pc2 <- prcomp(~mpg + disp + hp + cyl, data=cars, center=T, scale=T)\n",
    "head(pc2)\n",
    "summary(pc2)"
   ]
  },
  {
   "cell_type": "code",
   "execution_count": 154,
   "metadata": {},
   "outputs": [
    {
     "data": {
      "image/png": "[encoded data removed]",
      "text/plain": [
       "Plot with title \"pc2\""
      ]
     },
     "metadata": {},
     "output_type": "display_data"
    }
   ],
   "source": [
    "plot(pc2)"
   ]
  },
  {
   "cell_type": "code",
   "execution_count": 155,
   "metadata": {},
   "outputs": [
    {
     "data": {
      "image/png": "[encoded data removed]",
      "text/plain": [
       "plot without title"
      ]
     },
     "metadata": {},
     "output_type": "display_data"
    }
   ],
   "source": [
    "biplot(pc2)"
   ]
  },
  {
   "cell_type": "markdown",
   "metadata": {},
   "source": [
    "# Regression"
   ]
  },
  {
   "cell_type": "code",
   "execution_count": 157,
   "metadata": {},
   "outputs": [
    {
     "data": {
      "text/html": [
       "<table>\n",
       "<thead><tr><th></th><th scope=col>CONT</th><th scope=col>INTG</th><th scope=col>DMNR</th><th scope=col>DILG</th><th scope=col>CFMG</th><th scope=col>DECI</th><th scope=col>PREP</th><th scope=col>FAMI</th><th scope=col>ORAL</th><th scope=col>WRIT</th><th scope=col>PHYS</th><th scope=col>RTEN</th></tr></thead>\n",
       "<tbody>\n",
       "\t<tr><th scope=row>AARONSON,L.H.</th><td>5.7</td><td>7.9</td><td>7.7</td><td>7.3</td><td>7.1</td><td>7.4</td><td>7.1</td><td>7.1</td><td>7.1</td><td>7.0</td><td>8.3</td><td>7.8</td></tr>\n",
       "\t<tr><th scope=row>ALEXANDER,J.M.</th><td>6.8</td><td>8.9</td><td>8.8</td><td>8.5</td><td>7.8</td><td>8.1</td><td>8.0</td><td>8.0</td><td>7.8</td><td>7.9</td><td>8.5</td><td>8.7</td></tr>\n",
       "\t<tr><th scope=row>ARMENTANO,A.J.</th><td>7.2</td><td>8.1</td><td>7.8</td><td>7.8</td><td>7.5</td><td>7.6</td><td>7.5</td><td>7.5</td><td>7.3</td><td>7.4</td><td>7.9</td><td>7.8</td></tr>\n",
       "\t<tr><th scope=row>BERDON,R.I.</th><td>6.8</td><td>8.8</td><td>8.5</td><td>8.8</td><td>8.3</td><td>8.5</td><td>8.7</td><td>8.7</td><td>8.4</td><td>8.5</td><td>8.8</td><td>8.7</td></tr>\n",
       "\t<tr><th scope=row>BRACKEN,J.J.</th><td>7.3</td><td>6.4</td><td>4.3</td><td>6.5</td><td>6.0</td><td>6.2</td><td>5.7</td><td>5.7</td><td>5.1</td><td>5.3</td><td>5.5</td><td>4.8</td></tr>\n",
       "\t<tr><th scope=row>BURNS,E.B.</th><td>6.2</td><td>8.8</td><td>8.7</td><td>8.5</td><td>7.9</td><td>8.0</td><td>8.1</td><td>8.0</td><td>8.0</td><td>8.0</td><td>8.6</td><td>8.6</td></tr>\n",
       "</tbody>\n",
       "</table>\n"
      ],
      "text/latex": [
       "\\begin{tabular}{r|llllllllllll}\n",
       "  & CONT & INTG & DMNR & DILG & CFMG & DECI & PREP & FAMI & ORAL & WRIT & PHYS & RTEN\\\\\n",
       "\\hline\n",
       "\tAARONSON,L.H. & 5.7 & 7.9 & 7.7 & 7.3 & 7.1 & 7.4 & 7.1 & 7.1 & 7.1 & 7.0 & 8.3 & 7.8\\\\\n",
       "\tALEXANDER,J.M. & 6.8 & 8.9 & 8.8 & 8.5 & 7.8 & 8.1 & 8.0 & 8.0 & 7.8 & 7.9 & 8.5 & 8.7\\\\\n",
       "\tARMENTANO,A.J. & 7.2 & 8.1 & 7.8 & 7.8 & 7.5 & 7.6 & 7.5 & 7.5 & 7.3 & 7.4 & 7.9 & 7.8\\\\\n",
       "\tBERDON,R.I. & 6.8 & 8.8 & 8.5 & 8.8 & 8.3 & 8.5 & 8.7 & 8.7 & 8.4 & 8.5 & 8.8 & 8.7\\\\\n",
       "\tBRACKEN,J.J. & 7.3 & 6.4 & 4.3 & 6.5 & 6.0 & 6.2 & 5.7 & 5.7 & 5.1 & 5.3 & 5.5 & 4.8\\\\\n",
       "\tBURNS,E.B. & 6.2 & 8.8 & 8.7 & 8.5 & 7.9 & 8.0 & 8.1 & 8.0 & 8.0 & 8.0 & 8.6 & 8.6\\\\\n",
       "\\end{tabular}\n"
      ],
      "text/markdown": [
       "\n",
       "| <!--/--> | CONT | INTG | DMNR | DILG | CFMG | DECI | PREP | FAMI | ORAL | WRIT | PHYS | RTEN |\n",
       "|---|---|---|---|---|---|---|---|---|---|---|---|---|\n",
       "| AARONSON,L.H. | 5.7 | 7.9 | 7.7 | 7.3 | 7.1 | 7.4 | 7.1 | 7.1 | 7.1 | 7.0 | 8.3 | 7.8 |\n",
       "| ALEXANDER,J.M. | 6.8 | 8.9 | 8.8 | 8.5 | 7.8 | 8.1 | 8.0 | 8.0 | 7.8 | 7.9 | 8.5 | 8.7 |\n",
       "| ARMENTANO,A.J. | 7.2 | 8.1 | 7.8 | 7.8 | 7.5 | 7.6 | 7.5 | 7.5 | 7.3 | 7.4 | 7.9 | 7.8 |\n",
       "| BERDON,R.I. | 6.8 | 8.8 | 8.5 | 8.8 | 8.3 | 8.5 | 8.7 | 8.7 | 8.4 | 8.5 | 8.8 | 8.7 |\n",
       "| BRACKEN,J.J. | 7.3 | 6.4 | 4.3 | 6.5 | 6.0 | 6.2 | 5.7 | 5.7 | 5.1 | 5.3 | 5.5 | 4.8 |\n",
       "| BURNS,E.B. | 6.2 | 8.8 | 8.7 | 8.5 | 7.9 | 8.0 | 8.1 | 8.0 | 8.0 | 8.0 | 8.6 | 8.6 |\n",
       "\n"
      ],
      "text/plain": [
       "               CONT INTG DMNR DILG CFMG DECI PREP FAMI ORAL WRIT PHYS RTEN\n",
       "AARONSON,L.H.  5.7  7.9  7.7  7.3  7.1  7.4  7.1  7.1  7.1  7.0  8.3  7.8 \n",
       "ALEXANDER,J.M. 6.8  8.9  8.8  8.5  7.8  8.1  8.0  8.0  7.8  7.9  8.5  8.7 \n",
       "ARMENTANO,A.J. 7.2  8.1  7.8  7.8  7.5  7.6  7.5  7.5  7.3  7.4  7.9  7.8 \n",
       "BERDON,R.I.    6.8  8.8  8.5  8.8  8.3  8.5  8.7  8.7  8.4  8.5  8.8  8.7 \n",
       "BRACKEN,J.J.   7.3  6.4  4.3  6.5  6.0  6.2  5.7  5.7  5.1  5.3  5.5  4.8 \n",
       "BURNS,E.B.     6.2  8.8  8.7  8.5  7.9  8.0  8.1  8.0  8.0  8.0  8.6  8.6 "
      ]
     },
     "metadata": {},
     "output_type": "display_data"
    }
   ],
   "source": [
    "head(USJudgeRatings)\n",
    "?USJudgeRatings"
   ]
  },
  {
   "cell_type": "markdown",
   "metadata": {},
   "source": [
    "Format\n",
    "A data frame containing 43 observations on 12 numeric variables.\n",
    "\n",
    "[,1]\tCONT\tNumber of contacts of lawyer with judge.\n",
    "[,2]\tINTG\tJudicial integrity.\n",
    "[,3]\tDMNR\tDemeanor.\n",
    "[,4]\tDILG\tDiligence.\n",
    "[,5]\tCFMG\tCase flow managing.\n",
    "[,6]\tDECI\tPrompt decisions.\n",
    "[,7]\tPREP\tPreparation for trial.\n",
    "[,8]\tFAMI\tFamiliarity with law.\n",
    "[,9]\tORAL\tSound oral rulings.\n",
    "[,10]\tWRIT\tSound written rulings.\n",
    "[,11]\tPHYS\tPhysical ability.\n",
    "[,12]\tRTEN\tWorthy of retention."
   ]
  },
  {
   "cell_type": "code",
   "execution_count": 160,
   "metadata": {},
   "outputs": [
    {
     "data": {
      "text/plain": [
       "\n",
       "Call:\n",
       "lm(formula = y ~ x)\n",
       "\n",
       "Coefficients:\n",
       "(Intercept)        xCONT        xINTG        xDMNR        xDILG        xCFMG  \n",
       "   -2.11943      0.01280      0.36484      0.12540      0.06669     -0.19453  \n",
       "      xDECI        xPREP        xFAMI        xORAL        xWRIT        xPHYS  \n",
       "    0.27829     -0.00196     -0.13579      0.54782     -0.06806      0.26881  \n"
      ]
     },
     "metadata": {},
     "output_type": "display_data"
    },
    {
     "data": {
      "text/plain": [
       "\n",
       "Call:\n",
       "lm(formula = y ~ x)\n",
       "\n",
       "Residuals:\n",
       "     Min       1Q   Median       3Q      Max \n",
       "-0.22123 -0.06155 -0.01055  0.05045  0.26079 \n",
       "\n",
       "Coefficients:\n",
       "            Estimate Std. Error t value Pr(>|t|)    \n",
       "(Intercept) -2.11943    0.51904  -4.083 0.000290 ***\n",
       "xCONT        0.01280    0.02586   0.495 0.624272    \n",
       "xINTG        0.36484    0.12936   2.820 0.008291 ** \n",
       "xDMNR        0.12540    0.08971   1.398 0.172102    \n",
       "xDILG        0.06669    0.14303   0.466 0.644293    \n",
       "xCFMG       -0.19453    0.14779  -1.316 0.197735    \n",
       "xDECI        0.27829    0.13826   2.013 0.052883 .  \n",
       "xPREP       -0.00196    0.24001  -0.008 0.993536    \n",
       "xFAMI       -0.13579    0.26725  -0.508 0.614972    \n",
       "xORAL        0.54782    0.27725   1.976 0.057121 .  \n",
       "xWRIT       -0.06806    0.31485  -0.216 0.830269    \n",
       "xPHYS        0.26881    0.06213   4.326 0.000146 ***\n",
       "---\n",
       "Signif. codes:  0 '***' 0.001 '**' 0.01 '*' 0.05 '.' 0.1 ' ' 1\n",
       "\n",
       "Residual standard error: 0.1174 on 31 degrees of freedom\n",
       "Multiple R-squared:  0.9916,\tAdjusted R-squared:  0.9886 \n",
       "F-statistic: 332.9 on 11 and 31 DF,  p-value: < 2.2e-16\n"
      ]
     },
     "metadata": {},
     "output_type": "display_data"
    }
   ],
   "source": [
    "df <- USJudgeRatings\n",
    "x <- as.matrix(df[-12])\n",
    "y <- as.matrix(df[,12])\n",
    "\n",
    "# linear model function name : lm\n",
    "reg_1 <- lm(y ~ x)\n",
    "\n",
    "reg_1\n",
    "\n",
    "summary(reg_1)"
   ]
  },
  {
   "cell_type": "code",
   "execution_count": 164,
   "metadata": {},
   "outputs": [
    {
     "data": {
      "text/html": [
       "<table>\n",
       "<thead><tr><th></th><th scope=col>Df</th><th scope=col>Sum Sq</th><th scope=col>Mean Sq</th><th scope=col>F value</th><th scope=col>Pr(&gt;F)</th></tr></thead>\n",
       "<tbody>\n",
       "\t<tr><th scope=row>x</th><td>11          </td><td>50.4823548  </td><td>4.5893050   </td><td>332.8597    </td><td>5.745717e-29</td></tr>\n",
       "\t<tr><th scope=row>Residuals</th><td>31          </td><td> 0.4274127  </td><td>0.0137875   </td><td>      NA    </td><td>          NA</td></tr>\n",
       "</tbody>\n",
       "</table>\n"
      ],
      "text/latex": [
       "\\begin{tabular}{r|lllll}\n",
       "  & Df & Sum Sq & Mean Sq & F value & Pr(>F)\\\\\n",
       "\\hline\n",
       "\tx & 11           & 50.4823548   & 4.5893050    & 332.8597     & 5.745717e-29\\\\\n",
       "\tResiduals & 31           &  0.4274127   & 0.0137875    &       NA     &           NA\\\\\n",
       "\\end{tabular}\n"
      ],
      "text/markdown": [
       "\n",
       "| <!--/--> | Df | Sum Sq | Mean Sq | F value | Pr(>F) |\n",
       "|---|---|---|---|---|---|\n",
       "| x | 11           | 50.4823548   | 4.5893050    | 332.8597     | 5.745717e-29 |\n",
       "| Residuals | 31           |  0.4274127   | 0.0137875    |       NA     |           NA |\n",
       "\n"
      ],
      "text/plain": [
       "          Df Sum Sq     Mean Sq   F value  Pr(>F)      \n",
       "x         11 50.4823548 4.5893050 332.8597 5.745717e-29\n",
       "Residuals 31  0.4274127 0.0137875       NA           NA"
      ]
     },
     "metadata": {},
     "output_type": "display_data"
    },
    {
     "data": {
      "text/html": [
       "<dl class=dl-horizontal>\n",
       "\t<dt>(Intercept)</dt>\n",
       "\t\t<dd>-2.11942968179327</dd>\n",
       "\t<dt>xCONT</dt>\n",
       "\t\t<dd>0.0127963773918441</dd>\n",
       "\t<dt>xINTG</dt>\n",
       "\t\t<dd>0.364840272014892</dd>\n",
       "\t<dt>xDMNR</dt>\n",
       "\t\t<dd>0.125399137854698</dd>\n",
       "\t<dt>xDILG</dt>\n",
       "\t\t<dd>0.0666909760662366</dd>\n",
       "\t<dt>xCFMG</dt>\n",
       "\t\t<dd>-0.194527026617029</dd>\n",
       "\t<dt>xDECI</dt>\n",
       "\t\t<dd>0.278292931605456</dd>\n",
       "\t<dt>xPREP</dt>\n",
       "\t\t<dd>-0.00196011133377008</dd>\n",
       "\t<dt>xFAMI</dt>\n",
       "\t\t<dd>-0.135790972195287</dd>\n",
       "\t<dt>xORAL</dt>\n",
       "\t\t<dd>0.547817679832884</dd>\n",
       "\t<dt>xWRIT</dt>\n",
       "\t\t<dd>-0.0680615953914752</dd>\n",
       "\t<dt>xPHYS</dt>\n",
       "\t\t<dd>0.268811919161933</dd>\n",
       "</dl>\n"
      ],
      "text/latex": [
       "\\begin{description*}\n",
       "\\item[(Intercept)] -2.11942968179327\n",
       "\\item[xCONT] 0.0127963773918441\n",
       "\\item[xINTG] 0.364840272014892\n",
       "\\item[xDMNR] 0.125399137854698\n",
       "\\item[xDILG] 0.0666909760662366\n",
       "\\item[xCFMG] -0.194527026617029\n",
       "\\item[xDECI] 0.278292931605456\n",
       "\\item[xPREP] -0.00196011133377008\n",
       "\\item[xFAMI] -0.135790972195287\n",
       "\\item[xORAL] 0.547817679832884\n",
       "\\item[xWRIT] -0.0680615953914752\n",
       "\\item[xPHYS] 0.268811919161933\n",
       "\\end{description*}\n"
      ],
      "text/markdown": [
       "(Intercept)\n",
       ":   -2.11942968179327xCONT\n",
       ":   0.0127963773918441xINTG\n",
       ":   0.364840272014892xDMNR\n",
       ":   0.125399137854698xDILG\n",
       ":   0.0666909760662366xCFMG\n",
       ":   -0.194527026617029xDECI\n",
       ":   0.278292931605456xPREP\n",
       ":   -0.00196011133377008xFAMI\n",
       ":   -0.135790972195287xORAL\n",
       ":   0.547817679832884xWRIT\n",
       ":   -0.0680615953914752xPHYS\n",
       ":   0.268811919161933\n",
       "\n"
      ],
      "text/plain": [
       " (Intercept)        xCONT        xINTG        xDMNR        xDILG        xCFMG \n",
       "-2.119429682  0.012796377  0.364840272  0.125399138  0.066690976 -0.194527027 \n",
       "       xDECI        xPREP        xFAMI        xORAL        xWRIT        xPHYS \n",
       " 0.278292932 -0.001960111 -0.135790972  0.547817680 -0.068061595  0.268811919 "
      ]
     },
     "metadata": {},
     "output_type": "display_data"
    },
    {
     "data": {
      "text/html": [
       "<table>\n",
       "<thead><tr><th></th><th scope=col>2.5 %</th><th scope=col>97.5 %</th></tr></thead>\n",
       "<tbody>\n",
       "\t<tr><th scope=row>(Intercept)</th><td>-3.178010347</td><td>-1.06084902 </td></tr>\n",
       "\t<tr><th scope=row>xCONT</th><td>-0.039955335</td><td> 0.06554809 </td></tr>\n",
       "\t<tr><th scope=row>xINTG</th><td> 0.101011150</td><td> 0.62866939 </td></tr>\n",
       "\t<tr><th scope=row>xDMNR</th><td>-0.057571651</td><td> 0.30836993 </td></tr>\n",
       "\t<tr><th scope=row>xDILG</th><td>-0.225031708</td><td> 0.35841366 </td></tr>\n",
       "\t<tr><th scope=row>xCFMG</th><td>-0.495940888</td><td> 0.10688683 </td></tr>\n",
       "\t<tr><th scope=row>xDECI</th><td>-0.003683181</td><td> 0.56026904 </td></tr>\n",
       "\t<tr><th scope=row>xPREP</th><td>-0.491456059</td><td> 0.48753584 </td></tr>\n",
       "\t<tr><th scope=row>xFAMI</th><td>-0.680844080</td><td> 0.40926214 </td></tr>\n",
       "\t<tr><th scope=row>xORAL</th><td>-0.017628284</td><td> 1.11326364 </td></tr>\n",
       "\t<tr><th scope=row>xWRIT</th><td>-0.710196975</td><td> 0.57407378 </td></tr>\n",
       "\t<tr><th scope=row>xPHYS</th><td> 0.142088434</td><td> 0.39553540 </td></tr>\n",
       "</tbody>\n",
       "</table>\n"
      ],
      "text/latex": [
       "\\begin{tabular}{r|ll}\n",
       "  & 2.5 \\% & 97.5 \\%\\\\\n",
       "\\hline\n",
       "\t(Intercept) & -3.178010347 & -1.06084902 \\\\\n",
       "\txCONT & -0.039955335 &  0.06554809 \\\\\n",
       "\txINTG &  0.101011150 &  0.62866939 \\\\\n",
       "\txDMNR & -0.057571651 &  0.30836993 \\\\\n",
       "\txDILG & -0.225031708 &  0.35841366 \\\\\n",
       "\txCFMG & -0.495940888 &  0.10688683 \\\\\n",
       "\txDECI & -0.003683181 &  0.56026904 \\\\\n",
       "\txPREP & -0.491456059 &  0.48753584 \\\\\n",
       "\txFAMI & -0.680844080 &  0.40926214 \\\\\n",
       "\txORAL & -0.017628284 &  1.11326364 \\\\\n",
       "\txWRIT & -0.710196975 &  0.57407378 \\\\\n",
       "\txPHYS &  0.142088434 &  0.39553540 \\\\\n",
       "\\end{tabular}\n"
      ],
      "text/markdown": [
       "\n",
       "| <!--/--> | 2.5 % | 97.5 % |\n",
       "|---|---|---|\n",
       "| (Intercept) | -3.178010347 | -1.06084902  |\n",
       "| xCONT | -0.039955335 |  0.06554809  |\n",
       "| xINTG |  0.101011150 |  0.62866939  |\n",
       "| xDMNR | -0.057571651 |  0.30836993  |\n",
       "| xDILG | -0.225031708 |  0.35841366  |\n",
       "| xCFMG | -0.495940888 |  0.10688683  |\n",
       "| xDECI | -0.003683181 |  0.56026904  |\n",
       "| xPREP | -0.491456059 |  0.48753584  |\n",
       "| xFAMI | -0.680844080 |  0.40926214  |\n",
       "| xORAL | -0.017628284 |  1.11326364  |\n",
       "| xWRIT | -0.710196975 |  0.57407378  |\n",
       "| xPHYS |  0.142088434 |  0.39553540  |\n",
       "\n"
      ],
      "text/plain": [
       "            2.5 %        97.5 %     \n",
       "(Intercept) -3.178010347 -1.06084902\n",
       "xCONT       -0.039955335  0.06554809\n",
       "xINTG        0.101011150  0.62866939\n",
       "xDMNR       -0.057571651  0.30836993\n",
       "xDILG       -0.225031708  0.35841366\n",
       "xCFMG       -0.495940888  0.10688683\n",
       "xDECI       -0.003683181  0.56026904\n",
       "xPREP       -0.491456059  0.48753584\n",
       "xFAMI       -0.680844080  0.40926214\n",
       "xORAL       -0.017628284  1.11326364\n",
       "xWRIT       -0.710196975  0.57407378\n",
       "xPHYS        0.142088434  0.39553540"
      ]
     },
     "metadata": {},
     "output_type": "display_data"
    },
    {
     "data": {
      "text/html": [
       "<dl class=dl-horizontal>\n",
       "\t<dt>1</dt>\n",
       "\t\t<dd>0.167428295017044</dd>\n",
       "\t<dt>2</dt>\n",
       "\t\t<dd>0.159904302772648</dd>\n",
       "\t<dt>3</dt>\n",
       "\t\t<dd>0.131818800299843</dd>\n",
       "\t<dt>4</dt>\n",
       "\t\t<dd>-0.0721243487660769</dd>\n",
       "\t<dt>5</dt>\n",
       "\t\t<dd>-0.166351358367794</dd>\n",
       "\t<dt>6</dt>\n",
       "\t\t<dd>0.0344455088067175</dd>\n",
       "\t<dt>7</dt>\n",
       "\t\t<dd>-0.122867277430027</dd>\n",
       "\t<dt>8</dt>\n",
       "\t\t<dd>-0.035984506502978</dd>\n",
       "\t<dt>9</dt>\n",
       "\t\t<dd>-0.0414643392723508</dd>\n",
       "\t<dt>10</dt>\n",
       "\t\t<dd>0.105484916712862</dd>\n",
       "\t<dt>11</dt>\n",
       "\t\t<dd>0.0315661299294979</dd>\n",
       "\t<dt>12</dt>\n",
       "\t\t<dd>0.0279048489769697</dd>\n",
       "\t<dt>13</dt>\n",
       "\t\t<dd>-0.0066302843520421</dd>\n",
       "\t<dt>14</dt>\n",
       "\t\t<dd>0.121511625754103</dd>\n",
       "\t<dt>15</dt>\n",
       "\t\t<dd>-0.0707169454541466</dd>\n",
       "\t<dt>16</dt>\n",
       "\t\t<dd>0.0963751277156313</dd>\n",
       "\t<dt>17</dt>\n",
       "\t\t<dd>0.0966781230774998</dd>\n",
       "\t<dt>18</dt>\n",
       "\t\t<dd>0.0587324089912389</dd>\n",
       "\t<dt>19</dt>\n",
       "\t\t<dd>0.260791430392931</dd>\n",
       "\t<dt>20</dt>\n",
       "\t\t<dd>-0.0613783951036348</dd>\n",
       "\t<dt>21</dt>\n",
       "\t\t<dd>-0.0105476009574108</dd>\n",
       "\t<dt>22</dt>\n",
       "\t\t<dd>-0.0926140135370371</dd>\n",
       "\t<dt>23</dt>\n",
       "\t\t<dd>-0.0964022148655106</dd>\n",
       "\t<dt>24</dt>\n",
       "\t\t<dd>-0.0479617599866199</dd>\n",
       "\t<dt>25</dt>\n",
       "\t\t<dd>0.0279999236295551</dd>\n",
       "\t<dt>26</dt>\n",
       "\t\t<dd>-0.063366251055408</dd>\n",
       "\t<dt>27</dt>\n",
       "\t\t<dd>-0.014242307647406</dd>\n",
       "\t<dt>28</dt>\n",
       "\t\t<dd>-0.191822695590151</dd>\n",
       "\t<dt>29</dt>\n",
       "\t\t<dd>0.0253091921664977</dd>\n",
       "\t<dt>30</dt>\n",
       "\t\t<dd>-0.0179725261543004</dd>\n",
       "\t<dt>31</dt>\n",
       "\t\t<dd>-0.0144131915072458</dd>\n",
       "\t<dt>32</dt>\n",
       "\t\t<dd>0.114510447001218</dd>\n",
       "\t<dt>33</dt>\n",
       "\t\t<dd>-0.0617147924758255</dd>\n",
       "\t<dt>34</dt>\n",
       "\t\t<dd>-0.0608608819965285</dd>\n",
       "\t<dt>35</dt>\n",
       "\t\t<dd>0.0421019215183924</dd>\n",
       "\t<dt>36</dt>\n",
       "\t\t<dd>0.147460609559765</dd>\n",
       "\t<dt>37</dt>\n",
       "\t\t<dd>0.0421784996965396</dd>\n",
       "\t<dt>38</dt>\n",
       "\t\t<dd>-0.221232591120357</dd>\n",
       "\t<dt>39</dt>\n",
       "\t\t<dd>-0.0375263259888027</dd>\n",
       "\t<dt>40</dt>\n",
       "\t\t<dd>-0.000753779929522136</dd>\n",
       "\t<dt>41</dt>\n",
       "\t\t<dd>-0.00242778449423707</dd>\n",
       "\t<dt>42</dt>\n",
       "\t\t<dd>-0.120465634669108</dd>\n",
       "\t<dt>43</dt>\n",
       "\t\t<dd>-0.0603603047944356</dd>\n",
       "</dl>\n"
      ],
      "text/latex": [
       "\\begin{description*}\n",
       "\\item[1] 0.167428295017044\n",
       "\\item[2] 0.159904302772648\n",
       "\\item[3] 0.131818800299843\n",
       "\\item[4] -0.0721243487660769\n",
       "\\item[5] -0.166351358367794\n",
       "\\item[6] 0.0344455088067175\n",
       "\\item[7] -0.122867277430027\n",
       "\\item[8] -0.035984506502978\n",
       "\\item[9] -0.0414643392723508\n",
       "\\item[10] 0.105484916712862\n",
       "\\item[11] 0.0315661299294979\n",
       "\\item[12] 0.0279048489769697\n",
       "\\item[13] -0.0066302843520421\n",
       "\\item[14] 0.121511625754103\n",
       "\\item[15] -0.0707169454541466\n",
       "\\item[16] 0.0963751277156313\n",
       "\\item[17] 0.0966781230774998\n",
       "\\item[18] 0.0587324089912389\n",
       "\\item[19] 0.260791430392931\n",
       "\\item[20] -0.0613783951036348\n",
       "\\item[21] -0.0105476009574108\n",
       "\\item[22] -0.0926140135370371\n",
       "\\item[23] -0.0964022148655106\n",
       "\\item[24] -0.0479617599866199\n",
       "\\item[25] 0.0279999236295551\n",
       "\\item[26] -0.063366251055408\n",
       "\\item[27] -0.014242307647406\n",
       "\\item[28] -0.191822695590151\n",
       "\\item[29] 0.0253091921664977\n",
       "\\item[30] -0.0179725261543004\n",
       "\\item[31] -0.0144131915072458\n",
       "\\item[32] 0.114510447001218\n",
       "\\item[33] -0.0617147924758255\n",
       "\\item[34] -0.0608608819965285\n",
       "\\item[35] 0.0421019215183924\n",
       "\\item[36] 0.147460609559765\n",
       "\\item[37] 0.0421784996965396\n",
       "\\item[38] -0.221232591120357\n",
       "\\item[39] -0.0375263259888027\n",
       "\\item[40] -0.000753779929522136\n",
       "\\item[41] -0.00242778449423707\n",
       "\\item[42] -0.120465634669108\n",
       "\\item[43] -0.0603603047944356\n",
       "\\end{description*}\n"
      ],
      "text/markdown": [
       "1\n",
       ":   0.1674282950170442\n",
       ":   0.1599043027726483\n",
       ":   0.1318188002998434\n",
       ":   -0.07212434876607695\n",
       ":   -0.1663513583677946\n",
       ":   0.03444550880671757\n",
       ":   -0.1228672774300278\n",
       ":   -0.0359845065029789\n",
       ":   -0.041464339272350810\n",
       ":   0.10548491671286211\n",
       ":   0.031566129929497912\n",
       ":   0.027904848976969713\n",
       ":   -0.006630284352042114\n",
       ":   0.12151162575410315\n",
       ":   -0.070716945454146616\n",
       ":   0.096375127715631317\n",
       ":   0.096678123077499818\n",
       ":   0.058732408991238919\n",
       ":   0.26079143039293120\n",
       ":   -0.061378395103634821\n",
       ":   -0.010547600957410822\n",
       ":   -0.092614013537037123\n",
       ":   -0.096402214865510624\n",
       ":   -0.047961759986619925\n",
       ":   0.027999923629555126\n",
       ":   -0.06336625105540827\n",
       ":   -0.01424230764740628\n",
       ":   -0.19182269559015129\n",
       ":   0.025309192166497730\n",
       ":   -0.017972526154300431\n",
       ":   -0.014413191507245832\n",
       ":   0.11451044700121833\n",
       ":   -0.061714792475825534\n",
       ":   -0.060860881996528535\n",
       ":   0.042101921518392436\n",
       ":   0.14746060955976537\n",
       ":   0.042178499696539638\n",
       ":   -0.22123259112035739\n",
       ":   -0.037526325988802740\n",
       ":   -0.00075377992952213641\n",
       ":   -0.0024277844942370742\n",
       ":   -0.12046563466910843\n",
       ":   -0.0603603047944356\n",
       "\n"
      ],
      "text/plain": [
       "            1             2             3             4             5 \n",
       " 0.1674282950  0.1599043028  0.1318188003 -0.0721243488 -0.1663513584 \n",
       "            6             7             8             9            10 \n",
       " 0.0344455088 -0.1228672774 -0.0359845065 -0.0414643393  0.1054849167 \n",
       "           11            12            13            14            15 \n",
       " 0.0315661299  0.0279048490 -0.0066302844  0.1215116258 -0.0707169455 \n",
       "           16            17            18            19            20 \n",
       " 0.0963751277  0.0966781231  0.0587324090  0.2607914304 -0.0613783951 \n",
       "           21            22            23            24            25 \n",
       "-0.0105476010 -0.0926140135 -0.0964022149 -0.0479617600  0.0279999236 \n",
       "           26            27            28            29            30 \n",
       "-0.0633662511 -0.0142423076 -0.1918226956  0.0253091922 -0.0179725262 \n",
       "           31            32            33            34            35 \n",
       "-0.0144131915  0.1145104470 -0.0617147925 -0.0608608820  0.0421019215 \n",
       "           36            37            38            39            40 \n",
       " 0.1474606096  0.0421784997 -0.2212325911 -0.0375263260 -0.0007537799 \n",
       "           41            42            43 \n",
       "-0.0024277845 -0.1204656347 -0.0603603048 "
      ]
     },
     "metadata": {},
     "output_type": "display_data"
    },
    {
     "data": {
      "image/png": "[encoded data removed]",
      "text/plain": [
       "Plot with title \"Histogram of resid(reg_1)\""
      ]
     },
     "metadata": {},
     "output_type": "display_data"
    }
   ],
   "source": [
    "anova(reg_1)\n",
    "coef(reg_1)\n",
    "confint(reg_1)\n",
    "resid(reg_1)\n",
    "hist(resid(reg_1))"
   ]
  },
  {
   "cell_type": "markdown",
   "metadata": {},
   "source": [
    "## Least angle regression (LARS)\n",
    "## Classification and regression training (CARET)"
   ]
  },
  {
   "cell_type": "code",
   "execution_count": 168,
   "metadata": {},
   "outputs": [
    {
     "name": "stderr",
     "output_type": "stream",
     "text": [
      "Installing package into 'C:/Users/HP/Documents/R/win-library/3.6'\n",
      "(as 'lib' is unspecified)\n",
      "Warning message:\n",
      "\"unable to access index for repository http://www.stats.ox.ac.uk/pub/RWin/bin/windows/contrib/3.6:\n",
      "  cannot open URL 'http://www.stats.ox.ac.uk/pub/RWin/bin/windows/contrib/3.6/PACKAGES'\""
     ]
    },
    {
     "name": "stdout",
     "output_type": "stream",
     "text": [
      "package 'lars' successfully unpacked and MD5 sums checked\n",
      "\n",
      "The downloaded binary packages are in\n",
      "\tC:\\Users\\HP\\AppData\\Local\\Temp\\Rtmp8Y3Hmf\\downloaded_packages\n"
     ]
    },
    {
     "name": "stderr",
     "output_type": "stream",
     "text": [
      "\n",
      "lars installed\n"
     ]
    }
   ],
   "source": [
    "# library(lars)\n",
    "# library(caret)\n",
    "pacman::p_load(lars, caret)"
   ]
  },
  {
   "cell_type": "code",
   "execution_count": 169,
   "metadata": {},
   "outputs": [],
   "source": [
    "library(lars)\n",
    "library(caret)"
   ]
  },
  {
   "cell_type": "code",
   "execution_count": 184,
   "metadata": {},
   "outputs": [
    {
     "data": {
      "text/html": [
       "<strong>5:</strong> 0.99"
      ],
      "text/latex": [
       "\\textbf{5:} 0.99"
      ],
      "text/markdown": [
       "**5:** 0.99"
      ],
      "text/plain": [
       "   5 \n",
       "0.99 "
      ]
     },
     "metadata": {},
     "output_type": "display_data"
    },
    {
     "data": {
      "text/html": [
       "<strong>5:</strong> 0.99"
      ],
      "text/latex": [
       "\\textbf{5:} 0.99"
      ],
      "text/markdown": [
       "**5:** 0.99"
      ],
      "text/plain": [
       "   5 \n",
       "0.99 "
      ]
     },
     "metadata": {},
     "output_type": "display_data"
    },
    {
     "data": {
      "text/html": [
       "<strong>5:</strong> 0.99"
      ],
      "text/latex": [
       "\\textbf{5:} 0.99"
      ],
      "text/markdown": [
       "**5:** 0.99"
      ],
      "text/plain": [
       "   5 \n",
       "0.99 "
      ]
     },
     "metadata": {},
     "output_type": "display_data"
    }
   ],
   "source": [
    "stepwise <- lars(x, y, type='stepwise')\n",
    "forward <- lars(x, y, type='forward.stagewise')\n",
    "lar <- lars(x, y, type='lar')\n",
    "stepwise$R2[6] %>% round(2)\n",
    "forward$R2[6] %>% round(2)\n",
    "lar$R2[6] %>% round(2)"
   ]
  }
 ],
 "metadata": {
  "kernelspec": {
   "display_name": "R",
   "language": "R",
   "name": "ir"
  },
  "language_info": {
   "codemirror_mode": "r",
   "file_extension": ".r",
   "mimetype": "text/x-r-source",
   "name": "R",
   "pygments_lexer": "r",
   "version": "3.6.0"
  }
 },
 "nbformat": 4,
 "nbformat_minor": 2
}
